{
  "nbformat": 4,
  "nbformat_minor": 0,
  "metadata": {
    "accelerator": "GPU",
    "colab": {
      "name": "LSTM.ipynb",
      "provenance": [],
      "collapsed_sections": []
    },
    "kernelspec": {
      "display_name": "Python 3",
      "name": "python3"
    },
    "language_info": {
      "name": "python"
    }
  },
  "cells": [
    {
      "cell_type": "code",
      "metadata": {
        "id": "brM3gY7gzTct"
      },
      "source": [
        "#Import Libraries\n",
        "import pandas as pd\n",
        "import nltk as nltk\n",
        "import numpy\n",
        "from nltk.corpus import stopwords\n",
        "import keras\n",
        "import re\n",
        "import string\n",
        "from keras.utils.vis_utils import plot_model\n",
        "from keras import backend as K\n",
        "from keras.models import Sequential, Model\n",
        "from keras.layers import Dense, LSTM, Input, Activation, Dropout\n",
        "from keras.optimizers import RMSprop, Adam\n",
        "from sklearn.feature_extraction.text import CountVectorizer\n",
        "from keras.layers.embeddings import Embedding\n"
      ],
      "execution_count": 1,
      "outputs": []
    },
    {
      "cell_type": "code",
      "metadata": {
        "colab": {
          "base_uri": "https://localhost:8080/"
        },
        "id": "9JzW021pagEl",
        "outputId": "9dc2d1a9-8d11-49a5-bd5f-994aeac1b38f"
      },
      "source": [
        "nltk.download('stopwords')"
      ],
      "execution_count": 2,
      "outputs": [
        {
          "output_type": "stream",
          "text": [
            "[nltk_data] Downloading package stopwords to /root/nltk_data...\n",
            "[nltk_data]   Package stopwords is already up-to-date!\n"
          ],
          "name": "stdout"
        },
        {
          "output_type": "execute_result",
          "data": {
            "text/plain": [
              "True"
            ]
          },
          "metadata": {
            "tags": []
          },
          "execution_count": 2
        }
      ]
    },
    {
      "cell_type": "code",
      "metadata": {
        "colab": {
          "base_uri": "https://localhost:8080/"
        },
        "id": "4cUAoA17TBmS",
        "outputId": "ffb6d8e2-8b0a-4ade-a5a6-ee457dc2d1c4"
      },
      "source": [
        "#Mount drive to access files in gdrive\n",
        "from google.colab import drive\n",
        "drive.mount('/content/gdrive', force_remount=True)"
      ],
      "execution_count": 3,
      "outputs": [
        {
          "output_type": "stream",
          "text": [
            "Mounted at /content/gdrive\n"
          ],
          "name": "stdout"
        }
      ]
    },
    {
      "cell_type": "code",
      "metadata": {
        "id": "vF0votvXSwka"
      },
      "source": [
        "# Read Train, Test and Gold dataset\n",
        "df_train = pd.read_csv(\"/content/gdrive/MyDrive/NLP_Project/train.csv\")\n",
        "df_test = pd.read_csv(\"/content/gdrive/MyDrive/NLP_Project/dev.csv\")\n",
        "df_gold = pd.read_csv(\"/content/gdrive/MyDrive/NLP_Project/gold-test.csv\")"
      ],
      "execution_count": 4,
      "outputs": []
    },
    {
      "cell_type": "code",
      "metadata": {
        "id": "F_SohIgUe1Kn"
      },
      "source": [
        "# Preprocessing data lowercase and removing hyperlinks and stopwords\n",
        "stop_words = set(stopwords.words('english'))  \n",
        "def preProcessData(data_frame):\n",
        "    data_frame['text'] = (data_frame['text']).str.lower()\n",
        "    data_frame['text'] = data_frame['text'].apply(lambda x: re.sub(r\"^https?:\\/\\/.*[\\r\\n]*\", \"\", x, flags=re.MULTILINE))\n",
        "    data_frame['text'] = data_frame['text'].apply(lambda x: ' '.join([word for word in x.split() if word not in (stop_words)]))\n",
        "    return data_frame"
      ],
      "execution_count": 5,
      "outputs": []
    },
    {
      "cell_type": "code",
      "metadata": {
        "id": "I1POJYvaeteb"
      },
      "source": [
        "# Creating train, test and gold labels\n",
        "X_train = preProcessData(df_train)['text']\n",
        "X_test = preProcessData(df_test)['text']\n",
        "X_gold = preProcessData(df_gold)['text']\n",
        "Y_train = df_train['is_humor']\n",
        "Y_test = df_test['is_humor']\n",
        "Y_gold = df_gold['is_humor']"
      ],
      "execution_count": 6,
      "outputs": []
    },
    {
      "cell_type": "code",
      "metadata": {
        "id": "BZAgBv5htfVV"
      },
      "source": [
        "# Bag-of-words vectorization\n",
        "cv = CountVectorizer() \n",
        "vect = cv.fit(X_train)\n",
        "Bagofwords_train = vect.transform(X_train).toarray()\n",
        "Bagofwords_test = cv.transform(X_test).toarray()\n",
        "Bagofwords_gold = cv.transform(X_gold).toarray()\n"
      ],
      "execution_count": 7,
      "outputs": []
    },
    {
      "cell_type": "code",
      "metadata": {
        "id": "tQ19KsaDVHll"
      },
      "source": [
        "# Metrics Calculation\n",
        "\n",
        "def recall_m(y_true, y_pred):\n",
        "    true_positives = K.sum(K.round(K.clip(y_true * y_pred, 0, 1)))\n",
        "    possible_positives = K.sum(K.round(K.clip(y_true, 0, 1)))\n",
        "    recall = true_positives / (possible_positives + K.epsilon())\n",
        "    print(recall)\n",
        "    return recall\n",
        "# calculating precision\n",
        "def precision_m(y_true, y_pred):\n",
        "    true_positives = K.sum(K.round(K.clip(y_true * y_pred, 0, 1)))\n",
        "    predicted_positives = K.sum(K.round(K.clip(y_pred, 0, 1)))\n",
        "    precision = true_positives / (predicted_positives + K.epsilon())\n",
        "    print('precesion', precision)\n",
        "    return precision\n",
        "# calculating F1 Score\n",
        "def f1_m(y_true, y_pred):\n",
        "    precision = precision_m(y_true, y_pred)\n",
        "    recall = recall_m(y_true, y_pred)\n",
        "    return 2*((precision*recall)/(precision+recall+K.epsilon()))"
      ],
      "execution_count": 8,
      "outputs": []
    },
    {
      "cell_type": "code",
      "metadata": {
        "colab": {
          "base_uri": "https://localhost:8080/"
        },
        "id": "XPmT4vMJiZpr",
        "outputId": "b12c2020-92ba-49ae-e285-c6b8adaf7efb"
      },
      "source": [
        "%%time\n",
        "# Initializing Model \n",
        "model = Sequential()\n",
        "model.add(Embedding(100000, 100, input_length=50, trainable=False))\n",
        "model.add(LSTM(100))\n",
        "model.add(Dense(128, activation='relu'))\n",
        "model.add(Dropout(0.2))\n",
        "model.add(Dense(1, activation='sigmoid'))\n",
        "model.summary()\n",
        "model.compile(loss='binary_crossentropy', optimizer='adam', metrics=['binary_accuracy',f1_m, precision_m, recall_m])"
      ],
      "execution_count": 9,
      "outputs": [
        {
          "output_type": "stream",
          "text": [
            "Model: \"sequential\"\n",
            "_________________________________________________________________\n",
            "Layer (type)                 Output Shape              Param #   \n",
            "=================================================================\n",
            "embedding (Embedding)        (None, 50, 100)           10000000  \n",
            "_________________________________________________________________\n",
            "lstm (LSTM)                  (None, 100)               80400     \n",
            "_________________________________________________________________\n",
            "dense (Dense)                (None, 128)               12928     \n",
            "_________________________________________________________________\n",
            "dropout (Dropout)            (None, 128)               0         \n",
            "_________________________________________________________________\n",
            "dense_1 (Dense)              (None, 1)                 129       \n",
            "=================================================================\n",
            "Total params: 10,093,457\n",
            "Trainable params: 93,457\n",
            "Non-trainable params: 10,000,000\n",
            "_________________________________________________________________\n",
            "CPU times: user 716 ms, sys: 351 ms, total: 1.07 s\n",
            "Wall time: 1.01 s\n"
          ],
          "name": "stdout"
        }
      ]
    },
    {
      "cell_type": "code",
      "metadata": {
        "colab": {
          "base_uri": "https://localhost:8080/"
        },
        "id": "7AQbxwUq69I9",
        "outputId": "abca54e4-60a8-4957-9fa4-6ae64e446d79"
      },
      "source": [
        "# Training the model\n",
        "%%time\n",
        "model.fit(Bagofwords_train,  Y_train, epochs=7, batch_size= 128)"
      ],
      "execution_count": 10,
      "outputs": [
        {
          "output_type": "stream",
          "text": [
            "Epoch 1/7\n",
            "WARNING:tensorflow:Model was constructed with shape (None, 50) for input KerasTensor(type_spec=TensorSpec(shape=(None, 50), dtype=tf.float32, name='embedding_input'), name='embedding_input', description=\"created by layer 'embedding_input'\"), but it was called on an input with incompatible shape (None, 14495).\n",
            "precesion Tensor(\"truediv:0\", shape=(), dtype=float32)\n",
            "Tensor(\"truediv_1:0\", shape=(), dtype=float32)\n",
            "precesion Tensor(\"truediv_3:0\", shape=(), dtype=float32)\n",
            "Tensor(\"truediv_4:0\", shape=(), dtype=float32)\n",
            "WARNING:tensorflow:Model was constructed with shape (None, 50) for input KerasTensor(type_spec=TensorSpec(shape=(None, 50), dtype=tf.float32, name='embedding_input'), name='embedding_input', description=\"created by layer 'embedding_input'\"), but it was called on an input with incompatible shape (None, 14495).\n",
            "precesion Tensor(\"truediv:0\", shape=(), dtype=float32)\n",
            "Tensor(\"truediv_1:0\", shape=(), dtype=float32)\n",
            "precesion Tensor(\"truediv_3:0\", shape=(), dtype=float32)\n",
            "Tensor(\"truediv_4:0\", shape=(), dtype=float32)\n",
            "63/63 [==============================] - 80s 971ms/step - loss: 0.6726 - binary_accuracy: 0.6065 - f1_m: 0.7511 - precision_m: 0.6130 - recall_m: 0.9762\n",
            "Epoch 2/7\n",
            "63/63 [==============================] - 61s 963ms/step - loss: 0.6661 - binary_accuracy: 0.6184 - f1_m: 0.7632 - precision_m: 0.6184 - recall_m: 1.0000\n",
            "Epoch 3/7\n",
            "63/63 [==============================] - 61s 964ms/step - loss: 0.6634 - binary_accuracy: 0.6226 - f1_m: 0.7669 - precision_m: 0.6226 - recall_m: 1.0000\n",
            "Epoch 4/7\n",
            "63/63 [==============================] - 61s 966ms/step - loss: 0.6667 - binary_accuracy: 0.6152 - f1_m: 0.7610 - precision_m: 0.6152 - recall_m: 1.0000\n",
            "Epoch 5/7\n",
            "63/63 [==============================] - 61s 965ms/step - loss: 0.6677 - binary_accuracy: 0.6162 - f1_m: 0.7618 - precision_m: 0.6161 - recall_m: 1.0000\n",
            "Epoch 6/7\n",
            "63/63 [==============================] - 61s 964ms/step - loss: 0.6702 - binary_accuracy: 0.6089 - f1_m: 0.7561 - precision_m: 0.6089 - recall_m: 1.0000\n",
            "Epoch 7/7\n",
            "63/63 [==============================] - 61s 965ms/step - loss: 0.6666 - binary_accuracy: 0.6171 - f1_m: 0.7622 - precision_m: 0.6171 - recall_m: 1.0000\n",
            "CPU times: user 6min 47s, sys: 36.3 s, total: 7min 23s\n",
            "Wall time: 7min 24s\n"
          ],
          "name": "stdout"
        },
        {
          "output_type": "execute_result",
          "data": {
            "text/plain": [
              "<keras.callbacks.History at 0x7f6eb20f1990>"
            ]
          },
          "metadata": {
            "tags": []
          },
          "execution_count": 10
        }
      ]
    },
    {
      "cell_type": "code",
      "metadata": {
        "colab": {
          "base_uri": "https://localhost:8080/",
          "height": 644
        },
        "id": "GYy3OLB6G4oD",
        "outputId": "3b3e8fcf-b259-460b-e6fc-c0a5ecf8849c"
      },
      "source": [
        "# Plotting model\n",
        "plot_model(model, to_file='model_plot.png', show_shapes=True, show_layer_names=True)"
      ],
      "execution_count": 11,
      "outputs": [
        {
          "output_type": "execute_result",
          "data": {
            "image/png": "[encoded data removed]",
            "text/plain": [
              "<IPython.core.display.Image object>"
            ]
          },
          "metadata": {
            "tags": []
          },
          "execution_count": 11
        }
      ]
    },
    {
      "cell_type": "code",
      "metadata": {
        "colab": {
          "base_uri": "https://localhost:8080/"
        },
        "id": "ZgpyUkLPQ7rZ",
        "outputId": "a0eb177e-9886-4498-f214-066a5921182b"
      },
      "source": [
        "# Evaluating Model\n",
        "test_accuracy = model.evaluate(Bagofwords_test, Y_test)\n",
        "gold_accuracy = model.evaluate(Bagofwords_gold, Y_gold)\n",
        "\n",
        "print('Test set\\n  Loss: {:0.3f}\\n  Accuracy: {:0.3f}\\n F1 Score:{:0.3f}'.format(test_accuracy[0],test_accuracy[1], test_accuracy[2]))\n",
        "print('Gold set\\n  Loss: {:0.3f}\\n  Accuracy: {:0.3f}\\n F1 Score:{:0.3f}'.format(gold_accuracy[0],gold_accuracy[1], gold_accuracy[2]))"
      ],
      "execution_count": 12,
      "outputs": [
        {
          "output_type": "stream",
          "text": [
            "WARNING:tensorflow:Model was constructed with shape (None, 50) for input KerasTensor(type_spec=TensorSpec(shape=(None, 50), dtype=tf.float32, name='embedding_input'), name='embedding_input', description=\"created by layer 'embedding_input'\"), but it was called on an input with incompatible shape (None, 14495).\n",
            "precesion Tensor(\"truediv:0\", shape=(), dtype=float32)\n",
            "Tensor(\"truediv_1:0\", shape=(), dtype=float32)\n",
            "precesion Tensor(\"truediv_3:0\", shape=(), dtype=float32)\n",
            "Tensor(\"truediv_4:0\", shape=(), dtype=float32)\n",
            "32/32 [==============================] - 8s 215ms/step - loss: 0.6589 - binary_accuracy: 0.6320 - f1_m: 0.7711 - precision_m: 0.6318 - recall_m: 1.0000\n",
            "32/32 [==============================] - 7s 217ms/step - loss: 0.6665 - binary_accuracy: 0.6150 - f1_m: 0.7616 - precision_m: 0.6211 - recall_m: 1.0000\n",
            "Test set\n",
            "  Loss: 0.659\n",
            "  Accuracy: 0.632\n",
            " F1 Score:0.771\n",
            "Gold set\n",
            "  Loss: 0.667\n",
            "  Accuracy: 0.615\n",
            " F1 Score:0.762\n"
          ],
          "name": "stdout"
        }
      ]
    }
  ]
}