{
  "nbformat": 4,
  "nbformat_minor": 0,
  "metadata": {
    "accelerator": "GPU",
    "colab": {
      "name": "GRU+Glove.ipynb",
      "provenance": [],
      "collapsed_sections": []
    },
    "kernelspec": {
      "display_name": "Python 3",
      "name": "python3"
    },
    "language_info": {
      "name": "python"
    }
  },
  "cells": [
    {
      "cell_type": "code",
      "metadata": {
        "id": "mYVAUCyZpzk4"
      },
      "source": [
        "# Importing Libraries\n",
        "import pandas as pd\n",
        "import numpy as np\n",
        "from keras.layers import Dense, LSTM, GRU, Dropout, Activation\n",
        "from keras.layers.embeddings import Embedding\n",
        "from keras.models import Model\n",
        "import string\n",
        "import re\n",
        "import keras\n",
        "from keras.preprocessing.text import Tokenizer\n",
        "from keras.models import Sequential\n",
        "from keras import backend as K\n",
        "from keras.preprocessing.sequence import pad_sequences\n"
      ],
      "execution_count": 23,
      "outputs": []
    },
    {
      "cell_type": "code",
      "metadata": {
        "colab": {
          "base_uri": "https://localhost:8080/"
        },
        "id": "w8WC7ACVNFBE",
        "outputId": "b5d94ee3-43db-4d19-ce49-99dc7f2baf83"
      },
      "source": [
        "#Mount drive to access files in gdrive\n",
        "from google.colab import drive\n",
        "drive.mount('/content/gdrive', force_remount=True)"
      ],
      "execution_count": 24,
      "outputs": [
        {
          "output_type": "stream",
          "text": [
            "Mounted at /content/gdrive\n"
          ],
          "name": "stdout"
        }
      ]
    },
    {
      "cell_type": "code",
      "metadata": {
        "id": "JQn9vBzRp_Mu"
      },
      "source": [
        "# Read Train, Test and Gold dataset\n",
        "df_train = pd.read_csv(\"/content/gdrive/MyDrive/NLP_Project/train.csv\")\n",
        "df_test = pd.read_csv(\"/content/gdrive/MyDrive/NLP_Project/dev.csv\")\n",
        "df_gold = pd.read_csv(\"/content/gdrive/MyDrive/NLP_Project/gold-test.csv\")"
      ],
      "execution_count": 25,
      "outputs": []
    },
    {
      "cell_type": "code",
      "metadata": {
        "id": "r5byNkGwqMz9"
      },
      "source": [
        "# Function removing tags\n",
        "def remove_tags(string):\n",
        "    result = re.sub('<.*?>','',string)\n",
        "    return result"
      ],
      "execution_count": 26,
      "outputs": []
    },
    {
      "cell_type": "code",
      "metadata": {
        "id": "w9nonJ7VdKUq"
      },
      "source": [
        "# Preprocessing data lowercase and removing hyperlinks\n",
        "def preProcessData(data_frame):\n",
        "    data_frame['text'] = (data_frame['text']).str.lower()\n",
        "    data_frame['text'] = data_frame['text'].apply(lambda cw : remove_tags(cw))\n",
        "    return data_frame"
      ],
      "execution_count": 27,
      "outputs": []
    },
    {
      "cell_type": "code",
      "metadata": {
        "id": "OKsTJ5FynO2u"
      },
      "source": [
        "# Creating train, test and gold labels\n",
        "X_train = preProcessData(df_train)['text']\n",
        "X_test = preProcessData(df_test)['text']\n",
        "X_gold = preProcessData(df_gold)['text']\n",
        "Y_train = df_train['is_humor']\n",
        "Y_test = df_test['is_humor']\n",
        "Y_gold = df_gold['is_humor']"
      ],
      "execution_count": 28,
      "outputs": []
    },
    {
      "cell_type": "code",
      "metadata": {
        "id": "KwWPPtH2x5L9"
      },
      "source": [
        "# Tokenizing the sentences and adding padding\n",
        "vocabulary_size = 20000\n",
        "tokenizer = Tokenizer(num_words= vocabulary_size)\n",
        "tokenizer.fit_on_texts(X_train)\n",
        "\n",
        "sequences_train = tokenizer.texts_to_sequences(X_train)\n",
        "seq_matrix_train = pad_sequences(sequences_train, maxlen=200)\n",
        "\n",
        "sequences_test = tokenizer.texts_to_sequences(X_test)\n",
        "seq_matrix_test = pad_sequences(sequences_test, maxlen= 200)\n",
        "\n",
        "sequences_gold = tokenizer.texts_to_sequences(X_gold)\n",
        "seq_matrix_gold = pad_sequences(sequences_gold, maxlen= 200)"
      ],
      "execution_count": 29,
      "outputs": []
    },
    {
      "cell_type": "code",
      "metadata": {
        "colab": {
          "base_uri": "https://localhost:8080/"
        },
        "id": "rFIeklYtyG5s",
        "outputId": "d53624ab-e3b1-4148-8d90-fa37166c46be"
      },
      "source": [
        "# Reading GloVe Embeddings\n",
        "embeddings_index = dict()\n",
        "f = open('/content/gdrive/MyDrive/NLP_Project/glove.6B.300d.txt')\n",
        "for line in f:\n",
        "    values = line.split()\n",
        "    word = values[0]\n",
        "    coefs = np.asarray(values[1:], dtype='float32')\n",
        "    embeddings_index[word] = coefs\n",
        "f.close()\n",
        "print('Loaded %s word vectors.' % len(embeddings_index))\n",
        "\n"
      ],
      "execution_count": 31,
      "outputs": [
        {
          "output_type": "stream",
          "text": [
            "Loaded 400000 word vectors.\n"
          ],
          "name": "stdout"
        }
      ]
    },
    {
      "cell_type": "code",
      "metadata": {
        "id": "KnWzssSNyTnx"
      },
      "source": [
        "# Creating weight matrix \n",
        "embedding_matrix = np.zeros((vocabulary_size, 300))\n",
        "for word, index in tokenizer.word_index.items():\n",
        "    if index > vocabulary_size - 1:\n",
        "        break\n",
        "    else:\n",
        "        embedding_vector = embeddings_index.get(word)\n",
        "        if embedding_vector is not None:\n",
        "            embedding_matrix[index] = embedding_vector"
      ],
      "execution_count": 32,
      "outputs": []
    },
    {
      "cell_type": "code",
      "metadata": {
        "id": "xJ0l8xHCytD-"
      },
      "source": [
        "# Metrics to evaluate model\n",
        "\n",
        "def recall_m(y_true, y_pred):\n",
        "    true_positives = K.sum(K.round(K.clip(y_true * y_pred, 0, 1)))\n",
        "    possible_positives = K.sum(K.round(K.clip(y_true, 0, 1)))\n",
        "    recall = true_positives / (possible_positives + K.epsilon())\n",
        "    return recall\n",
        "\n",
        "def precision_m(y_true, y_pred):\n",
        "    true_positives = K.sum(K.round(K.clip(y_true * y_pred, 0, 1)))\n",
        "    predicted_positives = K.sum(K.round(K.clip(y_pred, 0, 1)))\n",
        "    precision = true_positives / (predicted_positives + K.epsilon())\n",
        "    return precision\n",
        "\n",
        "def f1_m(y_true, y_pred):\n",
        "    precision = precision_m(y_true, y_pred)\n",
        "    recall = recall_m(y_true, y_pred)\n",
        "    return 2*((precision*recall)/(precision+recall+K.epsilon()))\n",
        "\n"
      ],
      "execution_count": 34,
      "outputs": []
    },
    {
      "cell_type": "code",
      "metadata": {
        "colab": {
          "base_uri": "https://localhost:8080/"
        },
        "id": "-SV_k8ZJyaX3",
        "outputId": "d9c8d165-b547-44d3-cca8-c0f8428015e9"
      },
      "source": [
        "%%time\n",
        "# Initializing Model \n",
        "model = Sequential()\n",
        "model.add(Embedding(vocabulary_size, 300, input_length=50, weights=[embedding_matrix], trainable=False))\n",
        "model.add(Dropout(0.2))\n",
        "model.add(LSTM(100))\n",
        "model.add(Dense(1, activation='sigmoid'))\n",
        "model.summary()\n",
        "model_glove.compile(loss='binary_crossentropy', optimizer='adam', metrics=['binary_accuracy',f1_m, precision_m, recall_m])"
      ],
      "execution_count": 35,
      "outputs": [
        {
          "output_type": "stream",
          "text": [
            "Model: \"sequential_4\"\n",
            "_________________________________________________________________\n",
            "Layer (type)                 Output Shape              Param #   \n",
            "=================================================================\n",
            "embedding_4 (Embedding)      (None, 50, 300)           6000000   \n",
            "_________________________________________________________________\n",
            "dropout_3 (Dropout)          (None, 50, 300)           0         \n",
            "_________________________________________________________________\n",
            "lstm_3 (LSTM)                (None, 100)               160400    \n",
            "_________________________________________________________________\n",
            "dense_3 (Dense)              (None, 1)                 101       \n",
            "=================================================================\n",
            "Total params: 6,160,501\n",
            "Trainable params: 160,501\n",
            "Non-trainable params: 6,000,000\n",
            "_________________________________________________________________\n",
            "CPU times: user 327 ms, sys: 54.7 ms, total: 382 ms\n",
            "Wall time: 348 ms\n"
          ],
          "name": "stdout"
        }
      ]
    },
    {
      "cell_type": "code",
      "metadata": {
        "id": "_pINu3QDgfMQ",
        "colab": {
          "base_uri": "https://localhost:8080/"
        },
        "outputId": "a2a45081-88c3-469f-e9c7-a597eedd3ef2"
      },
      "source": [
        "%%time\n",
        "# Training the model\n",
        "model_glove.fit(seq_matrix_train, df_train['is_humor'], epochs = 10, batch_size= 128)"
      ],
      "execution_count": 36,
      "outputs": [
        {
          "output_type": "stream",
          "text": [
            "Epoch 1/10\n",
            "WARNING:tensorflow:Model was constructed with shape (None, 50) for input KerasTensor(type_spec=TensorSpec(shape=(None, 50), dtype=tf.float32, name='embedding_2_input'), name='embedding_2_input', description=\"created by layer 'embedding_2_input'\"), but it was called on an input with incompatible shape (None, 200).\n",
            "WARNING:tensorflow:Model was constructed with shape (None, 50) for input KerasTensor(type_spec=TensorSpec(shape=(None, 50), dtype=tf.float32, name='embedding_2_input'), name='embedding_2_input', description=\"created by layer 'embedding_2_input'\"), but it was called on an input with incompatible shape (None, 200).\n",
            "63/63 [==============================] - 4s 26ms/step - loss: 0.5657 - binary_accuracy: 0.7041 - f1_m: 0.7931 - precision_m: 0.7110 - recall_m: 0.9177\n",
            "Epoch 2/10\n",
            "63/63 [==============================] - 2s 24ms/step - loss: 0.3703 - binary_accuracy: 0.8324 - f1_m: 0.8677 - precision_m: 0.8538 - recall_m: 0.8868\n",
            "Epoch 3/10\n",
            "63/63 [==============================] - 2s 24ms/step - loss: 0.3206 - binary_accuracy: 0.8621 - f1_m: 0.8859 - precision_m: 0.8880 - recall_m: 0.8866\n",
            "Epoch 4/10\n",
            "63/63 [==============================] - 2s 24ms/step - loss: 0.2694 - binary_accuracy: 0.8859 - f1_m: 0.9078 - precision_m: 0.9109 - recall_m: 0.9080\n",
            "Epoch 5/10\n",
            "63/63 [==============================] - 2s 24ms/step - loss: 0.2388 - binary_accuracy: 0.8988 - f1_m: 0.9182 - precision_m: 0.9110 - recall_m: 0.9272\n",
            "Epoch 6/10\n",
            "63/63 [==============================] - 1s 24ms/step - loss: 0.2226 - binary_accuracy: 0.9068 - f1_m: 0.9255 - precision_m: 0.9230 - recall_m: 0.9297\n",
            "Epoch 7/10\n",
            "63/63 [==============================] - 1s 24ms/step - loss: 0.2048 - binary_accuracy: 0.9158 - f1_m: 0.9322 - precision_m: 0.9291 - recall_m: 0.9372\n",
            "Epoch 8/10\n",
            "63/63 [==============================] - 1s 23ms/step - loss: 0.1777 - binary_accuracy: 0.9267 - f1_m: 0.9402 - precision_m: 0.9390 - recall_m: 0.9428\n",
            "Epoch 9/10\n",
            "63/63 [==============================] - 1s 24ms/step - loss: 0.1588 - binary_accuracy: 0.9364 - f1_m: 0.9481 - precision_m: 0.9454 - recall_m: 0.9517\n",
            "Epoch 10/10\n",
            "63/63 [==============================] - 1s 23ms/step - loss: 0.1451 - binary_accuracy: 0.9414 - f1_m: 0.9515 - precision_m: 0.9485 - recall_m: 0.9557\n",
            "CPU times: user 16.8 s, sys: 615 ms, total: 17.4 s\n",
            "Wall time: 22.5 s\n"
          ],
          "name": "stdout"
        },
        {
          "output_type": "execute_result",
          "data": {
            "text/plain": [
              "<keras.callbacks.History at 0x7f4b930054d0>"
            ]
          },
          "metadata": {
            "tags": []
          },
          "execution_count": 36
        }
      ]
    },
    {
      "cell_type": "code",
      "metadata": {
        "colab": {
          "base_uri": "https://localhost:8080/"
        },
        "id": "hkFCtvYgcJnK",
        "outputId": "80c602f6-c14a-431c-fd01-17fa9a68dace"
      },
      "source": [
        "# Evaluating model for gold and test data\n",
        "gold_accuracy = model_glove.evaluate(seq_matrix_gold, Y_gold)\n",
        "test_accuracy = model_glove.evaluate(seq_matrix_test, Y_test)\n",
        "print('Test set\\n  Loss: {:0.3f}\\n  Accuracy: {:0.3f}\\n F1 Score:{:0.3f}'.format(test_accuracy[0],test_accuracy[1]*100, test_accuracy[2]))\n",
        "print('Gold set\\n  Loss: {:0.3f}\\n  Accuracy: {:0.3f}\\n F1 Score:{:0.3f}'.format(gold_accuracy[0],gold_accuracy[1]*100, gold_accuracy[2]))"
      ],
      "execution_count": 37,
      "outputs": [
        {
          "output_type": "stream",
          "text": [
            "WARNING:tensorflow:Model was constructed with shape (None, 50) for input KerasTensor(type_spec=TensorSpec(shape=(None, 50), dtype=tf.float32, name='embedding_2_input'), name='embedding_2_input', description=\"created by layer 'embedding_2_input'\"), but it was called on an input with incompatible shape (None, 200).\n",
            "32/32 [==============================] - 1s 10ms/step - loss: 0.3982 - binary_accuracy: 0.8550 - f1_m: 0.8863 - precision_m: 0.8658 - recall_m: 0.9114\n",
            "32/32 [==============================] - 0s 8ms/step - loss: 0.4393 - binary_accuracy: 0.8280 - f1_m: 0.8660 - precision_m: 0.8320 - recall_m: 0.9085\n",
            "Test set\n",
            "  Loss: 0.439\n",
            "  Accuracy: 82.800\n",
            " F1 Score:0.866\n",
            "Gold set\n",
            "  Loss: 0.398\n",
            "  Accuracy: 85.500\n",
            " F1 Score:0.886\n"
          ],
          "name": "stdout"
        }
      ]
    }
  ]
}