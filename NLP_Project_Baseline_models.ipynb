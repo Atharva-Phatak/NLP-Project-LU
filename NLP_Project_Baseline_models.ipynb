{
  "nbformat": 4,
  "nbformat_minor": 0,
  "metadata": {
    "colab": {
      "name": "NLP Project Baseline models.ipynb",
      "provenance": []
    },
    "kernelspec": {
      "name": "python3",
      "display_name": "Python 3"
    },
    "language_info": {
      "name": "python"
    }
  },
  "cells": [
    {
      "cell_type": "code",
      "metadata": {
        "id": "zOvKSFkDfAhY"
      },
      "source": [
        "import pandas as pd\n",
        "import numpy as np\n",
        "import re\n",
        "from sklearn.preprocessing import LabelEncoder\n",
        "from sklearn.feature_extraction.text import TfidfVectorizer\n",
        "from sklearn import model_selection, naive_bayes, svm\n",
        "from sklearn.metrics import accuracy_score, f1_score"
      ],
      "execution_count": 1,
      "outputs": []
    },
    {
      "cell_type": "code",
      "metadata": {
        "id": "yOzxDIFmfB--"
      },
      "source": [
        "df = pd.read_csv(\"/content/train.csv\")\n",
        "df_dev = pd.read_csv(\"/content/dev.csv\")\n",
        "df_test = pd.read_csv(\"/content/test.csv\")"
      ],
      "execution_count": 2,
      "outputs": []
    },
    {
      "cell_type": "code",
      "metadata": {
        "id": "1cGMI6b7fCVW"
      },
      "source": [
        "x = df.text\n",
        "y = df.is_humor\n",
        "\n",
        "dev_X = df_dev.text\n",
        "dev_Y = df_dev.is_humor\n",
        "\n",
        "gold_test_X = df_test.text\n",
        "gold_test_Y = df_test.is_humor\n"
      ],
      "execution_count": 3,
      "outputs": []
    },
    {
      "cell_type": "code",
      "metadata": {
        "id": "NGWlNOmxfFLl"
      },
      "source": [
        "Encoder = LabelEncoder()\n",
        "y = Encoder.fit_transform(df.is_humor)\n",
        "dev_Y = Encoder.fit_transform(df_dev.is_humor)\n",
        "gold_test_Y = Encoder.fit_transform(df_test.is_humor)\n",
        "\n",
        "Tfidf_vect = TfidfVectorizer(max_features=5000)\n",
        "Tfidf_vect.fit(df.text)\n",
        "\n",
        "x = Tfidf_vect.transform(df.text)\n",
        "dev_X = Tfidf_vect.transform(df_dev.text)\n",
        "gold_test_X = Tfidf_vect.transform(df_test.text)"
      ],
      "execution_count": 4,
      "outputs": []
    },
    {
      "cell_type": "code",
      "metadata": {
        "id": "BJEV7A8wfHBe"
      },
      "source": [
        "def train(model):\n",
        "  \n",
        "  skf = model_selection.StratifiedKFold(n_splits=5, shuffle=True, random_state=1)\n",
        "  kFoldValFS = []\n",
        "  devDataFS = []\n",
        "  goldTestFS = []\n",
        "  \n",
        "  for train_index, test_index in skf.split(x, y):\n",
        "    train_X, test_X = x[train_index], x[test_index]\n",
        "    train_Y, test_Y = y[train_index], y[test_index]\n",
        "    model.fit(train_X, train_Y)\n",
        "    kFoldValFS.append(f1_score(test_Y, model.predict(test_X)))\n",
        "    devDataFS.append(f1_score(dev_Y, model.predict(dev_X)))\n",
        "    goldTestFS.append(f1_score(gold_test_Y, model.predict(gold_test_X)))\n",
        "\n",
        "  print(\"kFoldValFS\")\n",
        "  print(kFoldValFS)\n",
        "  print(np.mean(kFoldValFS))\n",
        "\n",
        "  print(\"\\ndevDataFS\")\n",
        "  print(devDataFS)\n",
        "  print(np.mean(devDataFS))\n",
        "  \n",
        "  print(\"\\ngoldTestFS\")\n",
        "  print(goldTestFS)\n",
        "  print(np.mean(goldTestFS))"
      ],
      "execution_count": 5,
      "outputs": []
    },
    {
      "cell_type": "code",
      "metadata": {
        "colab": {
          "base_uri": "https://localhost:8080/"
        },
        "id": "cplcntOwfY8a",
        "outputId": "0fd16294-e477-492c-91ec-1361d83fc992"
      },
      "source": [
        "SVM = svm.SVC(C=1.0, kernel='linear', degree=3, gamma='auto')\n",
        "print(\"SVM\")\n",
        "train(SVM)\n",
        "\n",
        "print(\"\\nNaive Bayes\")\n",
        "Naive = naive_bayes.MultinomialNB()\n",
        "train(Naive)"
      ],
      "execution_count": 6,
      "outputs": [
        {
          "output_type": "stream",
          "text": [
            "SVM\n",
            "kFoldValFS\n",
            "[0.8717434869739479, 0.881118881118881, 0.8864432216108054, 0.8834903321764999, 0.8690890990542558]\n",
            "0.8783770041868781\n",
            "\n",
            "devDataFS\n",
            "[0.8456883509833585, 0.8536770280515542, 0.8582375478927203, 0.8470948012232415, 0.8490421455938697]\n",
            "0.8507479747489487\n",
            "\n",
            "goldTestFS\n",
            "[0.8508914100486223, 0.852512155591572, 0.8520032706459526, 0.8487804878048779, 0.8488278092158448]\n",
            "0.850603026661374\n",
            "\n",
            "Naive Bayes\n",
            "kFoldValFS\n",
            "[0.8695652173913043, 0.8734995383194828, 0.8824895494658616, 0.875979714153988, 0.8688449148642429]\n",
            "0.8740757868389759\n",
            "\n",
            "devDataFS\n",
            "[0.8402203856749312, 0.8488210818307905, 0.8500000000000001, 0.8463128876636803, 0.841522491349481]\n",
            "0.8453753693037764\n",
            "\n",
            "goldTestFS\n",
            "[0.8649851632047478, 0.8715664439495173, 0.8707280832095097, 0.8673091178650851, 0.8636698599852617]\n",
            "0.8676517336428242\n"
          ],
          "name": "stdout"
        }
      ]
    }
  ]
}