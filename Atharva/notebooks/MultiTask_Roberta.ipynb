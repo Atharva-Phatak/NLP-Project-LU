{
 "nbformat": 4,
 "nbformat_minor": 0,
 "metadata": {
  "colab": {
   "name": "MultiTask-Roberta.ipynb",
   "provenance": [],
   "collapsed_sections": []
  },
  "kernelspec": {
   "name": "python3",
   "display_name": "Python 3"
  },
  "language_info": {
   "name": "python"
  },
  "accelerator": "GPU",
  "widgets": {
   "application/vnd.jupyter.widget-state+json": {
    "c70bff28ec99423195bd13d2c7905237": {
     "model_module": "@jupyter-widgets/controls",
     "model_name": "HBoxModel",
     "state": {
      "_view_name": "HBoxView",
      "_dom_classes": [],
      "_model_name": "HBoxModel",
      "_view_module": "@jupyter-widgets/controls",
      "_model_module_version": "1.5.0",
      "_view_count": null,
      "_view_module_version": "1.5.0",
      "box_style": "",
      "layout": "IPY_MODEL_5828f584d62d43039ef8850327e0255c",
      "_model_module": "@jupyter-widgets/controls",
      "children": [
       "IPY_MODEL_1674b6e4849c4d5ab7b70375f1a8bca8",
       "IPY_MODEL_c4692b40cff946468c79137a06509151"
      ]
     }
    },
    "5828f584d62d43039ef8850327e0255c": {
     "model_module": "@jupyter-widgets/base",
     "model_name": "LayoutModel",
     "state": {
      "_view_name": "LayoutView",
      "grid_template_rows": null,
      "right": null,
      "justify_content": null,
      "_view_module": "@jupyter-widgets/base",
      "overflow": null,
      "_model_module_version": "1.2.0",
      "_view_count": null,
      "flex_flow": null,
      "width": null,
      "min_width": null,
      "border": null,
      "align_items": null,
      "bottom": null,
      "_model_module": "@jupyter-widgets/base",
      "top": null,
      "grid_column": null,
      "overflow_y": null,
      "overflow_x": null,
      "grid_auto_flow": null,
      "grid_area": null,
      "grid_template_columns": null,
      "flex": null,
      "_model_name": "LayoutModel",
      "justify_items": null,
      "grid_row": null,
      "max_height": null,
      "align_content": null,
      "visibility": null,
      "align_self": null,
      "height": null,
      "min_height": null,
      "padding": null,
      "grid_auto_rows": null,
      "grid_gap": null,
      "max_width": null,
      "order": null,
      "_view_module_version": "1.2.0",
      "grid_template_areas": null,
      "object_position": null,
      "object_fit": null,
      "grid_auto_columns": null,
      "margin": null,
      "display": null,
      "left": null
     }
    },
    "1674b6e4849c4d5ab7b70375f1a8bca8": {
     "model_module": "@jupyter-widgets/controls",
     "model_name": "FloatProgressModel",
     "state": {
      "_view_name": "ProgressView",
      "style": "IPY_MODEL_df9c833eb339433bbded1be383364c1d",
      "_dom_classes": [],
      "description": "Downloading: 100%",
      "_model_name": "FloatProgressModel",
      "bar_style": "success",
      "max": 481,
      "_view_module": "@jupyter-widgets/controls",
      "_model_module_version": "1.5.0",
      "value": 481,
      "_view_count": null,
      "_view_module_version": "1.5.0",
      "orientation": "horizontal",
      "min": 0,
      "description_tooltip": null,
      "_model_module": "@jupyter-widgets/controls",
      "layout": "IPY_MODEL_3751d49cd761404c9c1e1dda899a1dcf"
     }
    },
    "c4692b40cff946468c79137a06509151": {
     "model_module": "@jupyter-widgets/controls",
     "model_name": "HTMLModel",
     "state": {
      "_view_name": "HTMLView",
      "style": "IPY_MODEL_d83f679ad3f84d37b22f7341816b2600",
      "_dom_classes": [],
      "description": "",
      "_model_name": "HTMLModel",
      "placeholder": "​",
      "_view_module": "@jupyter-widgets/controls",
      "_model_module_version": "1.5.0",
      "value": " 481/481 [00:01&lt;00:00, 476B/s]",
      "_view_count": null,
      "_view_module_version": "1.5.0",
      "description_tooltip": null,
      "_model_module": "@jupyter-widgets/controls",
      "layout": "IPY_MODEL_d12fe498a01d49a1ad90b9f5e3d69cb7"
     }
    },
    "df9c833eb339433bbded1be383364c1d": {
     "model_module": "@jupyter-widgets/controls",
     "model_name": "ProgressStyleModel",
     "state": {
      "_view_name": "StyleView",
      "_model_name": "ProgressStyleModel",
      "description_width": "initial",
      "_view_module": "@jupyter-widgets/base",
      "_model_module_version": "1.5.0",
      "_view_count": null,
      "_view_module_version": "1.2.0",
      "bar_color": null,
      "_model_module": "@jupyter-widgets/controls"
     }
    },
    "3751d49cd761404c9c1e1dda899a1dcf": {
     "model_module": "@jupyter-widgets/base",
     "model_name": "LayoutModel",
     "state": {
      "_view_name": "LayoutView",
      "grid_template_rows": null,
      "right": null,
      "justify_content": null,
      "_view_module": "@jupyter-widgets/base",
      "overflow": null,
      "_model_module_version": "1.2.0",
      "_view_count": null,
      "flex_flow": null,
      "width": null,
      "min_width": null,
      "border": null,
      "align_items": null,
      "bottom": null,
      "_model_module": "@jupyter-widgets/base",
      "top": null,
      "grid_column": null,
      "overflow_y": null,
      "overflow_x": null,
      "grid_auto_flow": null,
      "grid_area": null,
      "grid_template_columns": null,
      "flex": null,
      "_model_name": "LayoutModel",
      "justify_items": null,
      "grid_row": null,
      "max_height": null,
      "align_content": null,
      "visibility": null,
      "align_self": null,
      "height": null,
      "min_height": null,
      "padding": null,
      "grid_auto_rows": null,
      "grid_gap": null,
      "max_width": null,
      "order": null,
      "_view_module_version": "1.2.0",
      "grid_template_areas": null,
      "object_position": null,
      "object_fit": null,
      "grid_auto_columns": null,
      "margin": null,
      "display": null,
      "left": null
     }
    },
    "d83f679ad3f84d37b22f7341816b2600": {
     "model_module": "@jupyter-widgets/controls",
     "model_name": "DescriptionStyleModel",
     "state": {
      "_view_name": "StyleView",
      "_model_name": "DescriptionStyleModel",
      "description_width": "",
      "_view_module": "@jupyter-widgets/base",
      "_model_module_version": "1.5.0",
      "_view_count": null,
      "_view_module_version": "1.2.0",
      "_model_module": "@jupyter-widgets/controls"
     }
    },
    "d12fe498a01d49a1ad90b9f5e3d69cb7": {
     "model_module": "@jupyter-widgets/base",
     "model_name": "LayoutModel",
     "state": {
      "_view_name": "LayoutView",
      "grid_template_rows": null,
      "right": null,
      "justify_content": null,
      "_view_module": "@jupyter-widgets/base",
      "overflow": null,
      "_model_module_version": "1.2.0",
      "_view_count": null,
      "flex_flow": null,
      "width": null,
      "min_width": null,
      "border": null,
      "align_items": null,
      "bottom": null,
      "_model_module": "@jupyter-widgets/base",
      "top": null,
      "grid_column": null,
      "overflow_y": null,
      "overflow_x": null,
      "grid_auto_flow": null,
      "grid_area": null,
      "grid_template_columns": null,
      "flex": null,
      "_model_name": "LayoutModel",
      "justify_items": null,
      "grid_row": null,
      "max_height": null,
      "align_content": null,
      "visibility": null,
      "align_self": null,
      "height": null,
      "min_height": null,
      "padding": null,
      "grid_auto_rows": null,
      "grid_gap": null,
      "max_width": null,
      "order": null,
      "_view_module_version": "1.2.0",
      "grid_template_areas": null,
      "object_position": null,
      "object_fit": null,
      "grid_auto_columns": null,
      "margin": null,
      "display": null,
      "left": null
     }
    },
    "5e8c0ec18f064ccbb320c3a1c7ea2114": {
     "model_module": "@jupyter-widgets/controls",
     "model_name": "HBoxModel",
     "state": {
      "_view_name": "HBoxView",
      "_dom_classes": [],
      "_model_name": "HBoxModel",
      "_view_module": "@jupyter-widgets/controls",
      "_model_module_version": "1.5.0",
      "_view_count": null,
      "_view_module_version": "1.5.0",
      "box_style": "",
      "layout": "IPY_MODEL_35399f10f4ab430ea2aded4cfa66b097",
      "_model_module": "@jupyter-widgets/controls",
      "children": [
       "IPY_MODEL_2e6dfc9939f240879fd8380f37e97fb5",
       "IPY_MODEL_d63d4ee572be4378acec5181c6e167f4"
      ]
     }
    },
    "35399f10f4ab430ea2aded4cfa66b097": {
     "model_module": "@jupyter-widgets/base",
     "model_name": "LayoutModel",
     "state": {
      "_view_name": "LayoutView",
      "grid_template_rows": null,
      "right": null,
      "justify_content": null,
      "_view_module": "@jupyter-widgets/base",
      "overflow": null,
      "_model_module_version": "1.2.0",
      "_view_count": null,
      "flex_flow": null,
      "width": null,
      "min_width": null,
      "border": null,
      "align_items": null,
      "bottom": null,
      "_model_module": "@jupyter-widgets/base",
      "top": null,
      "grid_column": null,
      "overflow_y": null,
      "overflow_x": null,
      "grid_auto_flow": null,
      "grid_area": null,
      "grid_template_columns": null,
      "flex": null,
      "_model_name": "LayoutModel",
      "justify_items": null,
      "grid_row": null,
      "max_height": null,
      "align_content": null,
      "visibility": null,
      "align_self": null,
      "height": null,
      "min_height": null,
      "padding": null,
      "grid_auto_rows": null,
      "grid_gap": null,
      "max_width": null,
      "order": null,
      "_view_module_version": "1.2.0",
      "grid_template_areas": null,
      "object_position": null,
      "object_fit": null,
      "grid_auto_columns": null,
      "margin": null,
      "display": null,
      "left": null
     }
    },
    "2e6dfc9939f240879fd8380f37e97fb5": {
     "model_module": "@jupyter-widgets/controls",
     "model_name": "FloatProgressModel",
     "state": {
      "_view_name": "ProgressView",
      "style": "IPY_MODEL_57721a84cc4144e0b8d31d640489e909",
      "_dom_classes": [],
      "description": "Downloading: 100%",
      "_model_name": "FloatProgressModel",
      "bar_style": "success",
      "max": 898823,
      "_view_module": "@jupyter-widgets/controls",
      "_model_module_version": "1.5.0",
      "value": 898823,
      "_view_count": null,
      "_view_module_version": "1.5.0",
      "orientation": "horizontal",
      "min": 0,
      "description_tooltip": null,
      "_model_module": "@jupyter-widgets/controls",
      "layout": "IPY_MODEL_e50962747b9d44a590ee43ca9c417a28"
     }
    },
    "d63d4ee572be4378acec5181c6e167f4": {
     "model_module": "@jupyter-widgets/controls",
     "model_name": "HTMLModel",
     "state": {
      "_view_name": "HTMLView",
      "style": "IPY_MODEL_4ba47bd15da24f27a2866778c0a574b9",
      "_dom_classes": [],
      "description": "",
      "_model_name": "HTMLModel",
      "placeholder": "​",
      "_view_module": "@jupyter-widgets/controls",
      "_model_module_version": "1.5.0",
      "value": " 899k/899k [00:18&lt;00:00, 48.6kB/s]",
      "_view_count": null,
      "_view_module_version": "1.5.0",
      "description_tooltip": null,
      "_model_module": "@jupyter-widgets/controls",
      "layout": "IPY_MODEL_07e160218f714733afaa81e3c8224d7e"
     }
    },
    "57721a84cc4144e0b8d31d640489e909": {
     "model_module": "@jupyter-widgets/controls",
     "model_name": "ProgressStyleModel",
     "state": {
      "_view_name": "StyleView",
      "_model_name": "ProgressStyleModel",
      "description_width": "initial",
      "_view_module": "@jupyter-widgets/base",
      "_model_module_version": "1.5.0",
      "_view_count": null,
      "_view_module_version": "1.2.0",
      "bar_color": null,
      "_model_module": "@jupyter-widgets/controls"
     }
    },
    "e50962747b9d44a590ee43ca9c417a28": {
     "model_module": "@jupyter-widgets/base",
     "model_name": "LayoutModel",
     "state": {
      "_view_name": "LayoutView",
      "grid_template_rows": null,
      "right": null,
      "justify_content": null,
      "_view_module": "@jupyter-widgets/base",
      "overflow": null,
      "_model_module_version": "1.2.0",
      "_view_count": null,
      "flex_flow": null,
      "width": null,
      "min_width": null,
      "border": null,
      "align_items": null,
      "bottom": null,
      "_model_module": "@jupyter-widgets/base",
      "top": null,
      "grid_column": null,
      "overflow_y": null,
      "overflow_x": null,
      "grid_auto_flow": null,
      "grid_area": null,
      "grid_template_columns": null,
      "flex": null,
      "_model_name": "LayoutModel",
      "justify_items": null,
      "grid_row": null,
      "max_height": null,
      "align_content": null,
      "visibility": null,
      "align_self": null,
      "height": null,
      "min_height": null,
      "padding": null,
      "grid_auto_rows": null,
      "grid_gap": null,
      "max_width": null,
      "order": null,
      "_view_module_version": "1.2.0",
      "grid_template_areas": null,
      "object_position": null,
      "object_fit": null,
      "grid_auto_columns": null,
      "margin": null,
      "display": null,
      "left": null
     }
    },
    "4ba47bd15da24f27a2866778c0a574b9": {
     "model_module": "@jupyter-widgets/controls",
     "model_name": "DescriptionStyleModel",
     "state": {
      "_view_name": "StyleView",
      "_model_name": "DescriptionStyleModel",
      "description_width": "",
      "_view_module": "@jupyter-widgets/base",
      "_model_module_version": "1.5.0",
      "_view_count": null,
      "_view_module_version": "1.2.0",
      "_model_module": "@jupyter-widgets/controls"
     }
    },
    "07e160218f714733afaa81e3c8224d7e": {
     "model_module": "@jupyter-widgets/base",
     "model_name": "LayoutModel",
     "state": {
      "_view_name": "LayoutView",
      "grid_template_rows": null,
      "right": null,
      "justify_content": null,
      "_view_module": "@jupyter-widgets/base",
      "overflow": null,
      "_model_module_version": "1.2.0",
      "_view_count": null,
      "flex_flow": null,
      "width": null,
      "min_width": null,
      "border": null,
      "align_items": null,
      "bottom": null,
      "_model_module": "@jupyter-widgets/base",
      "top": null,
      "grid_column": null,
      "overflow_y": null,
      "overflow_x": null,
      "grid_auto_flow": null,
      "grid_area": null,
      "grid_template_columns": null,
      "flex": null,
      "_model_name": "LayoutModel",
      "justify_items": null,
      "grid_row": null,
      "max_height": null,
      "align_content": null,
      "visibility": null,
      "align_self": null,
      "height": null,
      "min_height": null,
      "padding": null,
      "grid_auto_rows": null,
      "grid_gap": null,
      "max_width": null,
      "order": null,
      "_view_module_version": "1.2.0",
      "grid_template_areas": null,
      "object_position": null,
      "object_fit": null,
      "grid_auto_columns": null,
      "margin": null,
      "display": null,
      "left": null
     }
    },
    "c31a329549a44979875cd1f29407fc2e": {
     "model_module": "@jupyter-widgets/controls",
     "model_name": "HBoxModel",
     "state": {
      "_view_name": "HBoxView",
      "_dom_classes": [],
      "_model_name": "HBoxModel",
      "_view_module": "@jupyter-widgets/controls",
      "_model_module_version": "1.5.0",
      "_view_count": null,
      "_view_module_version": "1.5.0",
      "box_style": "",
      "layout": "IPY_MODEL_8e983c5b80774d9a83bd84353a8e6988",
      "_model_module": "@jupyter-widgets/controls",
      "children": [
       "IPY_MODEL_61ce19e4738b428abe9f71ba13103776",
       "IPY_MODEL_9336d61e90b748dbb88191387eb41fc4"
      ]
     }
    },
    "8e983c5b80774d9a83bd84353a8e6988": {
     "model_module": "@jupyter-widgets/base",
     "model_name": "LayoutModel",
     "state": {
      "_view_name": "LayoutView",
      "grid_template_rows": null,
      "right": null,
      "justify_content": null,
      "_view_module": "@jupyter-widgets/base",
      "overflow": null,
      "_model_module_version": "1.2.0",
      "_view_count": null,
      "flex_flow": null,
      "width": null,
      "min_width": null,
      "border": null,
      "align_items": null,
      "bottom": null,
      "_model_module": "@jupyter-widgets/base",
      "top": null,
      "grid_column": null,
      "overflow_y": null,
      "overflow_x": null,
      "grid_auto_flow": null,
      "grid_area": null,
      "grid_template_columns": null,
      "flex": null,
      "_model_name": "LayoutModel",
      "justify_items": null,
      "grid_row": null,
      "max_height": null,
      "align_content": null,
      "visibility": null,
      "align_self": null,
      "height": null,
      "min_height": null,
      "padding": null,
      "grid_auto_rows": null,
      "grid_gap": null,
      "max_width": null,
      "order": null,
      "_view_module_version": "1.2.0",
      "grid_template_areas": null,
      "object_position": null,
      "object_fit": null,
      "grid_auto_columns": null,
      "margin": null,
      "display": null,
      "left": null
     }
    },
    "61ce19e4738b428abe9f71ba13103776": {
     "model_module": "@jupyter-widgets/controls",
     "model_name": "FloatProgressModel",
     "state": {
      "_view_name": "ProgressView",
      "style": "IPY_MODEL_15ccc51028c04d149e257ec2d64c9225",
      "_dom_classes": [],
      "description": "Downloading: 100%",
      "_model_name": "FloatProgressModel",
      "bar_style": "success",
      "max": 456318,
      "_view_module": "@jupyter-widgets/controls",
      "_model_module_version": "1.5.0",
      "value": 456318,
      "_view_count": null,
      "_view_module_version": "1.5.0",
      "orientation": "horizontal",
      "min": 0,
      "description_tooltip": null,
      "_model_module": "@jupyter-widgets/controls",
      "layout": "IPY_MODEL_9e1c4ab8ebc344de8dab7d56c6920735"
     }
    },
    "9336d61e90b748dbb88191387eb41fc4": {
     "model_module": "@jupyter-widgets/controls",
     "model_name": "HTMLModel",
     "state": {
      "_view_name": "HTMLView",
      "style": "IPY_MODEL_45f12d1c4b9241aeb0a33db29e68fb48",
      "_dom_classes": [],
      "description": "",
      "_model_name": "HTMLModel",
      "placeholder": "​",
      "_view_module": "@jupyter-widgets/controls",
      "_model_module_version": "1.5.0",
      "value": " 456k/456k [00:03&lt;00:00, 150kB/s]",
      "_view_count": null,
      "_view_module_version": "1.5.0",
      "description_tooltip": null,
      "_model_module": "@jupyter-widgets/controls",
      "layout": "IPY_MODEL_fe20f1815cd8425e8f82a000b467e00d"
     }
    },
    "15ccc51028c04d149e257ec2d64c9225": {
     "model_module": "@jupyter-widgets/controls",
     "model_name": "ProgressStyleModel",
     "state": {
      "_view_name": "StyleView",
      "_model_name": "ProgressStyleModel",
      "description_width": "initial",
      "_view_module": "@jupyter-widgets/base",
      "_model_module_version": "1.5.0",
      "_view_count": null,
      "_view_module_version": "1.2.0",
      "bar_color": null,
      "_model_module": "@jupyter-widgets/controls"
     }
    },
    "9e1c4ab8ebc344de8dab7d56c6920735": {
     "model_module": "@jupyter-widgets/base",
     "model_name": "LayoutModel",
     "state": {
      "_view_name": "LayoutView",
      "grid_template_rows": null,
      "right": null,
      "justify_content": null,
      "_view_module": "@jupyter-widgets/base",
      "overflow": null,
      "_model_module_version": "1.2.0",
      "_view_count": null,
      "flex_flow": null,
      "width": null,
      "min_width": null,
      "border": null,
      "align_items": null,
      "bottom": null,
      "_model_module": "@jupyter-widgets/base",
      "top": null,
      "grid_column": null,
      "overflow_y": null,
      "overflow_x": null,
      "grid_auto_flow": null,
      "grid_area": null,
      "grid_template_columns": null,
      "flex": null,
      "_model_name": "LayoutModel",
      "justify_items": null,
      "grid_row": null,
      "max_height": null,
      "align_content": null,
      "visibility": null,
      "align_self": null,
      "height": null,
      "min_height": null,
      "padding": null,
      "grid_auto_rows": null,
      "grid_gap": null,
      "max_width": null,
      "order": null,
      "_view_module_version": "1.2.0",
      "grid_template_areas": null,
      "object_position": null,
      "object_fit": null,
      "grid_auto_columns": null,
      "margin": null,
      "display": null,
      "left": null
     }
    },
    "45f12d1c4b9241aeb0a33db29e68fb48": {
     "model_module": "@jupyter-widgets/controls",
     "model_name": "DescriptionStyleModel",
     "state": {
      "_view_name": "StyleView",
      "_model_name": "DescriptionStyleModel",
      "description_width": "",
      "_view_module": "@jupyter-widgets/base",
      "_model_module_version": "1.5.0",
      "_view_count": null,
      "_view_module_version": "1.2.0",
      "_model_module": "@jupyter-widgets/controls"
     }
    },
    "fe20f1815cd8425e8f82a000b467e00d": {
     "model_module": "@jupyter-widgets/base",
     "model_name": "LayoutModel",
     "state": {
      "_view_name": "LayoutView",
      "grid_template_rows": null,
      "right": null,
      "justify_content": null,
      "_view_module": "@jupyter-widgets/base",
      "overflow": null,
      "_model_module_version": "1.2.0",
      "_view_count": null,
      "flex_flow": null,
      "width": null,
      "min_width": null,
      "border": null,
      "align_items": null,
      "bottom": null,
      "_model_module": "@jupyter-widgets/base",
      "top": null,
      "grid_column": null,
      "overflow_y": null,
      "overflow_x": null,
      "grid_auto_flow": null,
      "grid_area": null,
      "grid_template_columns": null,
      "flex": null,
      "_model_name": "LayoutModel",
      "justify_items": null,
      "grid_row": null,
      "max_height": null,
      "align_content": null,
      "visibility": null,
      "align_self": null,
      "height": null,
      "min_height": null,
      "padding": null,
      "grid_auto_rows": null,
      "grid_gap": null,
      "max_width": null,
      "order": null,
      "_view_module_version": "1.2.0",
      "grid_template_areas": null,
      "object_position": null,
      "object_fit": null,
      "grid_auto_columns": null,
      "margin": null,
      "display": null,
      "left": null
     }
    },
    "b499aea94fc1487c9453056198f410f8": {
     "model_module": "@jupyter-widgets/controls",
     "model_name": "HBoxModel",
     "state": {
      "_view_name": "HBoxView",
      "_dom_classes": [],
      "_model_name": "HBoxModel",
      "_view_module": "@jupyter-widgets/controls",
      "_model_module_version": "1.5.0",
      "_view_count": null,
      "_view_module_version": "1.5.0",
      "box_style": "",
      "layout": "IPY_MODEL_000b9fc0ac0b41ff9d12f4638b5a9317",
      "_model_module": "@jupyter-widgets/controls",
      "children": [
       "IPY_MODEL_a98dba994e394c1d9f73d95f2280f1c7",
       "IPY_MODEL_56dc0841a85b4098bea535b1c981f649"
      ]
     }
    },
    "000b9fc0ac0b41ff9d12f4638b5a9317": {
     "model_module": "@jupyter-widgets/base",
     "model_name": "LayoutModel",
     "state": {
      "_view_name": "LayoutView",
      "grid_template_rows": null,
      "right": null,
      "justify_content": null,
      "_view_module": "@jupyter-widgets/base",
      "overflow": null,
      "_model_module_version": "1.2.0",
      "_view_count": null,
      "flex_flow": null,
      "width": null,
      "min_width": null,
      "border": null,
      "align_items": null,
      "bottom": null,
      "_model_module": "@jupyter-widgets/base",
      "top": null,
      "grid_column": null,
      "overflow_y": null,
      "overflow_x": null,
      "grid_auto_flow": null,
      "grid_area": null,
      "grid_template_columns": null,
      "flex": null,
      "_model_name": "LayoutModel",
      "justify_items": null,
      "grid_row": null,
      "max_height": null,
      "align_content": null,
      "visibility": null,
      "align_self": null,
      "height": null,
      "min_height": null,
      "padding": null,
      "grid_auto_rows": null,
      "grid_gap": null,
      "max_width": null,
      "order": null,
      "_view_module_version": "1.2.0",
      "grid_template_areas": null,
      "object_position": null,
      "object_fit": null,
      "grid_auto_columns": null,
      "margin": null,
      "display": null,
      "left": null
     }
    },
    "a98dba994e394c1d9f73d95f2280f1c7": {
     "model_module": "@jupyter-widgets/controls",
     "model_name": "FloatProgressModel",
     "state": {
      "_view_name": "ProgressView",
      "style": "IPY_MODEL_806a65819773413fa79cdd195b189ba6",
      "_dom_classes": [],
      "description": "Downloading: 100%",
      "_model_name": "FloatProgressModel",
      "bar_style": "success",
      "max": 1355863,
      "_view_module": "@jupyter-widgets/controls",
      "_model_module_version": "1.5.0",
      "value": 1355863,
      "_view_count": null,
      "_view_module_version": "1.5.0",
      "orientation": "horizontal",
      "min": 0,
      "description_tooltip": null,
      "_model_module": "@jupyter-widgets/controls",
      "layout": "IPY_MODEL_5dc5a98380ca4e8d8c8d88410b4df7c9"
     }
    },
    "56dc0841a85b4098bea535b1c981f649": {
     "model_module": "@jupyter-widgets/controls",
     "model_name": "HTMLModel",
     "state": {
      "_view_name": "HTMLView",
      "style": "IPY_MODEL_f9328193fad74027970114b5e9e01bad",
      "_dom_classes": [],
      "description": "",
      "_model_name": "HTMLModel",
      "placeholder": "​",
      "_view_module": "@jupyter-widgets/controls",
      "_model_module_version": "1.5.0",
      "value": " 1.36M/1.36M [00:02&lt;00:00, 581kB/s]",
      "_view_count": null,
      "_view_module_version": "1.5.0",
      "description_tooltip": null,
      "_model_module": "@jupyter-widgets/controls",
      "layout": "IPY_MODEL_5dad48cba2c94715821a3c3cfea0ca94"
     }
    },
    "806a65819773413fa79cdd195b189ba6": {
     "model_module": "@jupyter-widgets/controls",
     "model_name": "ProgressStyleModel",
     "state": {
      "_view_name": "StyleView",
      "_model_name": "ProgressStyleModel",
      "description_width": "initial",
      "_view_module": "@jupyter-widgets/base",
      "_model_module_version": "1.5.0",
      "_view_count": null,
      "_view_module_version": "1.2.0",
      "bar_color": null,
      "_model_module": "@jupyter-widgets/controls"
     }
    },
    "5dc5a98380ca4e8d8c8d88410b4df7c9": {
     "model_module": "@jupyter-widgets/base",
     "model_name": "LayoutModel",
     "state": {
      "_view_name": "LayoutView",
      "grid_template_rows": null,
      "right": null,
      "justify_content": null,
      "_view_module": "@jupyter-widgets/base",
      "overflow": null,
      "_model_module_version": "1.2.0",
      "_view_count": null,
      "flex_flow": null,
      "width": null,
      "min_width": null,
      "border": null,
      "align_items": null,
      "bottom": null,
      "_model_module": "@jupyter-widgets/base",
      "top": null,
      "grid_column": null,
      "overflow_y": null,
      "overflow_x": null,
      "grid_auto_flow": null,
      "grid_area": null,
      "grid_template_columns": null,
      "flex": null,
      "_model_name": "LayoutModel",
      "justify_items": null,
      "grid_row": null,
      "max_height": null,
      "align_content": null,
      "visibility": null,
      "align_self": null,
      "height": null,
      "min_height": null,
      "padding": null,
      "grid_auto_rows": null,
      "grid_gap": null,
      "max_width": null,
      "order": null,
      "_view_module_version": "1.2.0",
      "grid_template_areas": null,
      "object_position": null,
      "object_fit": null,
      "grid_auto_columns": null,
      "margin": null,
      "display": null,
      "left": null
     }
    },
    "f9328193fad74027970114b5e9e01bad": {
     "model_module": "@jupyter-widgets/controls",
     "model_name": "DescriptionStyleModel",
     "state": {
      "_view_name": "StyleView",
      "_model_name": "DescriptionStyleModel",
      "description_width": "",
      "_view_module": "@jupyter-widgets/base",
      "_model_module_version": "1.5.0",
      "_view_count": null,
      "_view_module_version": "1.2.0",
      "_model_module": "@jupyter-widgets/controls"
     }
    },
    "5dad48cba2c94715821a3c3cfea0ca94": {
     "model_module": "@jupyter-widgets/base",
     "model_name": "LayoutModel",
     "state": {
      "_view_name": "LayoutView",
      "grid_template_rows": null,
      "right": null,
      "justify_content": null,
      "_view_module": "@jupyter-widgets/base",
      "overflow": null,
      "_model_module_version": "1.2.0",
      "_view_count": null,
      "flex_flow": null,
      "width": null,
      "min_width": null,
      "border": null,
      "align_items": null,
      "bottom": null,
      "_model_module": "@jupyter-widgets/base",
      "top": null,
      "grid_column": null,
      "overflow_y": null,
      "overflow_x": null,
      "grid_auto_flow": null,
      "grid_area": null,
      "grid_template_columns": null,
      "flex": null,
      "_model_name": "LayoutModel",
      "justify_items": null,
      "grid_row": null,
      "max_height": null,
      "align_content": null,
      "visibility": null,
      "align_self": null,
      "height": null,
      "min_height": null,
      "padding": null,
      "grid_auto_rows": null,
      "grid_gap": null,
      "max_width": null,
      "order": null,
      "_view_module_version": "1.2.0",
      "grid_template_areas": null,
      "object_position": null,
      "object_fit": null,
      "grid_auto_columns": null,
      "margin": null,
      "display": null,
      "left": null
     }
    },
    "e5e3afc80f6d4a5db8b41bd7ddb4713b": {
     "model_module": "@jupyter-widgets/controls",
     "model_name": "HBoxModel",
     "state": {
      "_view_name": "HBoxView",
      "_dom_classes": [],
      "_model_name": "HBoxModel",
      "_view_module": "@jupyter-widgets/controls",
      "_model_module_version": "1.5.0",
      "_view_count": null,
      "_view_module_version": "1.5.0",
      "box_style": "",
      "layout": "IPY_MODEL_45267f393a674449b5dfa54bc3d2e82d",
      "_model_module": "@jupyter-widgets/controls",
      "children": [
       "IPY_MODEL_2b7afbc905cc4875baa4865b927650a5",
       "IPY_MODEL_45f6f7e823d34fb493f72af3768aa30e"
      ]
     }
    },
    "45267f393a674449b5dfa54bc3d2e82d": {
     "model_module": "@jupyter-widgets/base",
     "model_name": "LayoutModel",
     "state": {
      "_view_name": "LayoutView",
      "grid_template_rows": null,
      "right": null,
      "justify_content": null,
      "_view_module": "@jupyter-widgets/base",
      "overflow": null,
      "_model_module_version": "1.2.0",
      "_view_count": null,
      "flex_flow": null,
      "width": null,
      "min_width": null,
      "border": null,
      "align_items": null,
      "bottom": null,
      "_model_module": "@jupyter-widgets/base",
      "top": null,
      "grid_column": null,
      "overflow_y": null,
      "overflow_x": null,
      "grid_auto_flow": null,
      "grid_area": null,
      "grid_template_columns": null,
      "flex": null,
      "_model_name": "LayoutModel",
      "justify_items": null,
      "grid_row": null,
      "max_height": null,
      "align_content": null,
      "visibility": null,
      "align_self": null,
      "height": null,
      "min_height": null,
      "padding": null,
      "grid_auto_rows": null,
      "grid_gap": null,
      "max_width": null,
      "order": null,
      "_view_module_version": "1.2.0",
      "grid_template_areas": null,
      "object_position": null,
      "object_fit": null,
      "grid_auto_columns": null,
      "margin": null,
      "display": null,
      "left": null
     }
    },
    "2b7afbc905cc4875baa4865b927650a5": {
     "model_module": "@jupyter-widgets/controls",
     "model_name": "FloatProgressModel",
     "state": {
      "_view_name": "ProgressView",
      "style": "IPY_MODEL_5f8221455b2d45f08e677465ce3e2fc8",
      "_dom_classes": [],
      "description": "Downloading: 100%",
      "_model_name": "FloatProgressModel",
      "bar_style": "success",
      "max": 501200538,
      "_view_module": "@jupyter-widgets/controls",
      "_model_module_version": "1.5.0",
      "value": 501200538,
      "_view_count": null,
      "_view_module_version": "1.5.0",
      "orientation": "horizontal",
      "min": 0,
      "description_tooltip": null,
      "_model_module": "@jupyter-widgets/controls",
      "layout": "IPY_MODEL_5e5345f1d7cc402a82c0403b0d315ae4"
     }
    },
    "45f6f7e823d34fb493f72af3768aa30e": {
     "model_module": "@jupyter-widgets/controls",
     "model_name": "HTMLModel",
     "state": {
      "_view_name": "HTMLView",
      "style": "IPY_MODEL_9f072bbf1dbf4f0abaea02c7be6500ff",
      "_dom_classes": [],
      "description": "",
      "_model_name": "HTMLModel",
      "placeholder": "​",
      "_view_module": "@jupyter-widgets/controls",
      "_model_module_version": "1.5.0",
      "value": " 501M/501M [00:10&lt;00:00, 46.0MB/s]",
      "_view_count": null,
      "_view_module_version": "1.5.0",
      "description_tooltip": null,
      "_model_module": "@jupyter-widgets/controls",
      "layout": "IPY_MODEL_faac34b5efe54595bdc57998269c744a"
     }
    },
    "5f8221455b2d45f08e677465ce3e2fc8": {
     "model_module": "@jupyter-widgets/controls",
     "model_name": "ProgressStyleModel",
     "state": {
      "_view_name": "StyleView",
      "_model_name": "ProgressStyleModel",
      "description_width": "initial",
      "_view_module": "@jupyter-widgets/base",
      "_model_module_version": "1.5.0",
      "_view_count": null,
      "_view_module_version": "1.2.0",
      "bar_color": null,
      "_model_module": "@jupyter-widgets/controls"
     }
    },
    "5e5345f1d7cc402a82c0403b0d315ae4": {
     "model_module": "@jupyter-widgets/base",
     "model_name": "LayoutModel",
     "state": {
      "_view_name": "LayoutView",
      "grid_template_rows": null,
      "right": null,
      "justify_content": null,
      "_view_module": "@jupyter-widgets/base",
      "overflow": null,
      "_model_module_version": "1.2.0",
      "_view_count": null,
      "flex_flow": null,
      "width": null,
      "min_width": null,
      "border": null,
      "align_items": null,
      "bottom": null,
      "_model_module": "@jupyter-widgets/base",
      "top": null,
      "grid_column": null,
      "overflow_y": null,
      "overflow_x": null,
      "grid_auto_flow": null,
      "grid_area": null,
      "grid_template_columns": null,
      "flex": null,
      "_model_name": "LayoutModel",
      "justify_items": null,
      "grid_row": null,
      "max_height": null,
      "align_content": null,
      "visibility": null,
      "align_self": null,
      "height": null,
      "min_height": null,
      "padding": null,
      "grid_auto_rows": null,
      "grid_gap": null,
      "max_width": null,
      "order": null,
      "_view_module_version": "1.2.0",
      "grid_template_areas": null,
      "object_position": null,
      "object_fit": null,
      "grid_auto_columns": null,
      "margin": null,
      "display": null,
      "left": null
     }
    },
    "9f072bbf1dbf4f0abaea02c7be6500ff": {
     "model_module": "@jupyter-widgets/controls",
     "model_name": "DescriptionStyleModel",
     "state": {
      "_view_name": "StyleView",
      "_model_name": "DescriptionStyleModel",
      "description_width": "",
      "_view_module": "@jupyter-widgets/base",
      "_model_module_version": "1.5.0",
      "_view_count": null,
      "_view_module_version": "1.2.0",
      "_model_module": "@jupyter-widgets/controls"
     }
    },
    "faac34b5efe54595bdc57998269c744a": {
     "model_module": "@jupyter-widgets/base",
     "model_name": "LayoutModel",
     "state": {
      "_view_name": "LayoutView",
      "grid_template_rows": null,
      "right": null,
      "justify_content": null,
      "_view_module": "@jupyter-widgets/base",
      "overflow": null,
      "_model_module_version": "1.2.0",
      "_view_count": null,
      "flex_flow": null,
      "width": null,
      "min_width": null,
      "border": null,
      "align_items": null,
      "bottom": null,
      "_model_module": "@jupyter-widgets/base",
      "top": null,
      "grid_column": null,
      "overflow_y": null,
      "overflow_x": null,
      "grid_auto_flow": null,
      "grid_area": null,
      "grid_template_columns": null,
      "flex": null,
      "_model_name": "LayoutModel",
      "justify_items": null,
      "grid_row": null,
      "max_height": null,
      "align_content": null,
      "visibility": null,
      "align_self": null,
      "height": null,
      "min_height": null,
      "padding": null,
      "grid_auto_rows": null,
      "grid_gap": null,
      "max_width": null,
      "order": null,
      "_view_module_version": "1.2.0",
      "grid_template_areas": null,
      "object_position": null,
      "object_fit": null,
      "grid_auto_columns": null,
      "margin": null,
      "display": null,
      "left": null
     }
    }
   }
  }
 },
 "cells": [
  {
   "cell_type": "code",
   "metadata": {
    "colab": {
     "base_uri": "https://localhost:8080/"
    },
    "id": "DnKa0a7jHZ5x",
    "outputId": "51967878-76d4-4f35-a43b-f8c72dcf814d"
   },
   "source": [
    "!pip install -qq torchflare\n",
    "!pip install -qq transformers"
   ],
   "execution_count": null,
   "outputs": [
    {
     "output_type": "stream",
     "text": [
      "\u001B[K     |████████████████████████████████| 85 kB 3.3 MB/s \n",
      "\u001B[K     |████████████████████████████████| 15.3 MB 287 kB/s \n",
      "\u001B[K     |████████████████████████████████| 10.3 MB 60.2 MB/s \n",
      "\u001B[K     |████████████████████████████████| 735.5 MB 15 kB/s \n",
      "\u001B[K     |████████████████████████████████| 3.0 MB 25.3 MB/s \n",
      "\u001B[K     |████████████████████████████████| 61 kB 502 kB/s \n",
      "\u001B[K     |████████████████████████████████| 51.0 MB 85 kB/s \n",
      "\u001B[K     |████████████████████████████████| 98 kB 9.4 MB/s \n",
      "\u001B[K     |████████████████████████████████| 17.3 MB 42 kB/s \n",
      "\u001B[K     |████████████████████████████████| 9.9 MB 50.2 MB/s \n",
      "\u001B[K     |████████████████████████████████| 22.3 MB 1.3 MB/s \n",
      "\u001B[K     |████████████████████████████████| 37.1 MB 1.2 MB/s \n",
      "\u001B[31mERROR: pip's dependency resolver does not currently take into account all the packages that are installed. This behaviour is the source of the following dependency conflicts.\n",
      "torchtext 0.10.0 requires torch==1.9.0, but you have torch 1.8.0 which is incompatible.\n",
      "tensorflow 2.5.0 requires numpy~=1.19.2, but you have numpy 1.20.3 which is incompatible.\n",
      "google-colab 1.0.0 requires pandas~=1.1.0; python_version >= \"3.0\", but you have pandas 1.2.5 which is incompatible.\n",
      "google-colab 1.0.0 requires requests~=2.23.0, but you have requests 2.24.0 which is incompatible.\n",
      "datascience 0.10.6 requires folium==0.2.1, but you have folium 0.8.3 which is incompatible.\u001B[0m\n",
      "\u001B[K     |████████████████████████████████| 2.6 MB 7.7 MB/s \n",
      "\u001B[K     |████████████████████████████████| 895 kB 54.7 MB/s \n",
      "\u001B[K     |████████████████████████████████| 3.3 MB 57.3 MB/s \n",
      "\u001B[K     |████████████████████████████████| 636 kB 72.5 MB/s \n",
      "\u001B[?25h"
     ],
     "name": "stdout"
    }
   ]
  },
  {
   "cell_type": "code",
   "metadata": {
    "id": "-ajfa9VpHIeZ"
   },
   "source": [
    "from torchflare.experiments import Experiment, ModelConfig\n",
    "import torch\n",
    "from torchflare.metrics import MetricMeter, _BaseMetric\n",
    "from functools import partial\n",
    "import torch.nn.functional as F\n",
    "import sklearn.metrics as skm\n",
    "import torch.nn as nn\n",
    "import transformers\n",
    "import pandas as pd\n",
    "from enum import Enum\n",
    "import torchflare.callbacks as cbs\n",
    "import pickle\n",
    "\n",
    "import warnings\n",
    "warnings.filterwarnings(\"ignore\")"
   ],
   "execution_count": null,
   "outputs": []
  },
  {
   "cell_type": "code",
   "metadata": {
    "id": "ehm9QLvCcYEI"
   },
   "source": [
    "#Change Backbone name here.\n",
    "BACKBONE_NAME = \"roberta-base\""
   ],
   "execution_count": null,
   "outputs": []
  },
  {
   "cell_type": "code",
   "metadata": {
    "id": "gF0d69M-HRnw"
   },
   "source": [
    "train_path = \"/content/drive/MyDrive/Hahakathon/train.csv\"\n",
    "dev_path = \"/content/drive/MyDrive/Hahakathon/dev.csv\"\n"
   ],
   "execution_count": null,
   "outputs": []
  },
  {
   "cell_type": "code",
   "metadata": {
    "id": "kVyHt0mYLMW-"
   },
   "source": [
    "class TASKS(Enum):\n",
    "    IS_HUMOR = \"is_humor\"\n",
    "    HUMOR_CONTROVERSY = \"humor_controversy\"\n",
    "    HUMOR_RATING = \"humor_rating\"\n",
    "    OFFENSE_RATING = \"offense_rating\""
   ],
   "execution_count": null,
   "outputs": []
  },
  {
   "cell_type": "code",
   "metadata": {
    "id": "FE8mphsebn2w"
   },
   "source": [
    "\n",
    "class MultiTaskDataset:\n",
    "    def __init__(self, csv_path, backbone_name, max_len):\n",
    "        self.data = self.read_df(path=csv_path)\n",
    "        self.tokenizer = transformers.AutoTokenizer.from_pretrained(backbone_name)\n",
    "        self.max_len = max_len\n",
    "\n",
    "    @staticmethod\n",
    "    def read_df(path):\n",
    "        df = pd.read_csv(path)\n",
    "        df = df.fillna(0)\n",
    "        df[TASKS.HUMOR_CONTROVERSY.value] = df[TASKS.HUMOR_CONTROVERSY.value].astype('int')\n",
    "        return df\n",
    "\n",
    "    def __len__(self):\n",
    "        return len(self.data)\n",
    "\n",
    "    def __getitem__(self, idx):\n",
    "        inps = self.tokenizer(\n",
    "            self.data.iloc[idx][\"text\"],\n",
    "            max_length=self.max_len,\n",
    "            padding=\"max_length\",\n",
    "            return_tensors=\"pt\",\n",
    "            truncation=True,\n",
    "        )\n",
    "        inps = {k: v.squeeze(0) for k, v in inps.items()}\n",
    "        label = {\n",
    "            TASKS.IS_HUMOR.value: torch.tensor(self.data.iloc[idx][TASKS.IS_HUMOR.value]),\n",
    "            TASKS.HUMOR_CONTROVERSY.value: torch.tensor(self.data.iloc[idx][TASKS.HUMOR_CONTROVERSY.value]),\n",
    "            TASKS.HUMOR_RATING.value: torch.tensor(self.data.iloc[idx][TASKS.HUMOR_RATING.value], dtype = torch.float),\n",
    "        }\n",
    "\n",
    "        return inps, label"
   ],
   "execution_count": null,
   "outputs": []
  },
  {
   "cell_type": "code",
   "metadata": {
    "id": "3rVx2-VYbupD"
   },
   "source": [
    "class SklearnF1(MetricMeter, _BaseMetric):\n",
    "    def __init__(self, target_name: str):\n",
    "        super(SklearnF1, self).__init__(multilabel=False)\n",
    "        self.f1 = skm.f1_score\n",
    "        self._outputs = None\n",
    "        self._targets = None\n",
    "        self.target_name = target_name\n",
    "        self.reset()\n",
    "\n",
    "    def handle(self):\n",
    "        return f\"{self.target_name}_{self.f1.__name__.lower()}\"\n",
    "\n",
    "    def accumulate(self, outputs: torch.Tensor, targets: torch.Tensor):\n",
    "        \"\"\"Method to accumulate the outputs and targets.\n",
    "        Args:\n",
    "            outputs(torch.Tensor) : raw logits from the network.\n",
    "            targets(torch.Tensor) : Ground truth targets\n",
    "        \"\"\"\n",
    "        outputs, targets = self.detach_tensor(outputs[self.target_name]), self.detach_tensor(targets[self.target_name])\n",
    "        outputs = torch.argmax(outputs, dim=1)\n",
    "        self._outputs.append(outputs)\n",
    "        self._targets.append(targets)\n",
    "\n",
    "    def reset(self):\n",
    "        \"\"\"Resets the accumulation lists.\"\"\"\n",
    "        self._outputs = []\n",
    "        self._targets = []\n",
    "\n",
    "    @property\n",
    "    def value(self):\n",
    "        outputs = torch.cat(self._outputs)\n",
    "        targets = torch.cat(self._targets)\n",
    "        f1_score = self.f1(targets.numpy(), outputs.numpy())\n",
    "        return torch.tensor(f1_score)\n"
   ],
   "execution_count": null,
   "outputs": []
  },
  {
   "cell_type": "code",
   "metadata": {
    "id": "mLqWpyXYbw6r"
   },
   "source": [
    "\n",
    "class SklearnMSE(MetricMeter, _BaseMetric):\n",
    "    def __init__(self, target_name: str):\n",
    "        super(SklearnMSE, self).__init__(multilabel=False)\n",
    "        self.mse = partial(skm.mean_squared_error, squared=False)\n",
    "        self._outputs = None\n",
    "        self._targets = None\n",
    "        self.target_name = target_name\n",
    "        self.reset()\n",
    "\n",
    "    def handle(self):\n",
    "        return f\"{self.target_name}_{self.mse.func.__name__.lower()}\"\n",
    "\n",
    "    def accumulate(self, outputs: torch.Tensor, targets: torch.Tensor):\n",
    "        \"\"\"Method to accumulate the outputs and targets.\n",
    "        Args:\n",
    "            outputs(torch.Tensor) : raw logits from the network.\n",
    "            targets(torch.Tensor) : Ground truth targets\n",
    "        \"\"\"\n",
    "        outputs, targets = self.detach_tensor(outputs[self.target_name]), self.detach_tensor(targets[self.target_name])\n",
    "        self._outputs.append(outputs)\n",
    "        self._targets.append(targets)\n",
    "\n",
    "    def reset(self):\n",
    "        \"\"\"Resets the accumulation lists.\"\"\"\n",
    "        self._outputs = []\n",
    "        self._targets = []\n",
    "\n",
    "    @property\n",
    "    def value(self):\n",
    "        outputs = torch.cat(self._outputs)\n",
    "        targets = torch.cat(self._targets)\n",
    "        mse_score = self.mse(targets.numpy(), outputs.numpy())\n",
    "        return torch.tensor(mse_score)"
   ],
   "execution_count": null,
   "outputs": []
  },
  {
   "cell_type": "code",
   "metadata": {
    "id": "MGLilKpsbzhG"
   },
   "source": [
    "\n",
    "def multitaskloss(op, y):\n",
    "    ids = y[TASKS.IS_HUMOR.value] == 1\n",
    "    is_humor_loss = F.cross_entropy(op[TASKS.IS_HUMOR.value], y[TASKS.IS_HUMOR.value].long())\n",
    "    humor_controvery_loss = F.cross_entropy(op[TASKS.HUMOR_CONTROVERSY.value][ids],\n",
    "                                            y[TASKS.HUMOR_CONTROVERSY.value][ids].long())\n",
    "    humor_rating_loss = F.mse_loss(op[TASKS.HUMOR_RATING.value][ids], y[TASKS.HUMOR_RATING.value][ids].view(-1,1))\n",
    "\n",
    "\n",
    "    return (is_humor_loss + humor_controvery_loss + humor_rating_loss).float()\n"
   ],
   "execution_count": null,
   "outputs": []
  },
  {
   "cell_type": "code",
   "metadata": {
    "id": "A6U_vscnb2y7"
   },
   "source": [
    "\n",
    "class HydraNetwork(nn.Module):\n",
    "    def __init__(self, model_path):\n",
    "        super(HydraNetwork, self).__init__()\n",
    "\n",
    "        self.model = transformers.AutoModel.from_pretrained(\n",
    "            model_path, return_dict=False\n",
    "        )\n",
    "        in_features = self.model.pooler.dense.out_features\n",
    "        self.is_humor_head = torch.nn.Linear(in_features=in_features, out_features=2)\n",
    "        self.humor_controversy_head = torch.nn.Linear(in_features=in_features, out_features=2)\n",
    "        self.humor_rating_head = torch.nn.Linear(in_features=in_features, out_features=1)\n",
    "\n",
    "\n",
    "    def forward(self, x):\n",
    "        _, o_2 = self.model(**x)\n",
    "        return {TASKS.IS_HUMOR.value: self.is_humor_head(o_2),\n",
    "                TASKS.HUMOR_CONTROVERSY.value: self.humor_controversy_head(o_2),\n",
    "                TASKS.HUMOR_RATING.value: self.humor_rating_head(o_2)}\n",
    "\n"
   ],
   "execution_count": null,
   "outputs": []
  },
  {
   "cell_type": "code",
   "metadata": {
    "id": "8I5AWGeSb5NS"
   },
   "source": [
    "@cbs.on_experiment_end(order=cbs.CallbackOrder.EXTERNAL)\n",
    "def save_pickle_experiment(experiment: \"Experiment\"):\n",
    "    if \"/\" in BACKBONE_NAME:\n",
    "        prefix = BACKBONE_NAME.split(\"/\")[1]\n",
    "    else:\n",
    "        prefix = BACKBONE_NAME\n",
    "    pickle.dump(experiment.history, open(f\"{prefix}-experiment.pkl\", \"wb\"))\n"
   ],
   "execution_count": null,
   "outputs": []
  },
  {
   "cell_type": "code",
   "metadata": {
    "id": "_IptfCn0b777"
   },
   "source": [
    "\n",
    "class MultiTaskTrainer(Experiment):\n",
    "\n",
    "    def get_model_params(self, optimizer):\n",
    "        param_optimizer = list(self.state.model.named_parameters())\n",
    "\n",
    "        no_decay = [\"bias\", \"LayerNorm.bias\", \"LayerNorm.weight\"]\n",
    "        optimizer_parameters = [\n",
    "            {\n",
    "                \"params\": [\n",
    "                    p for n, p in param_optimizer if not any(nd in n for nd in no_decay)\n",
    "                ],\n",
    "                \"weight_decay\": 0.001,\n",
    "            },\n",
    "            {\n",
    "                \"params\": [\n",
    "                    p for n, p in param_optimizer if any(nd in n for nd in no_decay)\n",
    "                ],\n",
    "                \"weight_decay\": 0.0,\n",
    "            },\n",
    "        ]\n",
    "        return optimizer_parameters"
   ],
   "execution_count": null,
   "outputs": []
  },
  {
   "cell_type": "code",
   "metadata": {
    "id": "7sm3zDL2f2Y-",
    "colab": {
     "base_uri": "https://localhost:8080/",
     "height": 214,
     "referenced_widgets": [
      "c70bff28ec99423195bd13d2c7905237",
      "5828f584d62d43039ef8850327e0255c",
      "1674b6e4849c4d5ab7b70375f1a8bca8",
      "c4692b40cff946468c79137a06509151",
      "df9c833eb339433bbded1be383364c1d",
      "3751d49cd761404c9c1e1dda899a1dcf",
      "d83f679ad3f84d37b22f7341816b2600",
      "d12fe498a01d49a1ad90b9f5e3d69cb7",
      "5e8c0ec18f064ccbb320c3a1c7ea2114",
      "35399f10f4ab430ea2aded4cfa66b097",
      "2e6dfc9939f240879fd8380f37e97fb5",
      "d63d4ee572be4378acec5181c6e167f4",
      "57721a84cc4144e0b8d31d640489e909",
      "e50962747b9d44a590ee43ca9c417a28",
      "4ba47bd15da24f27a2866778c0a574b9",
      "07e160218f714733afaa81e3c8224d7e",
      "c31a329549a44979875cd1f29407fc2e",
      "8e983c5b80774d9a83bd84353a8e6988",
      "61ce19e4738b428abe9f71ba13103776",
      "9336d61e90b748dbb88191387eb41fc4",
      "15ccc51028c04d149e257ec2d64c9225",
      "9e1c4ab8ebc344de8dab7d56c6920735",
      "45f12d1c4b9241aeb0a33db29e68fb48",
      "fe20f1815cd8425e8f82a000b467e00d",
      "b499aea94fc1487c9453056198f410f8",
      "000b9fc0ac0b41ff9d12f4638b5a9317",
      "a98dba994e394c1d9f73d95f2280f1c7",
      "56dc0841a85b4098bea535b1c981f649",
      "806a65819773413fa79cdd195b189ba6",
      "5dc5a98380ca4e8d8c8d88410b4df7c9",
      "f9328193fad74027970114b5e9e01bad",
      "5dad48cba2c94715821a3c3cfea0ca94"
     ]
    },
    "outputId": "edc00953-b98d-42e6-9c59-edd1425b65a4"
   },
   "source": [
    "train_ds = MultiTaskDataset(csv_path = train_path, backbone_name = BACKBONE_NAME, max_len = 256)\n",
    "val_ds = MultiTaskDataset(csv_path = dev_path, backbone_name = BACKBONE_NAME, max_len = 256)\n",
    "\n",
    "train_dl = torch.utils.data.DataLoader(train_ds, batch_size = 32, shuffle = True)\n",
    "val_dl = torch.utils.data.DataLoader(val_ds, batch_size = 32, shuffle = False)"
   ],
   "execution_count": null,
   "outputs": [
    {
     "output_type": "display_data",
     "data": {
      "application/vnd.jupyter.widget-view+json": {
       "model_id": "c70bff28ec99423195bd13d2c7905237",
       "version_minor": 0,
       "version_major": 2
      },
      "text/plain": [
       "HBox(children=(FloatProgress(value=0.0, description='Downloading', max=481.0, style=ProgressStyle(description_…"
      ]
     },
     "metadata": {
      "tags": []
     }
    },
    {
     "output_type": "stream",
     "text": [
      "\n"
     ],
     "name": "stdout"
    },
    {
     "output_type": "display_data",
     "data": {
      "application/vnd.jupyter.widget-view+json": {
       "model_id": "5e8c0ec18f064ccbb320c3a1c7ea2114",
       "version_minor": 0,
       "version_major": 2
      },
      "text/plain": [
       "HBox(children=(FloatProgress(value=0.0, description='Downloading', max=898823.0, style=ProgressStyle(descripti…"
      ]
     },
     "metadata": {
      "tags": []
     }
    },
    {
     "output_type": "stream",
     "text": [
      "\n"
     ],
     "name": "stdout"
    },
    {
     "output_type": "display_data",
     "data": {
      "application/vnd.jupyter.widget-view+json": {
       "model_id": "c31a329549a44979875cd1f29407fc2e",
       "version_minor": 0,
       "version_major": 2
      },
      "text/plain": [
       "HBox(children=(FloatProgress(value=0.0, description='Downloading', max=456318.0, style=ProgressStyle(descripti…"
      ]
     },
     "metadata": {
      "tags": []
     }
    },
    {
     "output_type": "stream",
     "text": [
      "\n"
     ],
     "name": "stdout"
    },
    {
     "output_type": "display_data",
     "data": {
      "application/vnd.jupyter.widget-view+json": {
       "model_id": "b499aea94fc1487c9453056198f410f8",
       "version_minor": 0,
       "version_major": 2
      },
      "text/plain": [
       "HBox(children=(FloatProgress(value=0.0, description='Downloading', max=1355863.0, style=ProgressStyle(descript…"
      ]
     },
     "metadata": {
      "tags": []
     }
    },
    {
     "output_type": "stream",
     "text": [
      "\n"
     ],
     "name": "stdout"
    }
   ]
  },
  {
   "cell_type": "code",
   "metadata": {
    "id": "SCk3bxURco3K"
   },
   "source": [
    "config = ModelConfig(\n",
    "    nn_module=HydraNetwork,\n",
    "    module_params={\"model_path\": BACKBONE_NAME},\n",
    "    optimizer=\"Adam\",\n",
    "    optimizer_params={\"lr\": 3e-5},\n",
    "    criterion=multitaskloss,\n",
    ")\n",
    "callbacks = [\n",
    "    save_pickle_experiment\n",
    "]\n",
    "metric_list = [SklearnF1(target_name = TASKS.IS_HUMOR.value) , SklearnF1(target_name = TASKS.HUMOR_CONTROVERSY.value),\n",
    "               SklearnMSE(target_name = TASKS.HUMOR_RATING.value)]"
   ],
   "execution_count": null,
   "outputs": []
  },
  {
   "cell_type": "code",
   "metadata": {
    "id": "lPE5Sq6Xc-eI"
   },
   "source": [
    "multitask_exp = MultiTaskTrainer(num_epochs=5, seed=42, fp16=True, device=\"cuda\")"
   ],
   "execution_count": null,
   "outputs": []
  },
  {
   "cell_type": "code",
   "metadata": {
    "colab": {
     "base_uri": "https://localhost:8080/",
     "height": 138,
     "referenced_widgets": [
      "e5e3afc80f6d4a5db8b41bd7ddb4713b",
      "45267f393a674449b5dfa54bc3d2e82d",
      "2b7afbc905cc4875baa4865b927650a5",
      "45f6f7e823d34fb493f72af3768aa30e",
      "5f8221455b2d45f08e677465ce3e2fc8",
      "5e5345f1d7cc402a82c0403b0d315ae4",
      "9f072bbf1dbf4f0abaea02c7be6500ff",
      "faac34b5efe54595bdc57998269c744a"
     ]
    },
    "id": "5v4HjGH_dGbe",
    "outputId": "6adb3dd9-a595-408e-aadf-d4d91d4d1516"
   },
   "source": [
    "multitask_exp.compile_experiment(model_config=config, callbacks=callbacks, metrics=metric_list)"
   ],
   "execution_count": null,
   "outputs": [
    {
     "output_type": "display_data",
     "data": {
      "application/vnd.jupyter.widget-view+json": {
       "model_id": "e5e3afc80f6d4a5db8b41bd7ddb4713b",
       "version_minor": 0,
       "version_major": 2
      },
      "text/plain": [
       "HBox(children=(FloatProgress(value=0.0, description='Downloading', max=501200538.0, style=ProgressStyle(descri…"
      ]
     },
     "metadata": {
      "tags": []
     }
    },
    {
     "output_type": "stream",
     "text": [
      "\n"
     ],
     "name": "stdout"
    },
    {
     "output_type": "stream",
     "text": [
      "Some weights of the model checkpoint at roberta-base were not used when initializing RobertaModel: ['lm_head.decoder.weight', 'lm_head.bias', 'lm_head.dense.bias', 'lm_head.layer_norm.bias', 'lm_head.layer_norm.weight', 'lm_head.dense.weight']\n",
      "- This IS expected if you are initializing RobertaModel from the checkpoint of a model trained on another task or with another architecture (e.g. initializing a BertForSequenceClassification model from a BertForPreTraining model).\n",
      "- This IS NOT expected if you are initializing RobertaModel from the checkpoint of a model that you expect to be exactly identical (initializing a BertForSequenceClassification model from a BertForSequenceClassification model).\n"
     ],
     "name": "stderr"
    }
   ]
  },
  {
   "cell_type": "code",
   "metadata": {
    "colab": {
     "base_uri": "https://localhost:8080/"
    },
    "id": "1sv3LSAmfvT0",
    "outputId": "99a81675-c551-4f49-8330-2b0ed1fda124"
   },
   "source": [
    "multitask_exp.fit_loader(train_dl, val_dl)"
   ],
   "execution_count": null,
   "outputs": [
    {
     "output_type": "stream",
     "text": [
      "\n",
      "Epoch: 1/5\n",
      "250/250 [=========================]- 216s 862ms/step - train_loss: 1.4228 - train_is_humor_f1_score: 0.8991 - train_humor_controversy_f1_score: 0.4700 - train_humor_rating_mean_squared_error: 1.3193\n",
      "32/32 [=========================]- 11s 352ms/step - val_loss: 1.2724 - val_is_humor_f1_score: 0.8997 - val_humor_controversy_f1_score: 0.4663 - val_humor_rating_mean_squared_error: 1.3222\n",
      "\n",
      "Epoch: 2/5\n",
      "250/250 [=========================]- 223s 891ms/step - train_loss: 1.0727 - train_is_humor_f1_score: 0.9294 - train_humor_controversy_f1_score: 0.4914 - train_humor_rating_mean_squared_error: 1.2574\n",
      "32/32 [=========================]- 11s 349ms/step - val_loss: 1.2069 - val_is_humor_f1_score: 0.9285 - val_humor_controversy_f1_score: 0.4799 - val_humor_rating_mean_squared_error: 1.2581\n",
      "\n",
      "Epoch: 3/5\n",
      "250/250 [=========================]- 214s 855ms/step - train_loss: 0.9695 - train_is_humor_f1_score: 0.9449 - train_humor_controversy_f1_score: 0.5076 - train_humor_rating_mean_squared_error: 1.1773\n",
      "32/32 [=========================]- 10s 316ms/step - val_loss: 1.2554 - val_is_humor_f1_score: 0.9443 - val_humor_controversy_f1_score: 0.5132 - val_humor_rating_mean_squared_error: 1.1694\n",
      "\n",
      "Epoch: 4/5\n",
      "250/250 [=========================]- 213s 853ms/step - train_loss: 0.8907 - train_is_humor_f1_score: 0.9540 - train_humor_controversy_f1_score: 0.5361 - train_humor_rating_mean_squared_error: 1.1152\n",
      "32/32 [=========================]- 10s 317ms/step - val_loss: 1.2220 - val_is_humor_f1_score: 0.9535 - val_humor_controversy_f1_score: 0.5374 - val_humor_rating_mean_squared_error: 1.1096\n",
      "\n",
      "Epoch: 5/5\n",
      "250/250 [=========================]- 214s 854ms/step - train_loss: 0.8019 - train_is_humor_f1_score: 0.9599 - train_humor_controversy_f1_score: 0.5645 - train_humor_rating_mean_squared_error: 1.0914\n",
      "32/32 [=========================]- 10s 317ms/step - val_loss: 1.2875 - val_is_humor_f1_score: 0.9591 - val_humor_controversy_f1_score: 0.5651 - val_humor_rating_mean_squared_error: 1.0923\n"
     ],
     "name": "stdout"
    }
   ]
  },
  {
   "cell_type": "code",
   "metadata": {
    "id": "WvKsIsF8t3q1"
   },
   "source": [
    "test_path = \"/content/drive/MyDrive/Hahakathon/gold-test-27446.csv\"\n",
    "test_ds = MultiTaskDataset(csv_path = test_path, backbone_name = BACKBONE_NAME, max_len = 256)\n",
    "test_dl = torch.utils.data.DataLoader(test_ds, batch_size = 64, shuffle = False)"
   ],
   "execution_count": null,
   "outputs": []
  },
  {
   "cell_type": "code",
   "metadata": {
    "id": "3vnahbYP9NV0"
   },
   "source": [
    "from torchflare.experiments import to_device"
   ],
   "execution_count": null,
   "outputs": []
  },
  {
   "cell_type": "code",
   "metadata": {
    "id": "7JtlTNMP8Y8v"
   },
   "source": [
    "is_humor = []\n",
    "humor_contro = []\n",
    "humor_rating = []\n",
    "for batch in test_dl:\n",
    "    batch = to_device(batch[0] , device = \"cuda\")\n",
    "    with torch.no_grad():\n",
    "        op = multitask_exp.state.model(batch)\n",
    "    is_humor.extend(torch.argmax(op[TASKS.IS_HUMOR.value] , dim = 1).cpu().numpy())\n",
    "    humor_contro.extend(torch.argmax(op[TASKS.HUMOR_CONTROVERSY.value] , dim = 1).cpu().numpy())\n",
    "    humor_rating.extend(op[TASKS.HUMOR_RATING.value].cpu().numpy())\n",
    "\n",
    "    \n"
   ],
   "execution_count": null,
   "outputs": []
  },
  {
   "cell_type": "markdown",
   "metadata": {
    "id": "H-4EJW6b3Uvw"
   },
   "source": [
    "## Scores on Gold-Test Data "
   ]
  },
  {
   "cell_type": "code",
   "metadata": {
    "colab": {
     "base_uri": "https://localhost:8080/"
    },
    "id": "I4SMgynD9AVN",
    "outputId": "7a6a915a-a098-4d12-c1d0-d0516b7a3bb1"
   },
   "source": [
    "print(f\"Task 1A(F1-Score) : {skm.f1_score(test_ds.data.loc[: , 'is_humor'].values , is_humor)}\")\n",
    "print(f\"Task 1B(RMSE) : {skm.mean_squared_error(test_ds.data.loc[: , 'humor_rating'].values , humor_rating , squared = False)}\")\n",
    "print(f\"Task 1C(F1-Score) : {skm.f1_score(test_ds.data.loc[: , 'humor_controversy'].values , humor_contro)}\")\n"
   ],
   "execution_count": null,
   "outputs": [
    {
     "output_type": "stream",
     "text": [
      "Task 1A(F1-Score) : 0.9465408805031446\n",
      "Task 1B(RMSE) : 1.1278545703284797\n",
      "Task 1C(F1-Score) : 0.5326370757180157\n"
     ],
     "name": "stdout"
    }
   ]
  },
  {
   "cell_type": "code",
   "metadata": {
    "id": "oPm-udWPxHai"
   },
   "source": [
    "torch.save(multitask_exp.state.model.state_dict(), \"roberta--multitask.bin\")"
   ],
   "execution_count": null,
   "outputs": []
  }
 ]
}