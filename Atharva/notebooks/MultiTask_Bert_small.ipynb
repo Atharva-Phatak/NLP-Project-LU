{
  "nbformat": 4,
  "nbformat_minor": 0,
  "metadata": {
    "colab": {
      "name": "MultiTask-Bert-small.ipynb",
      "provenance": [],
      "collapsed_sections": []
    },
    "kernelspec": {
      "name": "python3",
      "display_name": "Python 3"
    },
    "language_info": {
      "name": "python"
    },
    "accelerator": "GPU",
    "widgets": {
      "application/vnd.jupyter.widget-state+json": {
        "9741e5a40cc34ae9b6619643cbf22735": {
          "model_module": "@jupyter-widgets/controls",
          "model_name": "HBoxModel",
          "state": {
            "_view_name": "HBoxView",
            "_dom_classes": [],
            "_model_name": "HBoxModel",
            "_view_module": "@jupyter-widgets/controls",
            "_model_module_version": "1.5.0",
            "_view_count": null,
            "_view_module_version": "1.5.0",
            "box_style": "",
            "layout": "IPY_MODEL_00cdf19e69f647f6a396dc0ad0acebf3",
            "_model_module": "@jupyter-widgets/controls",
            "children": [
              "IPY_MODEL_61b1c5ad1d584498b18a83fdb2327b95",
              "IPY_MODEL_282d0d1b35a4494b88e31366969d6215"
            ]
          }
        },
        "00cdf19e69f647f6a396dc0ad0acebf3": {
          "model_module": "@jupyter-widgets/base",
          "model_name": "LayoutModel",
          "state": {
            "_view_name": "LayoutView",
            "grid_template_rows": null,
            "right": null,
            "justify_content": null,
            "_view_module": "@jupyter-widgets/base",
            "overflow": null,
            "_model_module_version": "1.2.0",
            "_view_count": null,
            "flex_flow": null,
            "width": null,
            "min_width": null,
            "border": null,
            "align_items": null,
            "bottom": null,
            "_model_module": "@jupyter-widgets/base",
            "top": null,
            "grid_column": null,
            "overflow_y": null,
            "overflow_x": null,
            "grid_auto_flow": null,
            "grid_area": null,
            "grid_template_columns": null,
            "flex": null,
            "_model_name": "LayoutModel",
            "justify_items": null,
            "grid_row": null,
            "max_height": null,
            "align_content": null,
            "visibility": null,
            "align_self": null,
            "height": null,
            "min_height": null,
            "padding": null,
            "grid_auto_rows": null,
            "grid_gap": null,
            "max_width": null,
            "order": null,
            "_view_module_version": "1.2.0",
            "grid_template_areas": null,
            "object_position": null,
            "object_fit": null,
            "grid_auto_columns": null,
            "margin": null,
            "display": null,
            "left": null
          }
        },
        "61b1c5ad1d584498b18a83fdb2327b95": {
          "model_module": "@jupyter-widgets/controls",
          "model_name": "FloatProgressModel",
          "state": {
            "_view_name": "ProgressView",
            "style": "IPY_MODEL_7da2a9b4943f403fb68a9d0c5233ade9",
            "_dom_classes": [],
            "description": "Downloading: 100%",
            "_model_name": "FloatProgressModel",
            "bar_style": "success",
            "max": 286,
            "_view_module": "@jupyter-widgets/controls",
            "_model_module_version": "1.5.0",
            "value": 286,
            "_view_count": null,
            "_view_module_version": "1.5.0",
            "orientation": "horizontal",
            "min": 0,
            "description_tooltip": null,
            "_model_module": "@jupyter-widgets/controls",
            "layout": "IPY_MODEL_9c5c5089387c4b9cafad2d0a88abd227"
          }
        },
        "282d0d1b35a4494b88e31366969d6215": {
          "model_module": "@jupyter-widgets/controls",
          "model_name": "HTMLModel",
          "state": {
            "_view_name": "HTMLView",
            "style": "IPY_MODEL_da901e3eef184433903b72d1cdbea423",
            "_dom_classes": [],
            "description": "",
            "_model_name": "HTMLModel",
            "placeholder": "​",
            "_view_module": "@jupyter-widgets/controls",
            "_model_module_version": "1.5.0",
            "value": " 286/286 [00:00&lt;00:00, 327B/s]",
            "_view_count": null,
            "_view_module_version": "1.5.0",
            "description_tooltip": null,
            "_model_module": "@jupyter-widgets/controls",
            "layout": "IPY_MODEL_3a338e721f8542c6806f83e53fdc46c6"
          }
        },
        "7da2a9b4943f403fb68a9d0c5233ade9": {
          "model_module": "@jupyter-widgets/controls",
          "model_name": "ProgressStyleModel",
          "state": {
            "_view_name": "StyleView",
            "_model_name": "ProgressStyleModel",
            "description_width": "initial",
            "_view_module": "@jupyter-widgets/base",
            "_model_module_version": "1.5.0",
            "_view_count": null,
            "_view_module_version": "1.2.0",
            "bar_color": null,
            "_model_module": "@jupyter-widgets/controls"
          }
        },
        "9c5c5089387c4b9cafad2d0a88abd227": {
          "model_module": "@jupyter-widgets/base",
          "model_name": "LayoutModel",
          "state": {
            "_view_name": "LayoutView",
            "grid_template_rows": null,
            "right": null,
            "justify_content": null,
            "_view_module": "@jupyter-widgets/base",
            "overflow": null,
            "_model_module_version": "1.2.0",
            "_view_count": null,
            "flex_flow": null,
            "width": null,
            "min_width": null,
            "border": null,
            "align_items": null,
            "bottom": null,
            "_model_module": "@jupyter-widgets/base",
            "top": null,
            "grid_column": null,
            "overflow_y": null,
            "overflow_x": null,
            "grid_auto_flow": null,
            "grid_area": null,
            "grid_template_columns": null,
            "flex": null,
            "_model_name": "LayoutModel",
            "justify_items": null,
            "grid_row": null,
            "max_height": null,
            "align_content": null,
            "visibility": null,
            "align_self": null,
            "height": null,
            "min_height": null,
            "padding": null,
            "grid_auto_rows": null,
            "grid_gap": null,
            "max_width": null,
            "order": null,
            "_view_module_version": "1.2.0",
            "grid_template_areas": null,
            "object_position": null,
            "object_fit": null,
            "grid_auto_columns": null,
            "margin": null,
            "display": null,
            "left": null
          }
        },
        "da901e3eef184433903b72d1cdbea423": {
          "model_module": "@jupyter-widgets/controls",
          "model_name": "DescriptionStyleModel",
          "state": {
            "_view_name": "StyleView",
            "_model_name": "DescriptionStyleModel",
            "description_width": "",
            "_view_module": "@jupyter-widgets/base",
            "_model_module_version": "1.5.0",
            "_view_count": null,
            "_view_module_version": "1.2.0",
            "_model_module": "@jupyter-widgets/controls"
          }
        },
        "3a338e721f8542c6806f83e53fdc46c6": {
          "model_module": "@jupyter-widgets/base",
          "model_name": "LayoutModel",
          "state": {
            "_view_name": "LayoutView",
            "grid_template_rows": null,
            "right": null,
            "justify_content": null,
            "_view_module": "@jupyter-widgets/base",
            "overflow": null,
            "_model_module_version": "1.2.0",
            "_view_count": null,
            "flex_flow": null,
            "width": null,
            "min_width": null,
            "border": null,
            "align_items": null,
            "bottom": null,
            "_model_module": "@jupyter-widgets/base",
            "top": null,
            "grid_column": null,
            "overflow_y": null,
            "overflow_x": null,
            "grid_auto_flow": null,
            "grid_area": null,
            "grid_template_columns": null,
            "flex": null,
            "_model_name": "LayoutModel",
            "justify_items": null,
            "grid_row": null,
            "max_height": null,
            "align_content": null,
            "visibility": null,
            "align_self": null,
            "height": null,
            "min_height": null,
            "padding": null,
            "grid_auto_rows": null,
            "grid_gap": null,
            "max_width": null,
            "order": null,
            "_view_module_version": "1.2.0",
            "grid_template_areas": null,
            "object_position": null,
            "object_fit": null,
            "grid_auto_columns": null,
            "margin": null,
            "display": null,
            "left": null
          }
        },
        "d09caff045ee440eb9c258e0d3f2adfb": {
          "model_module": "@jupyter-widgets/controls",
          "model_name": "HBoxModel",
          "state": {
            "_view_name": "HBoxView",
            "_dom_classes": [],
            "_model_name": "HBoxModel",
            "_view_module": "@jupyter-widgets/controls",
            "_model_module_version": "1.5.0",
            "_view_count": null,
            "_view_module_version": "1.5.0",
            "box_style": "",
            "layout": "IPY_MODEL_b9b5532f5e4741e5a86a8ce02c86ca2a",
            "_model_module": "@jupyter-widgets/controls",
            "children": [
              "IPY_MODEL_9fe5c2969c9146a897edc5f3c1b7d742",
              "IPY_MODEL_de01ffd6f66048d6a2a1a3fa31f2dad0"
            ]
          }
        },
        "b9b5532f5e4741e5a86a8ce02c86ca2a": {
          "model_module": "@jupyter-widgets/base",
          "model_name": "LayoutModel",
          "state": {
            "_view_name": "LayoutView",
            "grid_template_rows": null,
            "right": null,
            "justify_content": null,
            "_view_module": "@jupyter-widgets/base",
            "overflow": null,
            "_model_module_version": "1.2.0",
            "_view_count": null,
            "flex_flow": null,
            "width": null,
            "min_width": null,
            "border": null,
            "align_items": null,
            "bottom": null,
            "_model_module": "@jupyter-widgets/base",
            "top": null,
            "grid_column": null,
            "overflow_y": null,
            "overflow_x": null,
            "grid_auto_flow": null,
            "grid_area": null,
            "grid_template_columns": null,
            "flex": null,
            "_model_name": "LayoutModel",
            "justify_items": null,
            "grid_row": null,
            "max_height": null,
            "align_content": null,
            "visibility": null,
            "align_self": null,
            "height": null,
            "min_height": null,
            "padding": null,
            "grid_auto_rows": null,
            "grid_gap": null,
            "max_width": null,
            "order": null,
            "_view_module_version": "1.2.0",
            "grid_template_areas": null,
            "object_position": null,
            "object_fit": null,
            "grid_auto_columns": null,
            "margin": null,
            "display": null,
            "left": null
          }
        },
        "9fe5c2969c9146a897edc5f3c1b7d742": {
          "model_module": "@jupyter-widgets/controls",
          "model_name": "FloatProgressModel",
          "state": {
            "_view_name": "ProgressView",
            "style": "IPY_MODEL_7d343a92135e4815b5be06c7be94b820",
            "_dom_classes": [],
            "description": "Downloading: 100%",
            "_model_name": "FloatProgressModel",
            "bar_style": "success",
            "max": 231508,
            "_view_module": "@jupyter-widgets/controls",
            "_model_module_version": "1.5.0",
            "value": 231508,
            "_view_count": null,
            "_view_module_version": "1.5.0",
            "orientation": "horizontal",
            "min": 0,
            "description_tooltip": null,
            "_model_module": "@jupyter-widgets/controls",
            "layout": "IPY_MODEL_c327ed8a370949bdbec23515e15971cb"
          }
        },
        "de01ffd6f66048d6a2a1a3fa31f2dad0": {
          "model_module": "@jupyter-widgets/controls",
          "model_name": "HTMLModel",
          "state": {
            "_view_name": "HTMLView",
            "style": "IPY_MODEL_cf231ba5accb4c58b9276b1ea7192369",
            "_dom_classes": [],
            "description": "",
            "_model_name": "HTMLModel",
            "placeholder": "​",
            "_view_module": "@jupyter-widgets/controls",
            "_model_module_version": "1.5.0",
            "value": " 232k/232k [00:01&lt;00:00, 150kB/s]",
            "_view_count": null,
            "_view_module_version": "1.5.0",
            "description_tooltip": null,
            "_model_module": "@jupyter-widgets/controls",
            "layout": "IPY_MODEL_d83a6657809a452a89dc1ad7e71fa70d"
          }
        },
        "7d343a92135e4815b5be06c7be94b820": {
          "model_module": "@jupyter-widgets/controls",
          "model_name": "ProgressStyleModel",
          "state": {
            "_view_name": "StyleView",
            "_model_name": "ProgressStyleModel",
            "description_width": "initial",
            "_view_module": "@jupyter-widgets/base",
            "_model_module_version": "1.5.0",
            "_view_count": null,
            "_view_module_version": "1.2.0",
            "bar_color": null,
            "_model_module": "@jupyter-widgets/controls"
          }
        },
        "c327ed8a370949bdbec23515e15971cb": {
          "model_module": "@jupyter-widgets/base",
          "model_name": "LayoutModel",
          "state": {
            "_view_name": "LayoutView",
            "grid_template_rows": null,
            "right": null,
            "justify_content": null,
            "_view_module": "@jupyter-widgets/base",
            "overflow": null,
            "_model_module_version": "1.2.0",
            "_view_count": null,
            "flex_flow": null,
            "width": null,
            "min_width": null,
            "border": null,
            "align_items": null,
            "bottom": null,
            "_model_module": "@jupyter-widgets/base",
            "top": null,
            "grid_column": null,
            "overflow_y": null,
            "overflow_x": null,
            "grid_auto_flow": null,
            "grid_area": null,
            "grid_template_columns": null,
            "flex": null,
            "_model_name": "LayoutModel",
            "justify_items": null,
            "grid_row": null,
            "max_height": null,
            "align_content": null,
            "visibility": null,
            "align_self": null,
            "height": null,
            "min_height": null,
            "padding": null,
            "grid_auto_rows": null,
            "grid_gap": null,
            "max_width": null,
            "order": null,
            "_view_module_version": "1.2.0",
            "grid_template_areas": null,
            "object_position": null,
            "object_fit": null,
            "grid_auto_columns": null,
            "margin": null,
            "display": null,
            "left": null
          }
        },
        "cf231ba5accb4c58b9276b1ea7192369": {
          "model_module": "@jupyter-widgets/controls",
          "model_name": "DescriptionStyleModel",
          "state": {
            "_view_name": "StyleView",
            "_model_name": "DescriptionStyleModel",
            "description_width": "",
            "_view_module": "@jupyter-widgets/base",
            "_model_module_version": "1.5.0",
            "_view_count": null,
            "_view_module_version": "1.2.0",
            "_model_module": "@jupyter-widgets/controls"
          }
        },
        "d83a6657809a452a89dc1ad7e71fa70d": {
          "model_module": "@jupyter-widgets/base",
          "model_name": "LayoutModel",
          "state": {
            "_view_name": "LayoutView",
            "grid_template_rows": null,
            "right": null,
            "justify_content": null,
            "_view_module": "@jupyter-widgets/base",
            "overflow": null,
            "_model_module_version": "1.2.0",
            "_view_count": null,
            "flex_flow": null,
            "width": null,
            "min_width": null,
            "border": null,
            "align_items": null,
            "bottom": null,
            "_model_module": "@jupyter-widgets/base",
            "top": null,
            "grid_column": null,
            "overflow_y": null,
            "overflow_x": null,
            "grid_auto_flow": null,
            "grid_area": null,
            "grid_template_columns": null,
            "flex": null,
            "_model_name": "LayoutModel",
            "justify_items": null,
            "grid_row": null,
            "max_height": null,
            "align_content": null,
            "visibility": null,
            "align_self": null,
            "height": null,
            "min_height": null,
            "padding": null,
            "grid_auto_rows": null,
            "grid_gap": null,
            "max_width": null,
            "order": null,
            "_view_module_version": "1.2.0",
            "grid_template_areas": null,
            "object_position": null,
            "object_fit": null,
            "grid_auto_columns": null,
            "margin": null,
            "display": null,
            "left": null
          }
        },
        "47ecf3f1efcc4350885300939cbb2058": {
          "model_module": "@jupyter-widgets/controls",
          "model_name": "HBoxModel",
          "state": {
            "_view_name": "HBoxView",
            "_dom_classes": [],
            "_model_name": "HBoxModel",
            "_view_module": "@jupyter-widgets/controls",
            "_model_module_version": "1.5.0",
            "_view_count": null,
            "_view_module_version": "1.5.0",
            "box_style": "",
            "layout": "IPY_MODEL_4cb64e0dc1e6433abd36d27c4f183812",
            "_model_module": "@jupyter-widgets/controls",
            "children": [
              "IPY_MODEL_f7ee89cff52246dd9454918610ceba16",
              "IPY_MODEL_65670e5a95e94bf2848968faf1b6506c"
            ]
          }
        },
        "4cb64e0dc1e6433abd36d27c4f183812": {
          "model_module": "@jupyter-widgets/base",
          "model_name": "LayoutModel",
          "state": {
            "_view_name": "LayoutView",
            "grid_template_rows": null,
            "right": null,
            "justify_content": null,
            "_view_module": "@jupyter-widgets/base",
            "overflow": null,
            "_model_module_version": "1.2.0",
            "_view_count": null,
            "flex_flow": null,
            "width": null,
            "min_width": null,
            "border": null,
            "align_items": null,
            "bottom": null,
            "_model_module": "@jupyter-widgets/base",
            "top": null,
            "grid_column": null,
            "overflow_y": null,
            "overflow_x": null,
            "grid_auto_flow": null,
            "grid_area": null,
            "grid_template_columns": null,
            "flex": null,
            "_model_name": "LayoutModel",
            "justify_items": null,
            "grid_row": null,
            "max_height": null,
            "align_content": null,
            "visibility": null,
            "align_self": null,
            "height": null,
            "min_height": null,
            "padding": null,
            "grid_auto_rows": null,
            "grid_gap": null,
            "max_width": null,
            "order": null,
            "_view_module_version": "1.2.0",
            "grid_template_areas": null,
            "object_position": null,
            "object_fit": null,
            "grid_auto_columns": null,
            "margin": null,
            "display": null,
            "left": null
          }
        },
        "f7ee89cff52246dd9454918610ceba16": {
          "model_module": "@jupyter-widgets/controls",
          "model_name": "FloatProgressModel",
          "state": {
            "_view_name": "ProgressView",
            "style": "IPY_MODEL_3d3bfe27023642afa745d60e73d627bb",
            "_dom_classes": [],
            "description": "Downloading: 100%",
            "_model_name": "FloatProgressModel",
            "bar_style": "success",
            "max": 116270890,
            "_view_module": "@jupyter-widgets/controls",
            "_model_module_version": "1.5.0",
            "value": 116270890,
            "_view_count": null,
            "_view_module_version": "1.5.0",
            "orientation": "horizontal",
            "min": 0,
            "description_tooltip": null,
            "_model_module": "@jupyter-widgets/controls",
            "layout": "IPY_MODEL_2190984b5967411fa5a39e274dd43e4b"
          }
        },
        "65670e5a95e94bf2848968faf1b6506c": {
          "model_module": "@jupyter-widgets/controls",
          "model_name": "HTMLModel",
          "state": {
            "_view_name": "HTMLView",
            "style": "IPY_MODEL_8875c17196b649b8a272d27e55291b94",
            "_dom_classes": [],
            "description": "",
            "_model_name": "HTMLModel",
            "placeholder": "​",
            "_view_module": "@jupyter-widgets/controls",
            "_model_module_version": "1.5.0",
            "value": " 116M/116M [00:05&lt;00:00, 20.1MB/s]",
            "_view_count": null,
            "_view_module_version": "1.5.0",
            "description_tooltip": null,
            "_model_module": "@jupyter-widgets/controls",
            "layout": "IPY_MODEL_2fd97fc204434edd8e8bc8783871bd8d"
          }
        },
        "3d3bfe27023642afa745d60e73d627bb": {
          "model_module": "@jupyter-widgets/controls",
          "model_name": "ProgressStyleModel",
          "state": {
            "_view_name": "StyleView",
            "_model_name": "ProgressStyleModel",
            "description_width": "initial",
            "_view_module": "@jupyter-widgets/base",
            "_model_module_version": "1.5.0",
            "_view_count": null,
            "_view_module_version": "1.2.0",
            "bar_color": null,
            "_model_module": "@jupyter-widgets/controls"
          }
        },
        "2190984b5967411fa5a39e274dd43e4b": {
          "model_module": "@jupyter-widgets/base",
          "model_name": "LayoutModel",
          "state": {
            "_view_name": "LayoutView",
            "grid_template_rows": null,
            "right": null,
            "justify_content": null,
            "_view_module": "@jupyter-widgets/base",
            "overflow": null,
            "_model_module_version": "1.2.0",
            "_view_count": null,
            "flex_flow": null,
            "width": null,
            "min_width": null,
            "border": null,
            "align_items": null,
            "bottom": null,
            "_model_module": "@jupyter-widgets/base",
            "top": null,
            "grid_column": null,
            "overflow_y": null,
            "overflow_x": null,
            "grid_auto_flow": null,
            "grid_area": null,
            "grid_template_columns": null,
            "flex": null,
            "_model_name": "LayoutModel",
            "justify_items": null,
            "grid_row": null,
            "max_height": null,
            "align_content": null,
            "visibility": null,
            "align_self": null,
            "height": null,
            "min_height": null,
            "padding": null,
            "grid_auto_rows": null,
            "grid_gap": null,
            "max_width": null,
            "order": null,
            "_view_module_version": "1.2.0",
            "grid_template_areas": null,
            "object_position": null,
            "object_fit": null,
            "grid_auto_columns": null,
            "margin": null,
            "display": null,
            "left": null
          }
        },
        "8875c17196b649b8a272d27e55291b94": {
          "model_module": "@jupyter-widgets/controls",
          "model_name": "DescriptionStyleModel",
          "state": {
            "_view_name": "StyleView",
            "_model_name": "DescriptionStyleModel",
            "description_width": "",
            "_view_module": "@jupyter-widgets/base",
            "_model_module_version": "1.5.0",
            "_view_count": null,
            "_view_module_version": "1.2.0",
            "_model_module": "@jupyter-widgets/controls"
          }
        },
        "2fd97fc204434edd8e8bc8783871bd8d": {
          "model_module": "@jupyter-widgets/base",
          "model_name": "LayoutModel",
          "state": {
            "_view_name": "LayoutView",
            "grid_template_rows": null,
            "right": null,
            "justify_content": null,
            "_view_module": "@jupyter-widgets/base",
            "overflow": null,
            "_model_module_version": "1.2.0",
            "_view_count": null,
            "flex_flow": null,
            "width": null,
            "min_width": null,
            "border": null,
            "align_items": null,
            "bottom": null,
            "_model_module": "@jupyter-widgets/base",
            "top": null,
            "grid_column": null,
            "overflow_y": null,
            "overflow_x": null,
            "grid_auto_flow": null,
            "grid_area": null,
            "grid_template_columns": null,
            "flex": null,
            "_model_name": "LayoutModel",
            "justify_items": null,
            "grid_row": null,
            "max_height": null,
            "align_content": null,
            "visibility": null,
            "align_self": null,
            "height": null,
            "min_height": null,
            "padding": null,
            "grid_auto_rows": null,
            "grid_gap": null,
            "max_width": null,
            "order": null,
            "_view_module_version": "1.2.0",
            "grid_template_areas": null,
            "object_position": null,
            "object_fit": null,
            "grid_auto_columns": null,
            "margin": null,
            "display": null,
            "left": null
          }
        }
      }
    }
  },
  "cells": [
    {
      "cell_type": "code",
      "metadata": {
        "colab": {
          "base_uri": "https://localhost:8080/"
        },
        "id": "DnKa0a7jHZ5x",
        "outputId": "37f0d9fa-0857-4972-c7a4-d88e8ee18a27"
      },
      "source": [
        "!pip install -qq torchflare\n",
        "!pip install -qq transformers"
      ],
      "execution_count": 1,
      "outputs": [
        {
          "output_type": "stream",
          "text": [
            "\u001b[K     |████████████████████████████████| 85 kB 3.1 MB/s \n",
            "\u001b[K     |████████████████████████████████| 17.3 MB 42 kB/s \n",
            "\u001b[K     |████████████████████████████████| 10.3 MB 52.9 MB/s \n",
            "\u001b[K     |████████████████████████████████| 98 kB 9.4 MB/s \n",
            "\u001b[K     |████████████████████████████████| 15.3 MB 289 kB/s \n",
            "\u001b[K     |████████████████████████████████| 3.0 MB 51.2 MB/s \n",
            "\u001b[K     |████████████████████████████████| 22.3 MB 1.3 MB/s \n",
            "\u001b[K     |████████████████████████████████| 9.9 MB 57.1 MB/s \n",
            "\u001b[K     |████████████████████████████████| 61 kB 502 kB/s \n",
            "\u001b[K     |████████████████████████████████| 735.5 MB 13 kB/s \n",
            "\u001b[K     |████████████████████████████████| 51.0 MB 84 kB/s \n",
            "\u001b[K     |████████████████████████████████| 37.1 MB 1.2 MB/s \n",
            "\u001b[31mERROR: pip's dependency resolver does not currently take into account all the packages that are installed. This behaviour is the source of the following dependency conflicts.\n",
            "torchtext 0.10.0 requires torch==1.9.0, but you have torch 1.8.0 which is incompatible.\n",
            "tensorflow 2.5.0 requires numpy~=1.19.2, but you have numpy 1.20.3 which is incompatible.\n",
            "google-colab 1.0.0 requires pandas~=1.1.0; python_version >= \"3.0\", but you have pandas 1.2.5 which is incompatible.\n",
            "google-colab 1.0.0 requires requests~=2.23.0, but you have requests 2.24.0 which is incompatible.\n",
            "datascience 0.10.6 requires folium==0.2.1, but you have folium 0.8.3 which is incompatible.\u001b[0m\n",
            "\u001b[K     |████████████████████████████████| 2.6 MB 9.0 MB/s \n",
            "\u001b[K     |████████████████████████████████| 3.3 MB 57.2 MB/s \n",
            "\u001b[K     |████████████████████████████████| 636 kB 60.2 MB/s \n",
            "\u001b[K     |████████████████████████████████| 895 kB 60.5 MB/s \n",
            "\u001b[?25h"
          ],
          "name": "stdout"
        }
      ]
    },
    {
      "cell_type": "code",
      "metadata": {
        "id": "-ajfa9VpHIeZ"
      },
      "source": [
        "from torchflare.experiments import Experiment, ModelConfig\n",
        "import torch\n",
        "from torchflare.metrics import MetricMeter, _BaseMetric\n",
        "from functools import partial\n",
        "import torch.nn.functional as F\n",
        "import sklearn.metrics as skm\n",
        "import torch.nn as nn\n",
        "import transformers\n",
        "import pandas as pd\n",
        "from enum import Enum\n",
        "import torchflare.callbacks as cbs\n",
        "import pickle\n",
        "\n",
        "import warnings\n",
        "warnings.filterwarnings(\"ignore\")"
      ],
      "execution_count": 2,
      "outputs": []
    },
    {
      "cell_type": "code",
      "metadata": {
        "id": "ehm9QLvCcYEI"
      },
      "source": [
        "#Change Backbone name here.\n",
        "BACKBONE_NAME = \"prajjwal1/bert-small\""
      ],
      "execution_count": 3,
      "outputs": []
    },
    {
      "cell_type": "code",
      "metadata": {
        "id": "gF0d69M-HRnw"
      },
      "source": [
        "train_path = \"/content/drive/MyDrive/Hahakathon/train.csv\"\n",
        "dev_path = \"/content/drive/MyDrive/Hahakathon/dev.csv\"\n"
      ],
      "execution_count": 4,
      "outputs": []
    },
    {
      "cell_type": "code",
      "metadata": {
        "id": "kVyHt0mYLMW-"
      },
      "source": [
        "class TASKS(Enum):\n",
        "    IS_HUMOR = \"is_humor\"\n",
        "    HUMOR_CONTROVERSY = \"humor_controversy\"\n",
        "    HUMOR_RATING = \"humor_rating\"\n",
        "    OFFENSE_RATING = \"offense_rating\""
      ],
      "execution_count": 5,
      "outputs": []
    },
    {
      "cell_type": "code",
      "metadata": {
        "id": "FE8mphsebn2w"
      },
      "source": [
        "\n",
        "class MultiTaskDataset:\n",
        "    def __init__(self, csv_path, backbone_name, max_len):\n",
        "        self.data = self.read_df(path=csv_path)\n",
        "        self.tokenizer = transformers.AutoTokenizer.from_pretrained(backbone_name)\n",
        "        self.max_len = max_len\n",
        "\n",
        "    @staticmethod\n",
        "    def read_df(path):\n",
        "        df = pd.read_csv(path)\n",
        "        df = df.fillna(0)\n",
        "        df[TASKS.HUMOR_CONTROVERSY.value] = df[TASKS.HUMOR_CONTROVERSY.value].astype('int')\n",
        "        return df\n",
        "\n",
        "    def __len__(self):\n",
        "        return len(self.data)\n",
        "\n",
        "    def __getitem__(self, idx):\n",
        "        inps = self.tokenizer(\n",
        "            self.data.iloc[idx][\"text\"],\n",
        "            max_length=self.max_len,\n",
        "            padding=\"max_length\",\n",
        "            return_tensors=\"pt\",\n",
        "            truncation=True,\n",
        "        )\n",
        "        inps = {k: v.squeeze(0) for k, v in inps.items()}\n",
        "        label = {\n",
        "            TASKS.IS_HUMOR.value: torch.tensor(self.data.iloc[idx][TASKS.IS_HUMOR.value]),\n",
        "            TASKS.HUMOR_CONTROVERSY.value: torch.tensor(self.data.iloc[idx][TASKS.HUMOR_CONTROVERSY.value]),\n",
        "            TASKS.HUMOR_RATING.value: torch.tensor(self.data.iloc[idx][TASKS.HUMOR_RATING.value], dtype = torch.float),\n",
        "        }\n",
        "\n",
        "        return inps, label"
      ],
      "execution_count": 6,
      "outputs": []
    },
    {
      "cell_type": "code",
      "metadata": {
        "id": "3rVx2-VYbupD"
      },
      "source": [
        "class SklearnF1(MetricMeter, _BaseMetric):\n",
        "    def __init__(self, target_name: str):\n",
        "        super(SklearnF1, self).__init__(multilabel=False)\n",
        "        self.f1 = skm.f1_score\n",
        "        self._outputs = None\n",
        "        self._targets = None\n",
        "        self.target_name = target_name\n",
        "        self.reset()\n",
        "\n",
        "    def handle(self):\n",
        "        return f\"{self.target_name}_{self.f1.__name__.lower()}\"\n",
        "\n",
        "    def accumulate(self, outputs: torch.Tensor, targets: torch.Tensor):\n",
        "        \"\"\"Method to accumulate the outputs and targets.\n",
        "        Args:\n",
        "            outputs(torch.Tensor) : raw logits from the network.\n",
        "            targets(torch.Tensor) : Ground truth targets\n",
        "        \"\"\"\n",
        "        outputs, targets = self.detach_tensor(outputs[self.target_name]), self.detach_tensor(targets[self.target_name])\n",
        "        outputs = torch.argmax(outputs, dim=1)\n",
        "        self._outputs.append(outputs)\n",
        "        self._targets.append(targets)\n",
        "\n",
        "    def reset(self):\n",
        "        \"\"\"Resets the accumulation lists.\"\"\"\n",
        "        self._outputs = []\n",
        "        self._targets = []\n",
        "\n",
        "    @property\n",
        "    def value(self):\n",
        "        outputs = torch.cat(self._outputs)\n",
        "        targets = torch.cat(self._targets)\n",
        "        f1_score = self.f1(targets.numpy(), outputs.numpy())\n",
        "        return torch.tensor(f1_score)\n"
      ],
      "execution_count": 7,
      "outputs": []
    },
    {
      "cell_type": "code",
      "metadata": {
        "id": "mLqWpyXYbw6r"
      },
      "source": [
        "\n",
        "class SklearnMSE(MetricMeter, _BaseMetric):\n",
        "    def __init__(self, target_name: str):\n",
        "        super(SklearnMSE, self).__init__(multilabel=False)\n",
        "        self.mse = partial(skm.mean_squared_error, squared=False)\n",
        "        self._outputs = None\n",
        "        self._targets = None\n",
        "        self.target_name = target_name\n",
        "        self.reset()\n",
        "\n",
        "    def handle(self):\n",
        "        return f\"{self.target_name}_{self.mse.func.__name__.lower()}\"\n",
        "\n",
        "    def accumulate(self, outputs: torch.Tensor, targets: torch.Tensor):\n",
        "        \"\"\"Method to accumulate the outputs and targets.\n",
        "        Args:\n",
        "            outputs(torch.Tensor) : raw logits from the network.\n",
        "            targets(torch.Tensor) : Ground truth targets\n",
        "        \"\"\"\n",
        "        outputs, targets = self.detach_tensor(outputs[self.target_name]), self.detach_tensor(targets[self.target_name])\n",
        "        self._outputs.append(outputs)\n",
        "        self._targets.append(targets)\n",
        "\n",
        "    def reset(self):\n",
        "        \"\"\"Resets the accumulation lists.\"\"\"\n",
        "        self._outputs = []\n",
        "        self._targets = []\n",
        "\n",
        "    @property\n",
        "    def value(self):\n",
        "        outputs = torch.cat(self._outputs)\n",
        "        targets = torch.cat(self._targets)\n",
        "        mse_score = self.mse(targets.numpy(), outputs.numpy())\n",
        "        return torch.tensor(mse_score)"
      ],
      "execution_count": 8,
      "outputs": []
    },
    {
      "cell_type": "code",
      "metadata": {
        "id": "MGLilKpsbzhG"
      },
      "source": [
        "\n",
        "def multitaskloss(op, y):\n",
        "    ids = y[TASKS.IS_HUMOR.value] == 1\n",
        "    is_humor_loss = F.cross_entropy(op[TASKS.IS_HUMOR.value], y[TASKS.IS_HUMOR.value].long())\n",
        "    humor_controvery_loss = F.cross_entropy(op[TASKS.HUMOR_CONTROVERSY.value][ids],\n",
        "                                            y[TASKS.HUMOR_CONTROVERSY.value][ids].long())\n",
        "    humor_rating_loss = F.mse_loss(op[TASKS.HUMOR_RATING.value][ids], y[TASKS.HUMOR_RATING.value][ids].view(-1,1))\n",
        "\n",
        "\n",
        "    return (is_humor_loss + humor_controvery_loss + humor_rating_loss).float()\n"
      ],
      "execution_count": 9,
      "outputs": []
    },
    {
      "cell_type": "code",
      "metadata": {
        "id": "A6U_vscnb2y7"
      },
      "source": [
        "\n",
        "class HydraNetwork(nn.Module):\n",
        "    def __init__(self, model_path):\n",
        "        super(HydraNetwork, self).__init__()\n",
        "\n",
        "        self.model = transformers.AutoModel.from_pretrained(\n",
        "            model_path, return_dict=False\n",
        "        )\n",
        "        in_features = self.model.pooler.dense.out_features\n",
        "        self.is_humor_head = torch.nn.Linear(in_features=in_features, out_features=2)\n",
        "        self.humor_controvery_head = torch.nn.Linear(in_features=in_features, out_features=2)\n",
        "        self.humor_rating_head = torch.nn.Linear(in_features=in_features, out_features=1)\n",
        "\n",
        "\n",
        "    def forward(self, x):\n",
        "        _, o_2 = self.model(**x)\n",
        "        return {TASKS.IS_HUMOR.value: self.is_humor_head(o_2),\n",
        "                TASKS.HUMOR_CONTROVERSY.value: self.humor_controvery_head(o_2),\n",
        "                TASKS.HUMOR_RATING.value: self.humor_rating_head(o_2)}\n",
        "\n"
      ],
      "execution_count": 10,
      "outputs": []
    },
    {
      "cell_type": "code",
      "metadata": {
        "id": "8I5AWGeSb5NS"
      },
      "source": [
        "@cbs.on_experiment_end(order=cbs.CallbackOrder.EXTERNAL)\n",
        "def save_pickle_experiment(experiment: \"Experiment\"):\n",
        "    if \"/\" in BACKBONE_NAME:\n",
        "        prefix = BACKBONE_NAME.split(\"/\")[1]\n",
        "    else:\n",
        "        prefix = BACKBONE_NAME\n",
        "    pickle.dump(experiment.history, open(f\"{prefix}-experiment.pkl\", \"wb\"))\n"
      ],
      "execution_count": 11,
      "outputs": []
    },
    {
      "cell_type": "code",
      "metadata": {
        "id": "_IptfCn0b777"
      },
      "source": [
        "\n",
        "class MultiTaskTrainer(Experiment):\n",
        "\n",
        "    def get_model_params(self, optimizer):\n",
        "        param_optimizer = list(self.state.model.named_parameters())\n",
        "\n",
        "        no_decay = [\"bias\", \"LayerNorm.bias\", \"LayerNorm.weight\"]\n",
        "        optimizer_parameters = [\n",
        "            {\n",
        "                \"params\": [\n",
        "                    p for n, p in param_optimizer if not any(nd in n for nd in no_decay)\n",
        "                ],\n",
        "                \"weight_decay\": 0.001,\n",
        "            },\n",
        "            {\n",
        "                \"params\": [\n",
        "                    p for n, p in param_optimizer if any(nd in n for nd in no_decay)\n",
        "                ],\n",
        "                \"weight_decay\": 0.0,\n",
        "            },\n",
        "        ]\n",
        "        return optimizer_parameters"
      ],
      "execution_count": 12,
      "outputs": []
    },
    {
      "cell_type": "code",
      "metadata": {
        "id": "7sm3zDL2f2Y-",
        "colab": {
          "base_uri": "https://localhost:8080/",
          "height": 116,
          "referenced_widgets": [
            "9741e5a40cc34ae9b6619643cbf22735",
            "00cdf19e69f647f6a396dc0ad0acebf3",
            "61b1c5ad1d584498b18a83fdb2327b95",
            "282d0d1b35a4494b88e31366969d6215",
            "7da2a9b4943f403fb68a9d0c5233ade9",
            "9c5c5089387c4b9cafad2d0a88abd227",
            "da901e3eef184433903b72d1cdbea423",
            "3a338e721f8542c6806f83e53fdc46c6",
            "d09caff045ee440eb9c258e0d3f2adfb",
            "b9b5532f5e4741e5a86a8ce02c86ca2a",
            "9fe5c2969c9146a897edc5f3c1b7d742",
            "de01ffd6f66048d6a2a1a3fa31f2dad0",
            "7d343a92135e4815b5be06c7be94b820",
            "c327ed8a370949bdbec23515e15971cb",
            "cf231ba5accb4c58b9276b1ea7192369",
            "d83a6657809a452a89dc1ad7e71fa70d"
          ]
        },
        "outputId": "511167e7-1845-4962-ad49-2f4257e757bc"
      },
      "source": [
        "train_ds = MultiTaskDataset(csv_path = train_path, backbone_name = BACKBONE_NAME, max_len = 256)\n",
        "val_ds = MultiTaskDataset(csv_path = dev_path, backbone_name = BACKBONE_NAME, max_len = 256)\n",
        "\n",
        "train_dl = torch.utils.data.DataLoader(train_ds, batch_size = 32, shuffle = True)\n",
        "val_dl = torch.utils.data.DataLoader(val_ds, batch_size = 32, shuffle = False)"
      ],
      "execution_count": 14,
      "outputs": [
        {
          "output_type": "display_data",
          "data": {
            "application/vnd.jupyter.widget-view+json": {
              "model_id": "9741e5a40cc34ae9b6619643cbf22735",
              "version_minor": 0,
              "version_major": 2
            },
            "text/plain": [
              "HBox(children=(FloatProgress(value=0.0, description='Downloading', max=286.0, style=ProgressStyle(description_…"
            ]
          },
          "metadata": {
            "tags": []
          }
        },
        {
          "output_type": "stream",
          "text": [
            "\n"
          ],
          "name": "stdout"
        },
        {
          "output_type": "display_data",
          "data": {
            "application/vnd.jupyter.widget-view+json": {
              "model_id": "d09caff045ee440eb9c258e0d3f2adfb",
              "version_minor": 0,
              "version_major": 2
            },
            "text/plain": [
              "HBox(children=(FloatProgress(value=0.0, description='Downloading', max=231508.0, style=ProgressStyle(descripti…"
            ]
          },
          "metadata": {
            "tags": []
          }
        },
        {
          "output_type": "stream",
          "text": [
            "\n"
          ],
          "name": "stdout"
        }
      ]
    },
    {
      "cell_type": "code",
      "metadata": {
        "id": "SCk3bxURco3K"
      },
      "source": [
        "config = ModelConfig(\n",
        "    nn_module=HydraNetwork,\n",
        "    module_params={\"model_path\": BACKBONE_NAME},\n",
        "    optimizer=\"Adam\",\n",
        "    optimizer_params={\"lr\": 3e-5},\n",
        "    criterion=multitaskloss,\n",
        ")\n",
        "callbacks = [\n",
        "    save_pickle_experiment\n",
        "]\n",
        "metric_list = [SklearnF1(target_name = TASKS.IS_HUMOR.value) , SklearnF1(target_name = TASKS.HUMOR_CONTROVERSY.value),\n",
        "               SklearnMSE(target_name = TASKS.HUMOR_RATING.value)]"
      ],
      "execution_count": 15,
      "outputs": []
    },
    {
      "cell_type": "code",
      "metadata": {
        "id": "lPE5Sq6Xc-eI"
      },
      "source": [
        "multitask_exp = MultiTaskTrainer(num_epochs=5, seed=42, fp16=True, device=\"cuda\")"
      ],
      "execution_count": 16,
      "outputs": []
    },
    {
      "cell_type": "code",
      "metadata": {
        "colab": {
          "base_uri": "https://localhost:8080/",
          "height": 138,
          "referenced_widgets": [
            "47ecf3f1efcc4350885300939cbb2058",
            "4cb64e0dc1e6433abd36d27c4f183812",
            "f7ee89cff52246dd9454918610ceba16",
            "65670e5a95e94bf2848968faf1b6506c",
            "3d3bfe27023642afa745d60e73d627bb",
            "2190984b5967411fa5a39e274dd43e4b",
            "8875c17196b649b8a272d27e55291b94",
            "2fd97fc204434edd8e8bc8783871bd8d"
          ]
        },
        "id": "5v4HjGH_dGbe",
        "outputId": "556339c9-2f2e-4b88-d30f-7b08c8743123"
      },
      "source": [
        "multitask_exp.compile_experiment(model_config=config, callbacks=callbacks, metrics=metric_list)"
      ],
      "execution_count": 17,
      "outputs": [
        {
          "output_type": "display_data",
          "data": {
            "application/vnd.jupyter.widget-view+json": {
              "model_id": "47ecf3f1efcc4350885300939cbb2058",
              "version_minor": 0,
              "version_major": 2
            },
            "text/plain": [
              "HBox(children=(FloatProgress(value=0.0, description='Downloading', max=116270890.0, style=ProgressStyle(descri…"
            ]
          },
          "metadata": {
            "tags": []
          }
        },
        {
          "output_type": "stream",
          "text": [
            "\n"
          ],
          "name": "stdout"
        },
        {
          "output_type": "stream",
          "text": [
            "Some weights of the model checkpoint at prajjwal1/bert-small were not used when initializing BertModel: ['cls.predictions.transform.LayerNorm.weight', 'cls.predictions.decoder.weight', 'cls.predictions.transform.dense.bias', 'cls.predictions.bias', 'cls.predictions.decoder.bias', 'cls.seq_relationship.bias', 'cls.seq_relationship.weight', 'cls.predictions.transform.dense.weight', 'cls.predictions.transform.LayerNorm.bias']\n",
            "- This IS expected if you are initializing BertModel from the checkpoint of a model trained on another task or with another architecture (e.g. initializing a BertForSequenceClassification model from a BertForPreTraining model).\n",
            "- This IS NOT expected if you are initializing BertModel from the checkpoint of a model that you expect to be exactly identical (initializing a BertForSequenceClassification model from a BertForSequenceClassification model).\n"
          ],
          "name": "stderr"
        }
      ]
    },
    {
      "cell_type": "code",
      "metadata": {
        "colab": {
          "base_uri": "https://localhost:8080/"
        },
        "id": "1sv3LSAmfvT0",
        "outputId": "66cf15b7-8bcd-412b-c9b9-898afa0f04db"
      },
      "source": [
        "multitask_exp.fit_loader(train_dl, val_dl)"
      ],
      "execution_count": 18,
      "outputs": [
        {
          "output_type": "stream",
          "text": [
            "\n",
            "Epoch: 1/5\n",
            "250/250 [=========================]- 50s 200ms/step - train_loss: 1.4199 - train_is_humor_f1_score: 0.8623 - train_humor_controversy_f1_score: 0.4232 - train_humor_rating_mean_squared_error: 1.3314\n",
            "32/32 [=========================]- 3s 85ms/step - val_loss: 1.3597 - val_is_humor_f1_score: 0.8638 - val_humor_controversy_f1_score: 0.4195 - val_humor_rating_mean_squared_error: 1.3328\n",
            "\n",
            "Epoch: 2/5\n",
            "250/250 [=========================]- 48s 191ms/step - train_loss: 1.1304 - train_is_humor_f1_score: 0.8983 - train_humor_controversy_f1_score: 0.4395 - train_humor_rating_mean_squared_error: 1.2815\n",
            "32/32 [=========================]- 3s 87ms/step - val_loss: 1.2295 - val_is_humor_f1_score: 0.8991 - val_humor_controversy_f1_score: 0.4353 - val_humor_rating_mean_squared_error: 1.2776\n",
            "\n",
            "Epoch: 3/5\n",
            "250/250 [=========================]- 48s 190ms/step - train_loss: 1.0121 - train_is_humor_f1_score: 0.9183 - train_humor_controversy_f1_score: 0.4616 - train_humor_rating_mean_squared_error: 1.2308\n",
            "32/32 [=========================]- 3s 89ms/step - val_loss: 1.2971 - val_is_humor_f1_score: 0.9179 - val_humor_controversy_f1_score: 0.4651 - val_humor_rating_mean_squared_error: 1.2275\n",
            "\n",
            "Epoch: 4/5\n",
            "250/250 [=========================]- 47s 190ms/step - train_loss: 0.8936 - train_is_humor_f1_score: 0.9314 - train_humor_controversy_f1_score: 0.4904 - train_humor_rating_mean_squared_error: 1.1774\n",
            "32/32 [=========================]- 3s 89ms/step - val_loss: 1.3819 - val_is_humor_f1_score: 0.9307 - val_humor_controversy_f1_score: 0.4919 - val_humor_rating_mean_squared_error: 1.1765\n",
            "\n",
            "Epoch: 5/5\n",
            "250/250 [=========================]- 47s 189ms/step - train_loss: 0.7654 - train_is_humor_f1_score: 0.9412 - train_humor_controversy_f1_score: 0.5217 - train_humor_rating_mean_squared_error: 1.1288\n",
            "32/32 [=========================]- 3s 87ms/step - val_loss: 1.4715 - val_is_humor_f1_score: 0.9405 - val_humor_controversy_f1_score: 0.5217 - val_humor_rating_mean_squared_error: 1.1281\n"
          ],
          "name": "stdout"
        }
      ]
    },
    {
      "cell_type": "code",
      "metadata": {
        "id": "WvKsIsF8t3q1"
      },
      "source": [
        "test_path = \"/content/drive/MyDrive/Hahakathon/gold-test-27446.csv\"\n",
        "test_ds = MultiTaskDataset(csv_path = test_path, backbone_name = BACKBONE_NAME, max_len = 256)\n",
        "test_dl = torch.utils.data.DataLoader(test_ds, batch_size = 64, shuffle = False)"
      ],
      "execution_count": 19,
      "outputs": []
    },
    {
      "cell_type": "code",
      "metadata": {
        "id": "3vnahbYP9NV0"
      },
      "source": [
        "from torchflare.experiments import to_device"
      ],
      "execution_count": 20,
      "outputs": []
    },
    {
      "cell_type": "code",
      "metadata": {
        "id": "7JtlTNMP8Y8v"
      },
      "source": [
        "is_humor = []\n",
        "humor_contro = []\n",
        "humor_rating = []\n",
        "for batch in test_dl:\n",
        "    batch = to_device(batch[0] , device = \"cuda\")\n",
        "    with torch.no_grad():\n",
        "        op = multitask_exp.state.model(batch)\n",
        "    is_humor.extend(torch.argmax(op[TASKS.IS_HUMOR.value] , dim = 1).cpu().numpy())\n",
        "    humor_contro.extend(torch.argmax(op[TASKS.HUMOR_CONTROVERSY.value] , dim = 1).cpu().numpy())\n",
        "    humor_rating.extend(op[TASKS.HUMOR_RATING.value].cpu().numpy())\n",
        "\n",
        "    \n"
      ],
      "execution_count": 21,
      "outputs": []
    },
    {
      "cell_type": "markdown",
      "metadata": {
        "id": "H-4EJW6b3Uvw"
      },
      "source": [
        "## Scores on Gold-Test Data "
      ]
    },
    {
      "cell_type": "code",
      "metadata": {
        "colab": {
          "base_uri": "https://localhost:8080/"
        },
        "id": "I4SMgynD9AVN",
        "outputId": "72fa2a82-0f11-45bf-9f0a-72b6806e937b"
      },
      "source": [
        "print(f\"Task 1A(F1-Score) : {skm.f1_score(test_ds.data.loc[: , 'is_humor'].values , is_humor)}\")\n",
        "print(f\"Task 1B(RMSE) : {skm.mean_squared_error(test_ds.data.loc[: , 'humor_rating'].values , humor_rating , squared = False)}\")\n",
        "print(f\"Task 1C(F1-Score) : {skm.f1_score(test_ds.data.loc[: , 'humor_controversy'].values , humor_contro)}\")\n"
      ],
      "execution_count": 22,
      "outputs": [
        {
          "output_type": "stream",
          "text": [
            "Task 1A(F1-Score) : 0.9129720853858785\n",
            "Task 1B(RMSE) : 1.1139141666977794\n",
            "Task 1C(F1-Score) : 0.4918851435705368\n"
          ],
          "name": "stdout"
        }
      ]
    },
    {
      "cell_type": "code",
      "metadata": {
        "id": "oPm-udWPxHai"
      },
      "source": [
        "torch.save(multitask_exp.state.model.state_dict(), \"bert_small_multitask.bin\")"
      ],
      "execution_count": 23,
      "outputs": []
    },
    {
      "cell_type": "code",
      "metadata": {
        "id": "J4mqFfWoTkMt"
      },
      "source": [
        ""
      ],
      "execution_count": null,
      "outputs": []
    }
  ]
}