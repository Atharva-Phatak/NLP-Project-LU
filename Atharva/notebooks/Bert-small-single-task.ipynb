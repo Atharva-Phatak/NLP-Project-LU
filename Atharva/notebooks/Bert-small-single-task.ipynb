{
  "nbformat": 4,
  "nbformat_minor": 0,
  "metadata": {
    "colab": {
      "name": "Bert_model.ipynb",
      "provenance": [],
      "collapsed_sections": []
    },
    "kernelspec": {
      "name": "python3",
      "display_name": "Python 3"
    },
    "language_info": {
      "name": "python"
    },
    "accelerator": "GPU",
    "widgets": {
      "application/vnd.jupyter.widget-state+json": {
        "3f7b621f85f8473c9da961139f0f3418": {
          "model_module": "@jupyter-widgets/controls",
          "model_name": "HBoxModel",
          "state": {
            "_view_name": "HBoxView",
            "_dom_classes": [],
            "_model_name": "HBoxModel",
            "_view_module": "@jupyter-widgets/controls",
            "_model_module_version": "1.5.0",
            "_view_count": null,
            "_view_module_version": "1.5.0",
            "box_style": "",
            "layout": "IPY_MODEL_86629d98113f4fdb822ec45bff5a45d5",
            "_model_module": "@jupyter-widgets/controls",
            "children": [
              "IPY_MODEL_3afd838483ac464f8eef693945e601c2",
              "IPY_MODEL_1cde7ce4d8224c8cade7390c549035ff"
            ]
          }
        },
        "86629d98113f4fdb822ec45bff5a45d5": {
          "model_module": "@jupyter-widgets/base",
          "model_name": "LayoutModel",
          "state": {
            "_view_name": "LayoutView",
            "grid_template_rows": null,
            "right": null,
            "justify_content": null,
            "_view_module": "@jupyter-widgets/base",
            "overflow": null,
            "_model_module_version": "1.2.0",
            "_view_count": null,
            "flex_flow": null,
            "width": null,
            "min_width": null,
            "border": null,
            "align_items": null,
            "bottom": null,
            "_model_module": "@jupyter-widgets/base",
            "top": null,
            "grid_column": null,
            "overflow_y": null,
            "overflow_x": null,
            "grid_auto_flow": null,
            "grid_area": null,
            "grid_template_columns": null,
            "flex": null,
            "_model_name": "LayoutModel",
            "justify_items": null,
            "grid_row": null,
            "max_height": null,
            "align_content": null,
            "visibility": null,
            "align_self": null,
            "height": null,
            "min_height": null,
            "padding": null,
            "grid_auto_rows": null,
            "grid_gap": null,
            "max_width": null,
            "order": null,
            "_view_module_version": "1.2.0",
            "grid_template_areas": null,
            "object_position": null,
            "object_fit": null,
            "grid_auto_columns": null,
            "margin": null,
            "display": null,
            "left": null
          }
        },
        "3afd838483ac464f8eef693945e601c2": {
          "model_module": "@jupyter-widgets/controls",
          "model_name": "FloatProgressModel",
          "state": {
            "_view_name": "ProgressView",
            "style": "IPY_MODEL_7c72bcda003644b2aa6d5d22fe3647a8",
            "_dom_classes": [],
            "description": "Downloading: 100%",
            "_model_name": "FloatProgressModel",
            "bar_style": "success",
            "max": 286,
            "_view_module": "@jupyter-widgets/controls",
            "_model_module_version": "1.5.0",
            "value": 286,
            "_view_count": null,
            "_view_module_version": "1.5.0",
            "orientation": "horizontal",
            "min": 0,
            "description_tooltip": null,
            "_model_module": "@jupyter-widgets/controls",
            "layout": "IPY_MODEL_a320e45551134725a31df1949ba9f356"
          }
        },
        "1cde7ce4d8224c8cade7390c549035ff": {
          "model_module": "@jupyter-widgets/controls",
          "model_name": "HTMLModel",
          "state": {
            "_view_name": "HTMLView",
            "style": "IPY_MODEL_ab40353b09b641e598e3878d99598fb9",
            "_dom_classes": [],
            "description": "",
            "_model_name": "HTMLModel",
            "placeholder": "​",
            "_view_module": "@jupyter-widgets/controls",
            "_model_module_version": "1.5.0",
            "value": " 286/286 [00:00&lt;00:00, 1.69kB/s]",
            "_view_count": null,
            "_view_module_version": "1.5.0",
            "description_tooltip": null,
            "_model_module": "@jupyter-widgets/controls",
            "layout": "IPY_MODEL_9b2a619a59184d7492e6df762d58060b"
          }
        },
        "7c72bcda003644b2aa6d5d22fe3647a8": {
          "model_module": "@jupyter-widgets/controls",
          "model_name": "ProgressStyleModel",
          "state": {
            "_view_name": "StyleView",
            "_model_name": "ProgressStyleModel",
            "description_width": "initial",
            "_view_module": "@jupyter-widgets/base",
            "_model_module_version": "1.5.0",
            "_view_count": null,
            "_view_module_version": "1.2.0",
            "bar_color": null,
            "_model_module": "@jupyter-widgets/controls"
          }
        },
        "a320e45551134725a31df1949ba9f356": {
          "model_module": "@jupyter-widgets/base",
          "model_name": "LayoutModel",
          "state": {
            "_view_name": "LayoutView",
            "grid_template_rows": null,
            "right": null,
            "justify_content": null,
            "_view_module": "@jupyter-widgets/base",
            "overflow": null,
            "_model_module_version": "1.2.0",
            "_view_count": null,
            "flex_flow": null,
            "width": null,
            "min_width": null,
            "border": null,
            "align_items": null,
            "bottom": null,
            "_model_module": "@jupyter-widgets/base",
            "top": null,
            "grid_column": null,
            "overflow_y": null,
            "overflow_x": null,
            "grid_auto_flow": null,
            "grid_area": null,
            "grid_template_columns": null,
            "flex": null,
            "_model_name": "LayoutModel",
            "justify_items": null,
            "grid_row": null,
            "max_height": null,
            "align_content": null,
            "visibility": null,
            "align_self": null,
            "height": null,
            "min_height": null,
            "padding": null,
            "grid_auto_rows": null,
            "grid_gap": null,
            "max_width": null,
            "order": null,
            "_view_module_version": "1.2.0",
            "grid_template_areas": null,
            "object_position": null,
            "object_fit": null,
            "grid_auto_columns": null,
            "margin": null,
            "display": null,
            "left": null
          }
        },
        "ab40353b09b641e598e3878d99598fb9": {
          "model_module": "@jupyter-widgets/controls",
          "model_name": "DescriptionStyleModel",
          "state": {
            "_view_name": "StyleView",
            "_model_name": "DescriptionStyleModel",
            "description_width": "",
            "_view_module": "@jupyter-widgets/base",
            "_model_module_version": "1.5.0",
            "_view_count": null,
            "_view_module_version": "1.2.0",
            "_model_module": "@jupyter-widgets/controls"
          }
        },
        "9b2a619a59184d7492e6df762d58060b": {
          "model_module": "@jupyter-widgets/base",
          "model_name": "LayoutModel",
          "state": {
            "_view_name": "LayoutView",
            "grid_template_rows": null,
            "right": null,
            "justify_content": null,
            "_view_module": "@jupyter-widgets/base",
            "overflow": null,
            "_model_module_version": "1.2.0",
            "_view_count": null,
            "flex_flow": null,
            "width": null,
            "min_width": null,
            "border": null,
            "align_items": null,
            "bottom": null,
            "_model_module": "@jupyter-widgets/base",
            "top": null,
            "grid_column": null,
            "overflow_y": null,
            "overflow_x": null,
            "grid_auto_flow": null,
            "grid_area": null,
            "grid_template_columns": null,
            "flex": null,
            "_model_name": "LayoutModel",
            "justify_items": null,
            "grid_row": null,
            "max_height": null,
            "align_content": null,
            "visibility": null,
            "align_self": null,
            "height": null,
            "min_height": null,
            "padding": null,
            "grid_auto_rows": null,
            "grid_gap": null,
            "max_width": null,
            "order": null,
            "_view_module_version": "1.2.0",
            "grid_template_areas": null,
            "object_position": null,
            "object_fit": null,
            "grid_auto_columns": null,
            "margin": null,
            "display": null,
            "left": null
          }
        },
        "9d3cd07c83ca4068bbf09b53a3b1794c": {
          "model_module": "@jupyter-widgets/controls",
          "model_name": "HBoxModel",
          "state": {
            "_view_name": "HBoxView",
            "_dom_classes": [],
            "_model_name": "HBoxModel",
            "_view_module": "@jupyter-widgets/controls",
            "_model_module_version": "1.5.0",
            "_view_count": null,
            "_view_module_version": "1.5.0",
            "box_style": "",
            "layout": "IPY_MODEL_d301b85548974153b5ef7e24dcff6efa",
            "_model_module": "@jupyter-widgets/controls",
            "children": [
              "IPY_MODEL_f275f621d7a44d63b9e7335f4b76b39a",
              "IPY_MODEL_1be4077b39f942598441058294196673"
            ]
          }
        },
        "d301b85548974153b5ef7e24dcff6efa": {
          "model_module": "@jupyter-widgets/base",
          "model_name": "LayoutModel",
          "state": {
            "_view_name": "LayoutView",
            "grid_template_rows": null,
            "right": null,
            "justify_content": null,
            "_view_module": "@jupyter-widgets/base",
            "overflow": null,
            "_model_module_version": "1.2.0",
            "_view_count": null,
            "flex_flow": null,
            "width": null,
            "min_width": null,
            "border": null,
            "align_items": null,
            "bottom": null,
            "_model_module": "@jupyter-widgets/base",
            "top": null,
            "grid_column": null,
            "overflow_y": null,
            "overflow_x": null,
            "grid_auto_flow": null,
            "grid_area": null,
            "grid_template_columns": null,
            "flex": null,
            "_model_name": "LayoutModel",
            "justify_items": null,
            "grid_row": null,
            "max_height": null,
            "align_content": null,
            "visibility": null,
            "align_self": null,
            "height": null,
            "min_height": null,
            "padding": null,
            "grid_auto_rows": null,
            "grid_gap": null,
            "max_width": null,
            "order": null,
            "_view_module_version": "1.2.0",
            "grid_template_areas": null,
            "object_position": null,
            "object_fit": null,
            "grid_auto_columns": null,
            "margin": null,
            "display": null,
            "left": null
          }
        },
        "f275f621d7a44d63b9e7335f4b76b39a": {
          "model_module": "@jupyter-widgets/controls",
          "model_name": "FloatProgressModel",
          "state": {
            "_view_name": "ProgressView",
            "style": "IPY_MODEL_1b4752b576ee436d8003e24f1f4500fe",
            "_dom_classes": [],
            "description": "Downloading: 100%",
            "_model_name": "FloatProgressModel",
            "bar_style": "success",
            "max": 231508,
            "_view_module": "@jupyter-widgets/controls",
            "_model_module_version": "1.5.0",
            "value": 231508,
            "_view_count": null,
            "_view_module_version": "1.5.0",
            "orientation": "horizontal",
            "min": 0,
            "description_tooltip": null,
            "_model_module": "@jupyter-widgets/controls",
            "layout": "IPY_MODEL_f480f001dda74556833de6d63eacea64"
          }
        },
        "1be4077b39f942598441058294196673": {
          "model_module": "@jupyter-widgets/controls",
          "model_name": "HTMLModel",
          "state": {
            "_view_name": "HTMLView",
            "style": "IPY_MODEL_bcedede4bba1447a8e15b5e34e991c21",
            "_dom_classes": [],
            "description": "",
            "_model_name": "HTMLModel",
            "placeholder": "​",
            "_view_module": "@jupyter-widgets/controls",
            "_model_module_version": "1.5.0",
            "value": " 232k/232k [00:01&lt;00:00, 150kB/s]",
            "_view_count": null,
            "_view_module_version": "1.5.0",
            "description_tooltip": null,
            "_model_module": "@jupyter-widgets/controls",
            "layout": "IPY_MODEL_2a03f5dd9a45453d9ad6ddfc81ed368d"
          }
        },
        "1b4752b576ee436d8003e24f1f4500fe": {
          "model_module": "@jupyter-widgets/controls",
          "model_name": "ProgressStyleModel",
          "state": {
            "_view_name": "StyleView",
            "_model_name": "ProgressStyleModel",
            "description_width": "initial",
            "_view_module": "@jupyter-widgets/base",
            "_model_module_version": "1.5.0",
            "_view_count": null,
            "_view_module_version": "1.2.0",
            "bar_color": null,
            "_model_module": "@jupyter-widgets/controls"
          }
        },
        "f480f001dda74556833de6d63eacea64": {
          "model_module": "@jupyter-widgets/base",
          "model_name": "LayoutModel",
          "state": {
            "_view_name": "LayoutView",
            "grid_template_rows": null,
            "right": null,
            "justify_content": null,
            "_view_module": "@jupyter-widgets/base",
            "overflow": null,
            "_model_module_version": "1.2.0",
            "_view_count": null,
            "flex_flow": null,
            "width": null,
            "min_width": null,
            "border": null,
            "align_items": null,
            "bottom": null,
            "_model_module": "@jupyter-widgets/base",
            "top": null,
            "grid_column": null,
            "overflow_y": null,
            "overflow_x": null,
            "grid_auto_flow": null,
            "grid_area": null,
            "grid_template_columns": null,
            "flex": null,
            "_model_name": "LayoutModel",
            "justify_items": null,
            "grid_row": null,
            "max_height": null,
            "align_content": null,
            "visibility": null,
            "align_self": null,
            "height": null,
            "min_height": null,
            "padding": null,
            "grid_auto_rows": null,
            "grid_gap": null,
            "max_width": null,
            "order": null,
            "_view_module_version": "1.2.0",
            "grid_template_areas": null,
            "object_position": null,
            "object_fit": null,
            "grid_auto_columns": null,
            "margin": null,
            "display": null,
            "left": null
          }
        },
        "bcedede4bba1447a8e15b5e34e991c21": {
          "model_module": "@jupyter-widgets/controls",
          "model_name": "DescriptionStyleModel",
          "state": {
            "_view_name": "StyleView",
            "_model_name": "DescriptionStyleModel",
            "description_width": "",
            "_view_module": "@jupyter-widgets/base",
            "_model_module_version": "1.5.0",
            "_view_count": null,
            "_view_module_version": "1.2.0",
            "_model_module": "@jupyter-widgets/controls"
          }
        },
        "2a03f5dd9a45453d9ad6ddfc81ed368d": {
          "model_module": "@jupyter-widgets/base",
          "model_name": "LayoutModel",
          "state": {
            "_view_name": "LayoutView",
            "grid_template_rows": null,
            "right": null,
            "justify_content": null,
            "_view_module": "@jupyter-widgets/base",
            "overflow": null,
            "_model_module_version": "1.2.0",
            "_view_count": null,
            "flex_flow": null,
            "width": null,
            "min_width": null,
            "border": null,
            "align_items": null,
            "bottom": null,
            "_model_module": "@jupyter-widgets/base",
            "top": null,
            "grid_column": null,
            "overflow_y": null,
            "overflow_x": null,
            "grid_auto_flow": null,
            "grid_area": null,
            "grid_template_columns": null,
            "flex": null,
            "_model_name": "LayoutModel",
            "justify_items": null,
            "grid_row": null,
            "max_height": null,
            "align_content": null,
            "visibility": null,
            "align_self": null,
            "height": null,
            "min_height": null,
            "padding": null,
            "grid_auto_rows": null,
            "grid_gap": null,
            "max_width": null,
            "order": null,
            "_view_module_version": "1.2.0",
            "grid_template_areas": null,
            "object_position": null,
            "object_fit": null,
            "grid_auto_columns": null,
            "margin": null,
            "display": null,
            "left": null
          }
        }
      }
    }
  },
  "cells": [
    {
      "cell_type": "code",
      "metadata": {
        "colab": {
          "base_uri": "https://localhost:8080/"
        },
        "id": "94_tqOGq8MEZ",
        "outputId": "54d5f80e-f825-4e01-e9d0-f46a0bad6c82"
      },
      "source": [
        "!pip install -qq transformers\n",
        "!pip install -qq torchflare\n"
      ],
      "execution_count": 1,
      "outputs": [
        {
          "output_type": "stream",
          "text": [
            "\u001b[K     |████████████████████████████████| 2.6 MB 7.6 MB/s \n",
            "\u001b[K     |████████████████████████████████| 3.3 MB 23.3 MB/s \n",
            "\u001b[K     |████████████████████████████████| 636 kB 50.9 MB/s \n",
            "\u001b[K     |████████████████████████████████| 895 kB 41.7 MB/s \n",
            "\u001b[K     |████████████████████████████████| 85 kB 3.0 MB/s \n",
            "\u001b[K     |████████████████████████████████| 17.3 MB 41 kB/s \n",
            "\u001b[K     |████████████████████████████████| 51.0 MB 79 kB/s \n",
            "\u001b[K     |████████████████████████████████| 3.0 MB 37.4 MB/s \n",
            "\u001b[K     |████████████████████████████████| 61 kB 376 kB/s \n",
            "\u001b[K     |████████████████████████████████| 735.5 MB 12 kB/s \n",
            "\u001b[K     |████████████████████████████████| 10.3 MB 37.9 MB/s \n",
            "\u001b[K     |████████████████████████████████| 22.3 MB 1.6 MB/s \n",
            "\u001b[K     |████████████████████████████████| 9.9 MB 24.8 MB/s \n",
            "\u001b[K     |████████████████████████████████| 15.3 MB 280 kB/s \n",
            "\u001b[K     |████████████████████████████████| 98 kB 7.1 MB/s \n",
            "\u001b[K     |████████████████████████████████| 37.1 MB 81 kB/s \n",
            "\u001b[31mERROR: pip's dependency resolver does not currently take into account all the packages that are installed. This behaviour is the source of the following dependency conflicts.\n",
            "torchtext 0.10.0 requires torch==1.9.0, but you have torch 1.8.0 which is incompatible.\n",
            "tensorflow 2.5.0 requires numpy~=1.19.2, but you have numpy 1.20.3 which is incompatible.\n",
            "google-colab 1.0.0 requires pandas~=1.1.0; python_version >= \"3.0\", but you have pandas 1.2.5 which is incompatible.\n",
            "google-colab 1.0.0 requires requests~=2.23.0, but you have requests 2.24.0 which is incompatible.\n",
            "datascience 0.10.6 requires folium==0.2.1, but you have folium 0.8.3 which is incompatible.\u001b[0m\n",
            "\u001b[?25h"
          ],
          "name": "stdout"
        }
      ]
    },
    {
      "cell_type": "code",
      "metadata": {
        "id": "YnxCml7Y8b4X"
      },
      "source": [
        "import torchflare\n",
        "import re\n",
        "import torchflare.callbacks as cbs\n",
        "import pandas as pd\n",
        "import transformers\n",
        "import torch\n",
        "import sklearn.metrics as skm\n",
        "from torchflare.experiments import Experiment, ModelConfig\n",
        "import torchflare.criterion as crit\n",
        "from torchflare.datasets import TextDataloader\n",
        "from torchflare.metrics import MetricMeter, _BaseMetric\n",
        "import pickle"
      ],
      "execution_count": 2,
      "outputs": []
    },
    {
      "cell_type": "code",
      "metadata": {
        "id": "RPKzFXVp8v_p"
      },
      "source": [
        "train_df = pd.read_csv(\"/content/drive/MyDrive/Hahakathon/train.csv\")\n",
        "valid_df = pd.read_csv(\"/content/drive/MyDrive/Hahakathon/dev.csv\")"
      ],
      "execution_count": 3,
      "outputs": []
    },
    {
      "cell_type": "code",
      "metadata": {
        "id": "KaAMunLj8ny-"
      },
      "source": [
        "#Change Backbone name here.\n",
        "BACKBONE_NAME = \"prajjwal1/bert-small\""
      ],
      "execution_count": 4,
      "outputs": []
    },
    {
      "cell_type": "code",
      "metadata": {
        "id": "upnU40Ob9GQg",
        "colab": {
          "base_uri": "https://localhost:8080/",
          "height": 116,
          "referenced_widgets": [
            "3f7b621f85f8473c9da961139f0f3418",
            "86629d98113f4fdb822ec45bff5a45d5",
            "3afd838483ac464f8eef693945e601c2",
            "1cde7ce4d8224c8cade7390c549035ff",
            "7c72bcda003644b2aa6d5d22fe3647a8",
            "a320e45551134725a31df1949ba9f356",
            "ab40353b09b641e598e3878d99598fb9",
            "9b2a619a59184d7492e6df762d58060b",
            "9d3cd07c83ca4068bbf09b53a3b1794c",
            "d301b85548974153b5ef7e24dcff6efa",
            "f275f621d7a44d63b9e7335f4b76b39a",
            "1be4077b39f942598441058294196673",
            "1b4752b576ee436d8003e24f1f4500fe",
            "f480f001dda74556833de6d63eacea64",
            "bcedede4bba1447a8e15b5e34e991c21",
            "2a03f5dd9a45453d9ad6ddfc81ed368d"
          ]
        },
        "outputId": "d88ea6e3-5990-4f4c-9158-40eb6fec3923"
      },
      "source": [
        "tokenizer = transformers.AutoTokenizer.from_pretrained(BACKBONE_NAME)"
      ],
      "execution_count": 5,
      "outputs": [
        {
          "output_type": "display_data",
          "data": {
            "application/vnd.jupyter.widget-view+json": {
              "model_id": "3f7b621f85f8473c9da961139f0f3418",
              "version_minor": 0,
              "version_major": 2
            },
            "text/plain": [
              "HBox(children=(FloatProgress(value=0.0, description='Downloading', max=286.0, style=ProgressStyle(description_…"
            ]
          },
          "metadata": {
            "tags": []
          }
        },
        {
          "output_type": "stream",
          "text": [
            "\n"
          ],
          "name": "stdout"
        },
        {
          "output_type": "display_data",
          "data": {
            "application/vnd.jupyter.widget-view+json": {
              "model_id": "9d3cd07c83ca4068bbf09b53a3b1794c",
              "version_minor": 0,
              "version_major": 2
            },
            "text/plain": [
              "HBox(children=(FloatProgress(value=0.0, description='Downloading', max=231508.0, style=ProgressStyle(descripti…"
            ]
          },
          "metadata": {
            "tags": []
          }
        },
        {
          "output_type": "stream",
          "text": [
            "\n"
          ],
          "name": "stdout"
        }
      ]
    },
    {
      "cell_type": "code",
      "metadata": {
        "id": "rNPMjpEy9Fl_"
      },
      "source": [
        "train_dl = TextDataloader.from_df(\n",
        "    df=train_df,\n",
        "    input_col=\"text\",\n",
        "    label_cols=\"is_humor\",\n",
        "    tokenizer=tokenizer,\n",
        "    max_len=256,\n",
        ").get_loader(batch_size=16, shuffle=True)\n",
        "\n",
        "valid_dl = TextDataloader.from_df(\n",
        "    df=valid_df,\n",
        "    input_col=\"text\",\n",
        "    label_cols=\"is_humor\",\n",
        "    tokenizer=tokenizer,\n",
        "    max_len=256,\n",
        ").get_loader(batch_size=16, shuffle = False)"
      ],
      "execution_count": 23,
      "outputs": []
    },
    {
      "cell_type": "code",
      "metadata": {
        "id": "8EDIVYgU9I7L"
      },
      "source": [
        "class SklearnF1(MetricMeter, _BaseMetric):\n",
        "    def __init__(self):\n",
        "\n",
        "        self.f1 = skm.f1_score\n",
        "        self._outputs = None\n",
        "        self._targets = None\n",
        "        self.reset()\n",
        "\n",
        "    def handle(self):\n",
        "        return self.f1.__name__.lower()\n",
        "\n",
        "    def accumulate(self, outputs: torch.Tensor, targets: torch.Tensor):\n",
        "        \"\"\"Method to accumulate the outputs and targets.\n",
        "        Args:\n",
        "            outputs(torch.Tensor) : raw logits from the network.\n",
        "            targets(torch.Tensor) : Ground truth targets\n",
        "        \"\"\"\n",
        "        outputs, targets = self.detach_tensor(outputs), self.detach_tensor(targets)\n",
        "        outputs = torch.argmax(outputs, dim=1)\n",
        "        # print(outputs)\n",
        "        self._outputs.append(outputs)\n",
        "        self._targets.append(targets)\n",
        "\n",
        "    def reset(self):\n",
        "        \"\"\"Resets the accumulation lists.\"\"\"\n",
        "        self._outputs = []\n",
        "        self._targets = []\n",
        "\n",
        "    @property\n",
        "    def value(self):\n",
        "\n",
        "        outputs = torch.cat(self._outputs)\n",
        "        targets = torch.cat(self._targets)\n",
        "        f1_score = self.f1(targets.numpy(), outputs.numpy())\n",
        "        return torch.tensor(f1_score)"
      ],
      "execution_count": 24,
      "outputs": []
    },
    {
      "cell_type": "code",
      "metadata": {
        "id": "-ocGqapi9Lrf"
      },
      "source": [
        "class BackBoneModel(torch.nn.Module):\n",
        "    def __init__(self, out_features, model_path):\n",
        "        super(BackBoneModel, self).__init__()\n",
        "        self.model = transformers.AutoModel.from_pretrained(\n",
        "            model_path, return_dict=False\n",
        "        )\n",
        "        in_features = self.model.pooler.dense.out_features\n",
        "        self.linear = torch.nn.Linear(in_features, out_features)\n",
        "        #self.dropout = torch.nn.Dropout(0.2)\n",
        "\n",
        "    def forward(self, x):\n",
        "\n",
        "        _, o_2 = self.model(**x)\n",
        "        op = self.linear(o_2)\n",
        "        return op"
      ],
      "execution_count": 25,
      "outputs": []
    },
    {
      "cell_type": "code",
      "metadata": {
        "id": "Z8FNk-bpoGV2"
      },
      "source": [
        "@cbs.on_experiment_end(order = cbs.CallbackOrder.EXTERNAL)\n",
        "def save_pickle_experiment(experiment : \"Experiment\"):\n",
        "    if \"/\" in BACKBONE_NAME:\n",
        "        prefix = BACKBONE_NAME.split(\"/\")[1]\n",
        "    else:\n",
        "        prefix = BACKBONE_NAME\n",
        "    pickle.dump(experiment.history , open(f\"{prefix}-experiment.pkl\" , \"wb\"))"
      ],
      "execution_count": 26,
      "outputs": []
    },
    {
      "cell_type": "code",
      "metadata": {
        "id": "FWye-vvE9PFz"
      },
      "source": [
        "config = ModelConfig(\n",
        "    nn_module=BackBoneModel,\n",
        "    module_params={\"out_features\": 2, \"model_path\": BACKBONE_NAME},\n",
        "    optimizer=\"AdamW\",\n",
        "    optimizer_params={\"lr\": 2e-5, \"weight_decay\":1e-3},\n",
        "    criterion=\"cross_entropy\",\n",
        ")\n",
        "callbacks = [\n",
        "    cbs.ModelCheckpoint(\n",
        "        file_name=\"./bert-small.bin\",\n",
        "        save_dir=\"./\",\n",
        "        mode=\"max\",\n",
        "        monitor=\"val_f1_score\",\n",
        "    ),\n",
        "    cbs.CosineAnnealingWarmRestarts(T_0=1)\n",
        "]\n",
        "metric_list = [SklearnF1()]"
      ],
      "execution_count": 27,
      "outputs": []
    },
    {
      "cell_type": "code",
      "metadata": {
        "id": "LS_2DXTH9RML"
      },
      "source": [
        "bert_exp = Experiment(num_epochs=5, seed=42, fp16=True, device=\"cuda\")"
      ],
      "execution_count": 28,
      "outputs": []
    },
    {
      "cell_type": "code",
      "metadata": {
        "colab": {
          "base_uri": "https://localhost:8080/"
        },
        "id": "6kqUnBr39T6L",
        "outputId": "7f00a6fc-eeed-45f1-ce39-9b3d7c50e904"
      },
      "source": [
        "bert_exp.compile_experiment(model_config=config, callbacks=callbacks, metrics=metric_list)"
      ],
      "execution_count": 29,
      "outputs": [
        {
          "output_type": "stream",
          "text": [
            "Some weights of the model checkpoint at prajjwal1/bert-small were not used when initializing BertModel: ['cls.predictions.decoder.weight', 'cls.seq_relationship.weight', 'cls.predictions.bias', 'cls.predictions.decoder.bias', 'cls.predictions.transform.LayerNorm.weight', 'cls.predictions.transform.dense.weight', 'cls.predictions.transform.LayerNorm.bias', 'cls.seq_relationship.bias', 'cls.predictions.transform.dense.bias']\n",
            "- This IS expected if you are initializing BertModel from the checkpoint of a model trained on another task or with another architecture (e.g. initializing a BertForSequenceClassification model from a BertForPreTraining model).\n",
            "- This IS NOT expected if you are initializing BertModel from the checkpoint of a model that you expect to be exactly identical (initializing a BertForSequenceClassification model from a BertForSequenceClassification model).\n"
          ],
          "name": "stderr"
        }
      ]
    },
    {
      "cell_type": "code",
      "metadata": {
        "colab": {
          "base_uri": "https://localhost:8080/"
        },
        "id": "Vzqrybl99UTz",
        "outputId": "933828a0-c0d9-4074-ec64-7f17317bbcd9"
      },
      "source": [
        "bert_exp.fit_loader(train_dl, valid_dl)"
      ],
      "execution_count": 30,
      "outputs": [
        {
          "output_type": "stream",
          "text": [
            "\n",
            "Epoch: 1/5\n",
            "500/500 [=========================]- 51s 103ms/step - train_loss: 0.2802 - train_f1_score: 0.9059\n",
            "63/63 [=========================]- 3s 42ms/step - val_loss: 0.3443 - val_f1_score: 0.9044\n",
            "\n",
            "Epoch: 2/5\n",
            "500/500 [=========================]- 52s 105ms/step - train_loss: 0.1432 - train_f1_score: 0.9278\n",
            "63/63 [=========================]- 3s 41ms/step - val_loss: 0.4025 - val_f1_score: 0.9259\n",
            "\n",
            "Epoch: 3/5\n",
            "500/500 [=========================]- 52s 105ms/step - train_loss: 0.0792 - train_f1_score: 0.9415\n",
            "63/63 [=========================]- 3s 42ms/step - val_loss: 0.4427 - val_f1_score: 0.9401\n",
            "\n",
            "Epoch: 4/5\n",
            "500/500 [=========================]- 52s 104ms/step - train_loss: 0.0426 - train_f1_score: 0.9509\n",
            "63/63 [=========================]- 3s 42ms/step - val_loss: 0.5744 - val_f1_score: 0.9493\n",
            "\n",
            "Epoch: 5/5\n",
            "500/500 [=========================]- 52s 104ms/step - train_loss: 0.0274 - train_f1_score: 0.9571\n",
            "63/63 [=========================]- 3s 42ms/step - val_loss: 0.4563 - val_f1_score: 0.9560\n"
          ],
          "name": "stdout"
        }
      ]
    },
    {
      "cell_type": "code",
      "metadata": {
        "id": "uJbdXg7v_hZh"
      },
      "source": [
        "test_df = pd.read_csv(\"/content/drive/MyDrive/Hahakathon/gold-test-27446.csv\")"
      ],
      "execution_count": 31,
      "outputs": []
    },
    {
      "cell_type": "code",
      "metadata": {
        "id": "irxz_ohgfKQZ"
      },
      "source": [
        "test_dl = TextDataloader.from_df(\n",
        "    df=test_df,\n",
        "    input_col=\"text\",\n",
        "    label_cols=None,\n",
        "    tokenizer=tokenizer,\n",
        "    max_len=256,\n",
        ").get_loader(batch_size=16, shuffle = False)"
      ],
      "execution_count": 32,
      "outputs": []
    },
    {
      "cell_type": "code",
      "metadata": {
        "id": "XeuvXdScfSwx"
      },
      "source": [
        "outputs = []\n",
        "for op in bert_exp.predict_on_loader(test_dl = test_dl, path_to_model= \"./bert-small.bin\", device = \"cuda\"):\n",
        "    outputs.extend(torch.argmax(op , dim = 1))"
      ],
      "execution_count": 36,
      "outputs": []
    },
    {
      "cell_type": "code",
      "metadata": {
        "id": "spfI_c4_fj2O",
        "colab": {
          "base_uri": "https://localhost:8080/"
        },
        "outputId": "09ef7378-27be-4f8a-89ea-299cf1e5a540"
      },
      "source": [
        "print(f\"Task 1A-Gold-Test(F1-Score) : {skm.f1_score(test_df.is_humor.values , outputs)}\")"
      ],
      "execution_count": 40,
      "outputs": [
        {
          "output_type": "stream",
          "text": [
            "Task 1A-Gold-Test(F1-Score) : 0.9260143198090692\n"
          ],
          "name": "stdout"
        }
      ]
    }
  ]
}