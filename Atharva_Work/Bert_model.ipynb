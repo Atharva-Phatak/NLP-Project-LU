{
  "nbformat": 4,
  "nbformat_minor": 0,
  "metadata": {
    "colab": {
      "name": "Bert_model.ipynb",
      "provenance": [],
      "collapsed_sections": []
    },
    "kernelspec": {
      "name": "python3",
      "display_name": "Python 3"
    },
    "language_info": {
      "name": "python"
    },
    "accelerator": "GPU",
    "widgets": {
      "application/vnd.jupyter.widget-state+json": {
        "1d8646026368474a997e6b5dc9ea9b5f": {
          "model_module": "@jupyter-widgets/controls",
          "model_name": "HBoxModel",
          "state": {
            "_view_name": "HBoxView",
            "_dom_classes": [],
            "_model_name": "HBoxModel",
            "_view_module": "@jupyter-widgets/controls",
            "_model_module_version": "1.5.0",
            "_view_count": null,
            "_view_module_version": "1.5.0",
            "box_style": "",
            "layout": "IPY_MODEL_9289cc12806a4301bc8f63450da13ed8",
            "_model_module": "@jupyter-widgets/controls",
            "children": [
              "IPY_MODEL_32fdf1b18afc4e60b276adc1d18c18e3",
              "IPY_MODEL_8cb4506c8c62467f87b4d5730031b4b2"
            ]
          }
        },
        "9289cc12806a4301bc8f63450da13ed8": {
          "model_module": "@jupyter-widgets/base",
          "model_name": "LayoutModel",
          "state": {
            "_view_name": "LayoutView",
            "grid_template_rows": null,
            "right": null,
            "justify_content": null,
            "_view_module": "@jupyter-widgets/base",
            "overflow": null,
            "_model_module_version": "1.2.0",
            "_view_count": null,
            "flex_flow": null,
            "width": null,
            "min_width": null,
            "border": null,
            "align_items": null,
            "bottom": null,
            "_model_module": "@jupyter-widgets/base",
            "top": null,
            "grid_column": null,
            "overflow_y": null,
            "overflow_x": null,
            "grid_auto_flow": null,
            "grid_area": null,
            "grid_template_columns": null,
            "flex": null,
            "_model_name": "LayoutModel",
            "justify_items": null,
            "grid_row": null,
            "max_height": null,
            "align_content": null,
            "visibility": null,
            "align_self": null,
            "height": null,
            "min_height": null,
            "padding": null,
            "grid_auto_rows": null,
            "grid_gap": null,
            "max_width": null,
            "order": null,
            "_view_module_version": "1.2.0",
            "grid_template_areas": null,
            "object_position": null,
            "object_fit": null,
            "grid_auto_columns": null,
            "margin": null,
            "display": null,
            "left": null
          }
        },
        "32fdf1b18afc4e60b276adc1d18c18e3": {
          "model_module": "@jupyter-widgets/controls",
          "model_name": "FloatProgressModel",
          "state": {
            "_view_name": "ProgressView",
            "style": "IPY_MODEL_aaadf10398d94b9a8f279e8678375e7a",
            "_dom_classes": [],
            "description": "Downloading: 100%",
            "_model_name": "FloatProgressModel",
            "bar_style": "success",
            "max": 285,
            "_view_module": "@jupyter-widgets/controls",
            "_model_module_version": "1.5.0",
            "value": 285,
            "_view_count": null,
            "_view_module_version": "1.5.0",
            "orientation": "horizontal",
            "min": 0,
            "description_tooltip": null,
            "_model_module": "@jupyter-widgets/controls",
            "layout": "IPY_MODEL_3aad82b9b0cd409a962f79b152a99421"
          }
        },
        "8cb4506c8c62467f87b4d5730031b4b2": {
          "model_module": "@jupyter-widgets/controls",
          "model_name": "HTMLModel",
          "state": {
            "_view_name": "HTMLView",
            "style": "IPY_MODEL_78c2b50cf38f4e1185f7f80eff86b1a4",
            "_dom_classes": [],
            "description": "",
            "_model_name": "HTMLModel",
            "placeholder": "​",
            "_view_module": "@jupyter-widgets/controls",
            "_model_module_version": "1.5.0",
            "value": " 285/285 [00:01&lt;00:00, 151B/s]",
            "_view_count": null,
            "_view_module_version": "1.5.0",
            "description_tooltip": null,
            "_model_module": "@jupyter-widgets/controls",
            "layout": "IPY_MODEL_3b6f70dd7d3049f8839c5bd3e337e5bc"
          }
        },
        "aaadf10398d94b9a8f279e8678375e7a": {
          "model_module": "@jupyter-widgets/controls",
          "model_name": "ProgressStyleModel",
          "state": {
            "_view_name": "StyleView",
            "_model_name": "ProgressStyleModel",
            "description_width": "initial",
            "_view_module": "@jupyter-widgets/base",
            "_model_module_version": "1.5.0",
            "_view_count": null,
            "_view_module_version": "1.2.0",
            "bar_color": null,
            "_model_module": "@jupyter-widgets/controls"
          }
        },
        "3aad82b9b0cd409a962f79b152a99421": {
          "model_module": "@jupyter-widgets/base",
          "model_name": "LayoutModel",
          "state": {
            "_view_name": "LayoutView",
            "grid_template_rows": null,
            "right": null,
            "justify_content": null,
            "_view_module": "@jupyter-widgets/base",
            "overflow": null,
            "_model_module_version": "1.2.0",
            "_view_count": null,
            "flex_flow": null,
            "width": null,
            "min_width": null,
            "border": null,
            "align_items": null,
            "bottom": null,
            "_model_module": "@jupyter-widgets/base",
            "top": null,
            "grid_column": null,
            "overflow_y": null,
            "overflow_x": null,
            "grid_auto_flow": null,
            "grid_area": null,
            "grid_template_columns": null,
            "flex": null,
            "_model_name": "LayoutModel",
            "justify_items": null,
            "grid_row": null,
            "max_height": null,
            "align_content": null,
            "visibility": null,
            "align_self": null,
            "height": null,
            "min_height": null,
            "padding": null,
            "grid_auto_rows": null,
            "grid_gap": null,
            "max_width": null,
            "order": null,
            "_view_module_version": "1.2.0",
            "grid_template_areas": null,
            "object_position": null,
            "object_fit": null,
            "grid_auto_columns": null,
            "margin": null,
            "display": null,
            "left": null
          }
        },
        "78c2b50cf38f4e1185f7f80eff86b1a4": {
          "model_module": "@jupyter-widgets/controls",
          "model_name": "DescriptionStyleModel",
          "state": {
            "_view_name": "StyleView",
            "_model_name": "DescriptionStyleModel",
            "description_width": "",
            "_view_module": "@jupyter-widgets/base",
            "_model_module_version": "1.5.0",
            "_view_count": null,
            "_view_module_version": "1.2.0",
            "_model_module": "@jupyter-widgets/controls"
          }
        },
        "3b6f70dd7d3049f8839c5bd3e337e5bc": {
          "model_module": "@jupyter-widgets/base",
          "model_name": "LayoutModel",
          "state": {
            "_view_name": "LayoutView",
            "grid_template_rows": null,
            "right": null,
            "justify_content": null,
            "_view_module": "@jupyter-widgets/base",
            "overflow": null,
            "_model_module_version": "1.2.0",
            "_view_count": null,
            "flex_flow": null,
            "width": null,
            "min_width": null,
            "border": null,
            "align_items": null,
            "bottom": null,
            "_model_module": "@jupyter-widgets/base",
            "top": null,
            "grid_column": null,
            "overflow_y": null,
            "overflow_x": null,
            "grid_auto_flow": null,
            "grid_area": null,
            "grid_template_columns": null,
            "flex": null,
            "_model_name": "LayoutModel",
            "justify_items": null,
            "grid_row": null,
            "max_height": null,
            "align_content": null,
            "visibility": null,
            "align_self": null,
            "height": null,
            "min_height": null,
            "padding": null,
            "grid_auto_rows": null,
            "grid_gap": null,
            "max_width": null,
            "order": null,
            "_view_module_version": "1.2.0",
            "grid_template_areas": null,
            "object_position": null,
            "object_fit": null,
            "grid_auto_columns": null,
            "margin": null,
            "display": null,
            "left": null
          }
        },
        "b0e23068e432495abf1a713aba5ea726": {
          "model_module": "@jupyter-widgets/controls",
          "model_name": "HBoxModel",
          "state": {
            "_view_name": "HBoxView",
            "_dom_classes": [],
            "_model_name": "HBoxModel",
            "_view_module": "@jupyter-widgets/controls",
            "_model_module_version": "1.5.0",
            "_view_count": null,
            "_view_module_version": "1.5.0",
            "box_style": "",
            "layout": "IPY_MODEL_32f28bc1edef4a21bb85d451d111622b",
            "_model_module": "@jupyter-widgets/controls",
            "children": [
              "IPY_MODEL_7a16f28f1eaa4b04b332b568f80a468d",
              "IPY_MODEL_0ac4fe28fdfd45239af3a5d7700f0513"
            ]
          }
        },
        "32f28bc1edef4a21bb85d451d111622b": {
          "model_module": "@jupyter-widgets/base",
          "model_name": "LayoutModel",
          "state": {
            "_view_name": "LayoutView",
            "grid_template_rows": null,
            "right": null,
            "justify_content": null,
            "_view_module": "@jupyter-widgets/base",
            "overflow": null,
            "_model_module_version": "1.2.0",
            "_view_count": null,
            "flex_flow": null,
            "width": null,
            "min_width": null,
            "border": null,
            "align_items": null,
            "bottom": null,
            "_model_module": "@jupyter-widgets/base",
            "top": null,
            "grid_column": null,
            "overflow_y": null,
            "overflow_x": null,
            "grid_auto_flow": null,
            "grid_area": null,
            "grid_template_columns": null,
            "flex": null,
            "_model_name": "LayoutModel",
            "justify_items": null,
            "grid_row": null,
            "max_height": null,
            "align_content": null,
            "visibility": null,
            "align_self": null,
            "height": null,
            "min_height": null,
            "padding": null,
            "grid_auto_rows": null,
            "grid_gap": null,
            "max_width": null,
            "order": null,
            "_view_module_version": "1.2.0",
            "grid_template_areas": null,
            "object_position": null,
            "object_fit": null,
            "grid_auto_columns": null,
            "margin": null,
            "display": null,
            "left": null
          }
        },
        "7a16f28f1eaa4b04b332b568f80a468d": {
          "model_module": "@jupyter-widgets/controls",
          "model_name": "FloatProgressModel",
          "state": {
            "_view_name": "ProgressView",
            "style": "IPY_MODEL_2bf81fa69c19466581291bdcaf72839f",
            "_dom_classes": [],
            "description": "Downloading: 100%",
            "_model_name": "FloatProgressModel",
            "bar_style": "success",
            "max": 231508,
            "_view_module": "@jupyter-widgets/controls",
            "_model_module_version": "1.5.0",
            "value": 231508,
            "_view_count": null,
            "_view_module_version": "1.5.0",
            "orientation": "horizontal",
            "min": 0,
            "description_tooltip": null,
            "_model_module": "@jupyter-widgets/controls",
            "layout": "IPY_MODEL_56e58ef6cb6b4e9b821ffce0de0f8c81"
          }
        },
        "0ac4fe28fdfd45239af3a5d7700f0513": {
          "model_module": "@jupyter-widgets/controls",
          "model_name": "HTMLModel",
          "state": {
            "_view_name": "HTMLView",
            "style": "IPY_MODEL_3242ba406f6a40f5880b2254b1ad92bb",
            "_dom_classes": [],
            "description": "",
            "_model_name": "HTMLModel",
            "placeholder": "​",
            "_view_module": "@jupyter-widgets/controls",
            "_model_module_version": "1.5.0",
            "value": " 232k/232k [00:01&lt;00:00, 182kB/s]",
            "_view_count": null,
            "_view_module_version": "1.5.0",
            "description_tooltip": null,
            "_model_module": "@jupyter-widgets/controls",
            "layout": "IPY_MODEL_2cf3cea5316f4bacaff811336e216998"
          }
        },
        "2bf81fa69c19466581291bdcaf72839f": {
          "model_module": "@jupyter-widgets/controls",
          "model_name": "ProgressStyleModel",
          "state": {
            "_view_name": "StyleView",
            "_model_name": "ProgressStyleModel",
            "description_width": "initial",
            "_view_module": "@jupyter-widgets/base",
            "_model_module_version": "1.5.0",
            "_view_count": null,
            "_view_module_version": "1.2.0",
            "bar_color": null,
            "_model_module": "@jupyter-widgets/controls"
          }
        },
        "56e58ef6cb6b4e9b821ffce0de0f8c81": {
          "model_module": "@jupyter-widgets/base",
          "model_name": "LayoutModel",
          "state": {
            "_view_name": "LayoutView",
            "grid_template_rows": null,
            "right": null,
            "justify_content": null,
            "_view_module": "@jupyter-widgets/base",
            "overflow": null,
            "_model_module_version": "1.2.0",
            "_view_count": null,
            "flex_flow": null,
            "width": null,
            "min_width": null,
            "border": null,
            "align_items": null,
            "bottom": null,
            "_model_module": "@jupyter-widgets/base",
            "top": null,
            "grid_column": null,
            "overflow_y": null,
            "overflow_x": null,
            "grid_auto_flow": null,
            "grid_area": null,
            "grid_template_columns": null,
            "flex": null,
            "_model_name": "LayoutModel",
            "justify_items": null,
            "grid_row": null,
            "max_height": null,
            "align_content": null,
            "visibility": null,
            "align_self": null,
            "height": null,
            "min_height": null,
            "padding": null,
            "grid_auto_rows": null,
            "grid_gap": null,
            "max_width": null,
            "order": null,
            "_view_module_version": "1.2.0",
            "grid_template_areas": null,
            "object_position": null,
            "object_fit": null,
            "grid_auto_columns": null,
            "margin": null,
            "display": null,
            "left": null
          }
        },
        "3242ba406f6a40f5880b2254b1ad92bb": {
          "model_module": "@jupyter-widgets/controls",
          "model_name": "DescriptionStyleModel",
          "state": {
            "_view_name": "StyleView",
            "_model_name": "DescriptionStyleModel",
            "description_width": "",
            "_view_module": "@jupyter-widgets/base",
            "_model_module_version": "1.5.0",
            "_view_count": null,
            "_view_module_version": "1.2.0",
            "_model_module": "@jupyter-widgets/controls"
          }
        },
        "2cf3cea5316f4bacaff811336e216998": {
          "model_module": "@jupyter-widgets/base",
          "model_name": "LayoutModel",
          "state": {
            "_view_name": "LayoutView",
            "grid_template_rows": null,
            "right": null,
            "justify_content": null,
            "_view_module": "@jupyter-widgets/base",
            "overflow": null,
            "_model_module_version": "1.2.0",
            "_view_count": null,
            "flex_flow": null,
            "width": null,
            "min_width": null,
            "border": null,
            "align_items": null,
            "bottom": null,
            "_model_module": "@jupyter-widgets/base",
            "top": null,
            "grid_column": null,
            "overflow_y": null,
            "overflow_x": null,
            "grid_auto_flow": null,
            "grid_area": null,
            "grid_template_columns": null,
            "flex": null,
            "_model_name": "LayoutModel",
            "justify_items": null,
            "grid_row": null,
            "max_height": null,
            "align_content": null,
            "visibility": null,
            "align_self": null,
            "height": null,
            "min_height": null,
            "padding": null,
            "grid_auto_rows": null,
            "grid_gap": null,
            "max_width": null,
            "order": null,
            "_view_module_version": "1.2.0",
            "grid_template_areas": null,
            "object_position": null,
            "object_fit": null,
            "grid_auto_columns": null,
            "margin": null,
            "display": null,
            "left": null
          }
        }
      }
    }
  },
  "cells": [
    {
      "cell_type": "code",
      "metadata": {
        "colab": {
          "base_uri": "https://localhost:8080/"
        },
        "id": "X7ulTrpO-QNz",
        "outputId": "fa211a1c-c142-48cf-83f3-593e5b7e8c7e"
      },
      "source": [
        "from google.colab import drive\n",
        "drive.mount('/content/drive')"
      ],
      "execution_count": 1,
      "outputs": [
        {
          "output_type": "stream",
          "text": [
            "Mounted at /content/drive\n"
          ],
          "name": "stdout"
        }
      ]
    },
    {
      "cell_type": "code",
      "metadata": {
        "colab": {
          "base_uri": "https://localhost:8080/"
        },
        "id": "94_tqOGq8MEZ",
        "outputId": "aab0d9db-056b-48b3-dd88-87f0a43a41dd"
      },
      "source": [
        "!pip install -qq transformers\n",
        "!pip install -qq torchflare\n"
      ],
      "execution_count": 2,
      "outputs": [
        {
          "output_type": "stream",
          "text": [
            "\u001b[K     |████████████████████████████████| 2.5MB 7.6MB/s \n",
            "\u001b[K     |████████████████████████████████| 901kB 51.2MB/s \n",
            "\u001b[K     |████████████████████████████████| 3.3MB 49.7MB/s \n",
            "\u001b[K     |████████████████████████████████| 92kB 5.7MB/s \n",
            "\u001b[K     |████████████████████████████████| 735.5MB 24kB/s \n",
            "\u001b[K     |████████████████████████████████| 51.0MB 116kB/s \n",
            "\u001b[K     |████████████████████████████████| 17.3MB 333kB/s \n",
            "\u001b[K     |████████████████████████████████| 15.3MB 341kB/s \n",
            "\u001b[K     |████████████████████████████████| 10.3MB 176kB/s \n",
            "\u001b[K     |████████████████████████████████| 71kB 10.9MB/s \n",
            "\u001b[K     |████████████████████████████████| 3.0MB 50.9MB/s \n",
            "\u001b[K     |████████████████████████████████| 102kB 9.6MB/s \n",
            "\u001b[K     |████████████████████████████████| 9.9MB 45.6MB/s \n",
            "\u001b[K     |████████████████████████████████| 22.3MB 1.3MB/s \n",
            "\u001b[K     |████████████████████████████████| 38.2MB 88kB/s \n",
            "\u001b[31mERROR: torchtext 0.10.0 has requirement torch==1.9.0, but you'll have torch 1.8.0 which is incompatible.\u001b[0m\n",
            "\u001b[31mERROR: tensorflow 2.5.0 has requirement numpy~=1.19.2, but you'll have numpy 1.20.3 which is incompatible.\u001b[0m\n",
            "\u001b[31mERROR: google-colab 1.0.0 has requirement pandas~=1.1.0; python_version >= \"3.0\", but you'll have pandas 1.2.5 which is incompatible.\u001b[0m\n",
            "\u001b[31mERROR: google-colab 1.0.0 has requirement requests~=2.23.0, but you'll have requests 2.24.0 which is incompatible.\u001b[0m\n",
            "\u001b[31mERROR: datascience 0.10.6 has requirement folium==0.2.1, but you'll have folium 0.8.3 which is incompatible.\u001b[0m\n",
            "\u001b[?25h"
          ],
          "name": "stdout"
        }
      ]
    },
    {
      "cell_type": "code",
      "metadata": {
        "id": "YnxCml7Y8b4X"
      },
      "source": [
        "import torchflare\n",
        "import re\n",
        "import torchflare.callbacks as cbs\n",
        "import pandas as pd\n",
        "import transformers\n",
        "import torch\n",
        "import sklearn.metrics as skm\n",
        "from torchflare.experiments import Experiment, ModelConfig\n",
        "import torchflare.criterion as crit\n",
        "from torchflare.datasets import TextDataloader\n",
        "from torchflare.metrics import MetricMeter, _BaseMetric\n",
        "import pickle"
      ],
      "execution_count": 17,
      "outputs": []
    },
    {
      "cell_type": "code",
      "metadata": {
        "id": "M-kt0PLI8lom"
      },
      "source": [
        "def remove_emoji(string):\n",
        "    emoji_pattern = re.compile(\n",
        "        \"[\"\n",
        "        u\"\\U0001F600-\\U0001F64F\"  # emoticons\n",
        "        u\"\\U0001F300-\\U0001F5FF\"  # symbols & pictographs\n",
        "        u\"\\U0001F680-\\U0001F6FF\"  # transport & map symbols\n",
        "        u\"\\U0001F1E0-\\U0001F1FF\"  # flags (iOS)\n",
        "        u\"\\U00002702-\\U000027B0\"\n",
        "        u\"\\U000024C2-\\U0001F251\"\n",
        "        \"]+\",\n",
        "        flags=re.UNICODE,\n",
        "    )\n",
        "    return emoji_pattern.sub(r\"\", string)"
      ],
      "execution_count": 2,
      "outputs": []
    },
    {
      "cell_type": "code",
      "metadata": {
        "id": "Et4QQF5x81t6"
      },
      "source": [
        "def apply_preprocessing(df):\n",
        "    df.text = df.text.apply(lambda x: x.lower())\n",
        "    df.text = df.text.apply(\n",
        "        lambda x: re.sub(r\"^https?:\\/\\/.*[\\r\\n]*\", \"\", x, flags=re.MULTILINE)\n",
        "    )\n",
        "    df.text = df.text.apply(lambda x: remove_emoji(x))\n",
        "    return df "
      ],
      "execution_count": 3,
      "outputs": []
    },
    {
      "cell_type": "code",
      "metadata": {
        "id": "RPKzFXVp8v_p"
      },
      "source": [
        "train_df = pd.read_csv(\"/content/drive/MyDrive/Hahakathon/train.csv\")\n",
        "valid_df = pd.read_csv(\"/content/drive/MyDrive/Hahakathon/dev.csv\")"
      ],
      "execution_count": 4,
      "outputs": []
    },
    {
      "cell_type": "code",
      "metadata": {
        "id": "KaAMunLj8ny-"
      },
      "source": [
        "#Change Backbone name here.\n",
        "BACKBONE_NAME = \"prajjwal1/bert-tiny\" "
      ],
      "execution_count": 43,
      "outputs": []
    },
    {
      "cell_type": "code",
      "metadata": {
        "colab": {
          "base_uri": "https://localhost:8080/",
          "height": 116,
          "referenced_widgets": [
            "1d8646026368474a997e6b5dc9ea9b5f",
            "9289cc12806a4301bc8f63450da13ed8",
            "32fdf1b18afc4e60b276adc1d18c18e3",
            "8cb4506c8c62467f87b4d5730031b4b2",
            "aaadf10398d94b9a8f279e8678375e7a",
            "3aad82b9b0cd409a962f79b152a99421",
            "78c2b50cf38f4e1185f7f80eff86b1a4",
            "3b6f70dd7d3049f8839c5bd3e337e5bc",
            "b0e23068e432495abf1a713aba5ea726",
            "32f28bc1edef4a21bb85d451d111622b",
            "7a16f28f1eaa4b04b332b568f80a468d",
            "0ac4fe28fdfd45239af3a5d7700f0513",
            "2bf81fa69c19466581291bdcaf72839f",
            "56e58ef6cb6b4e9b821ffce0de0f8c81",
            "3242ba406f6a40f5880b2254b1ad92bb",
            "2cf3cea5316f4bacaff811336e216998"
          ]
        },
        "id": "upnU40Ob9GQg",
        "outputId": "29d0b5db-990d-4795-bfbb-282acb15024f"
      },
      "source": [
        "tokenizer = transformers.AutoTokenizer.from_pretrained(BACKBONE_NAME)"
      ],
      "execution_count": 44,
      "outputs": [
        {
          "output_type": "display_data",
          "data": {
            "application/vnd.jupyter.widget-view+json": {
              "model_id": "1d8646026368474a997e6b5dc9ea9b5f",
              "version_minor": 0,
              "version_major": 2
            },
            "text/plain": [
              "HBox(children=(FloatProgress(value=0.0, description='Downloading', max=285.0, style=ProgressStyle(description_…"
            ]
          },
          "metadata": {
            "tags": []
          }
        },
        {
          "output_type": "stream",
          "text": [
            "\n"
          ],
          "name": "stdout"
        },
        {
          "output_type": "display_data",
          "data": {
            "application/vnd.jupyter.widget-view+json": {
              "model_id": "b0e23068e432495abf1a713aba5ea726",
              "version_minor": 0,
              "version_major": 2
            },
            "text/plain": [
              "HBox(children=(FloatProgress(value=0.0, description='Downloading', max=231508.0, style=ProgressStyle(descripti…"
            ]
          },
          "metadata": {
            "tags": []
          }
        },
        {
          "output_type": "stream",
          "text": [
            "\n"
          ],
          "name": "stdout"
        }
      ]
    },
    {
      "cell_type": "code",
      "metadata": {
        "id": "rNPMjpEy9Fl_"
      },
      "source": [
        "train_dl = TextDataloader.from_df(\n",
        "    df=train_df,\n",
        "    input_col=\"text\",\n",
        "    label_cols=\"is_humor\",\n",
        "    tokenizer=tokenizer,\n",
        "    max_len=256,\n",
        ").get_loader(batch_size=16, shuffle=True)\n",
        "\n",
        "valid_dl = TextDataloader.from_df(\n",
        "    df=valid_df,\n",
        "    input_col=\"text\",\n",
        "    label_cols=\"is_humor\",\n",
        "    tokenizer=tokenizer,\n",
        "    max_len=256,\n",
        ").get_loader(batch_size=16, shuffle = False)"
      ],
      "execution_count": 45,
      "outputs": []
    },
    {
      "cell_type": "code",
      "metadata": {
        "id": "8EDIVYgU9I7L"
      },
      "source": [
        "class SklearnF1(MetricMeter, _BaseMetric):\n",
        "    def __init__(self):\n",
        "\n",
        "        self.f1 = skm.f1_score\n",
        "        self._outputs = None\n",
        "        self._targets = None\n",
        "        self.reset()\n",
        "\n",
        "    def handle(self):\n",
        "        return self.f1.__name__.lower()\n",
        "\n",
        "    def accumulate(self, outputs: torch.Tensor, targets: torch.Tensor):\n",
        "        \"\"\"Method to accumulate the outputs and targets.\n",
        "        Args:\n",
        "            outputs(torch.Tensor) : raw logits from the network.\n",
        "            targets(torch.Tensor) : Ground truth targets\n",
        "        \"\"\"\n",
        "        outputs, targets = self.detach_tensor(outputs), self.detach_tensor(targets)\n",
        "        outputs = torch.argmax(outputs, dim=1)\n",
        "        # print(outputs)\n",
        "        self._outputs.append(outputs)\n",
        "        self._targets.append(targets)\n",
        "\n",
        "    def reset(self):\n",
        "        \"\"\"Resets the accumulation lists.\"\"\"\n",
        "        self._outputs = []\n",
        "        self._targets = []\n",
        "\n",
        "    @property\n",
        "    def value(self):\n",
        "\n",
        "        outputs = torch.cat(self._outputs)\n",
        "        targets = torch.cat(self._targets)\n",
        "        f1_score = self.f1(targets.numpy(), outputs.numpy())\n",
        "        return torch.tensor(f1_score)"
      ],
      "execution_count": 48,
      "outputs": []
    },
    {
      "cell_type": "code",
      "metadata": {
        "id": "-ocGqapi9Lrf"
      },
      "source": [
        "class BackBoneModel(torch.nn.Module):\n",
        "    def __init__(self, out_features, model_path):\n",
        "        super(BackBoneModel, self).__init__()\n",
        "        self.model = transformers.AutoModel.from_pretrained(\n",
        "            model_path, return_dict=False\n",
        "        )\n",
        "        in_features = self.model.pooler.dense.out_features\n",
        "        self.linear = torch.nn.Linear(in_features, out_features)\n",
        "        #self.dropout = torch.nn.Dropout(0.2)\n",
        "\n",
        "    def forward(self, x):\n",
        "\n",
        "        _, o_2 = self.model(**x)\n",
        "        #op = op.last_hidden_state[:, 0]\n",
        "        #op = self.dropout(o_2)\n",
        "        op = self.linear(o_2)\n",
        "        return op"
      ],
      "execution_count": 64,
      "outputs": []
    },
    {
      "cell_type": "code",
      "metadata": {
        "id": "Z8FNk-bpoGV2"
      },
      "source": [
        "@cbs.on_experiment_end(order = cbs.CallbackOrder.EXTERNAL)\n",
        "def save_pickle_experiment(experiment : \"Experiment\"):\n",
        "    prefix = BACKBONE_NAME.split(\"/\")[1]\n",
        "    pickle.dump(experiment.history , open(f\"{prefix}-experiment.pkl\" , \"wb\"))"
      ],
      "execution_count": 65,
      "outputs": []
    },
    {
      "cell_type": "code",
      "metadata": {
        "id": "FWye-vvE9PFz"
      },
      "source": [
        "config = ModelConfig(\n",
        "    nn_module=BackBoneModel,\n",
        "    module_params={\"out_features\": 2, \"model_path\": BACKBONE_NAME},\n",
        "    optimizer=\"AdamW\",\n",
        "    optimizer_params={\"lr\": 1e-5, \"weight_decay\":1e-3},\n",
        "    criterion=\"cross_entropy\",\n",
        ")\n",
        "callbacks = [\n",
        "    cbs.ModelCheckpoint(\n",
        "        file_name=\"bert-tiny.bin\",\n",
        "        save_dir=\"./\",\n",
        "        mode=\"max\",\n",
        "        monitor=\"val_f1_score\",\n",
        "    ),\n",
        "    cbs.CosineAnnealingWarmRestarts(T_0=1),\n",
        "    save_pickle_experiment\n",
        "]\n",
        "metric_list = [SklearnF1()]"
      ],
      "execution_count": 66,
      "outputs": []
    },
    {
      "cell_type": "code",
      "metadata": {
        "id": "LS_2DXTH9RML"
      },
      "source": [
        "bert_exp = Experiment(num_epochs=5, seed=42, fp16=True, device=\"cuda\")"
      ],
      "execution_count": 67,
      "outputs": []
    },
    {
      "cell_type": "code",
      "metadata": {
        "colab": {
          "base_uri": "https://localhost:8080/"
        },
        "id": "6kqUnBr39T6L",
        "outputId": "e3679781-7bf8-42d9-b1a0-702e60b6a387"
      },
      "source": [
        "bert_exp.compile_experiment(model_config=config, callbacks=callbacks, metrics=metric_list)"
      ],
      "execution_count": 68,
      "outputs": [
        {
          "output_type": "stream",
          "text": [
            "Some weights of the model checkpoint at prajjwal1/bert-tiny were not used when initializing BertModel: ['cls.seq_relationship.bias', 'cls.predictions.transform.LayerNorm.weight', 'cls.predictions.transform.dense.bias', 'cls.predictions.bias', 'cls.seq_relationship.weight', 'cls.predictions.decoder.weight', 'cls.predictions.decoder.bias', 'cls.predictions.transform.LayerNorm.bias', 'cls.predictions.transform.dense.weight']\n",
            "- This IS expected if you are initializing BertModel from the checkpoint of a model trained on another task or with another architecture (e.g. initializing a BertForSequenceClassification model from a BertForPreTraining model).\n",
            "- This IS NOT expected if you are initializing BertModel from the checkpoint of a model that you expect to be exactly identical (initializing a BertForSequenceClassification model from a BertForSequenceClassification model).\n"
          ],
          "name": "stderr"
        }
      ]
    },
    {
      "cell_type": "code",
      "metadata": {
        "colab": {
          "base_uri": "https://localhost:8080/"
        },
        "id": "Vzqrybl99UTz",
        "outputId": "cd704cec-e73f-4820-bd1b-e3fc5bbcf510"
      },
      "source": [
        "bert_exp.fit_loader(train_dl, valid_dl)"
      ],
      "execution_count": 69,
      "outputs": [
        {
          "output_type": "stream",
          "text": [
            "\n",
            "Epoch: 1/5\n",
            "500/500 [=========================]- 13s 26ms/step - train_loss: 0.5869 - train_f1_score: 0.7945\n",
            "63/63 [=========================]- 1s 10ms/step - val_loss: 0.5070 - val_f1_score: 0.7990\n",
            "\n",
            "Epoch: 2/5\n",
            "500/500 [=========================]- 11s 21ms/step - train_loss: 0.4011 - train_f1_score: 0.8303\n",
            "63/63 [=========================]- 1s 10ms/step - val_loss: 0.4158 - val_f1_score: 0.8311\n",
            "\n",
            "Epoch: 3/5\n",
            "500/500 [=========================]- 10s 20ms/step - train_loss: 0.3268 - train_f1_score: 0.8489\n",
            "63/63 [=========================]- 1s 10ms/step - val_loss: 0.3927 - val_f1_score: 0.8496\n",
            "\n",
            "Epoch: 4/5\n",
            "500/500 [=========================]- 11s 21ms/step - train_loss: 0.2840 - train_f1_score: 0.8622\n",
            "63/63 [=========================]- 1s 9ms/step - val_loss: 0.4116 - val_f1_score: 0.8625\n",
            "\n",
            "Epoch: 5/5\n",
            "500/500 [=========================]- 10s 20ms/step - train_loss: 0.2657 - train_f1_score: 0.8717\n",
            "63/63 [=========================]- 1s 9ms/step - val_loss: 0.3664 - val_f1_score: 0.8719\n"
          ],
          "name": "stdout"
        }
      ]
    },
    {
      "cell_type": "code",
      "metadata": {
        "id": "uJbdXg7v_hZh"
      },
      "source": [
        "test_df = pd.read_csv(\"/content/drive/MyDrive/Hahakathon/gold-test-27446.csv\")"
      ],
      "execution_count": 70,
      "outputs": []
    },
    {
      "cell_type": "code",
      "metadata": {
        "id": "irxz_ohgfKQZ"
      },
      "source": [
        "test_dl = TextDataloader.from_df(\n",
        "    df=test_df,\n",
        "    input_col=\"text\",\n",
        "    label_cols=None,\n",
        "    tokenizer=tokenizer,\n",
        "    max_len=256,\n",
        ").get_loader(batch_size=16, shuffle = False)"
      ],
      "execution_count": 71,
      "outputs": []
    },
    {
      "cell_type": "code",
      "metadata": {
        "id": "XeuvXdScfSwx"
      },
      "source": [
        "outputs = []\n",
        "for op in bert_exp.predict_on_loader(test_dl = test_dl, path_to_model= \"/content/bert-small.bin\", device = \"cuda\"):\n",
        "    outputs.extend(torch.argmax(op , dim = 1))"
      ],
      "execution_count": 72,
      "outputs": []
    },
    {
      "cell_type": "code",
      "metadata": {
        "id": "spfI_c4_fj2O"
      },
      "source": [
        "test_f1 = skm.f1_score(test_df.is_humor.values , outputs)"
      ],
      "execution_count": 73,
      "outputs": []
    },
    {
      "cell_type": "code",
      "metadata": {
        "id": "lDqsgYhthcMY",
        "colab": {
          "base_uri": "https://localhost:8080/"
        },
        "outputId": "db8cb44b-b6f3-441c-8f62-909088582ce7"
      },
      "source": [
        "test_f1"
      ],
      "execution_count": 74,
      "outputs": [
        {
          "output_type": "execute_result",
          "data": {
            "text/plain": [
              "0.8717532467532467"
            ]
          },
          "metadata": {
            "tags": []
          },
          "execution_count": 74
        }
      ]
    },
    {
      "cell_type": "code",
      "metadata": {
        "id": "4fhTPc_drLuT"
      },
      "source": [
        ""
      ],
      "execution_count": null,
      "outputs": []
    }
  ]
}